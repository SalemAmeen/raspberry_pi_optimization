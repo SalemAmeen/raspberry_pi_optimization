{
  "nbformat": 4,
  "nbformat_minor": 0,
  "metadata": {
    "colab": {
      "name": "xnn- cats-vs-dogs-mobilenet-transfer-learning",
      "provenance": [],
      "collapsed_sections": [],
      "machine_shape": "hm"
    },
    "kernelspec": {
      "name": "python3",
      "display_name": "Python 3"
    },
    "accelerator": "GPU",
    "gpuClass": "standard"
  },
  "cells": [
    {
      "cell_type": "markdown",
      "metadata": {
        "id": "JFKpTkr4cjMN"
      },
      "source": [
        "# **Classifying Cats or Dogs using Transfer Learning**\n",
        "  In this notebook,we will classify cats or dogs using a Pretrained MobileNet model."
      ]
    },
    {
      "cell_type": "markdown",
      "metadata": {
        "id": "_h0PGiiHSsO0"
      },
      "source": [
        "Install the required Packages!"
      ]
    },
    {
      "cell_type": "code",
      "metadata": {
        "id": "EpOwEDifOSs7",
        "outputId": "a68b8eb2-5888-42cf-fe9b-b4435e45a51d",
        "colab": {
          "base_uri": "https://localhost:8080/"
        }
      },
      "source": [
        "!pip install -U tensorflow_datasets"
      ],
      "execution_count": 1,
      "outputs": [
        {
          "output_type": "stream",
          "name": "stdout",
          "text": [
            "Looking in indexes: https://pypi.org/simple, https://us-python.pkg.dev/colab-wheels/public/simple/\n",
            "Requirement already satisfied: tensorflow_datasets in /usr/local/lib/python3.7/dist-packages (4.0.1)\n",
            "Collecting tensorflow_datasets\n",
            "  Downloading tensorflow_datasets-4.6.0-py3-none-any.whl (4.3 MB)\n",
            "\u001b[K     |████████████████████████████████| 4.3 MB 4.2 MB/s \n",
            "\u001b[?25hRequirement already satisfied: protobuf>=3.12.2 in /usr/local/lib/python3.7/dist-packages (from tensorflow_datasets) (3.17.3)\n",
            "Requirement already satisfied: numpy in /usr/local/lib/python3.7/dist-packages (from tensorflow_datasets) (1.21.6)\n",
            "Requirement already satisfied: dill in /usr/local/lib/python3.7/dist-packages (from tensorflow_datasets) (0.3.5.1)\n",
            "Requirement already satisfied: tqdm in /usr/local/lib/python3.7/dist-packages (from tensorflow_datasets) (4.64.0)\n",
            "Requirement already satisfied: importlib-resources in /usr/local/lib/python3.7/dist-packages (from tensorflow_datasets) (5.7.1)\n",
            "Requirement already satisfied: six in /usr/local/lib/python3.7/dist-packages (from tensorflow_datasets) (1.15.0)\n",
            "Collecting etils[epath]\n",
            "  Downloading etils-0.6.0-py3-none-any.whl (98 kB)\n",
            "\u001b[K     |████████████████████████████████| 98 kB 8.0 MB/s \n",
            "\u001b[?25hRequirement already satisfied: absl-py in /usr/local/lib/python3.7/dist-packages (from tensorflow_datasets) (1.1.0)\n",
            "Requirement already satisfied: promise in /usr/local/lib/python3.7/dist-packages (from tensorflow_datasets) (2.3)\n",
            "Requirement already satisfied: tensorflow-metadata in /usr/local/lib/python3.7/dist-packages (from tensorflow_datasets) (1.8.0)\n",
            "Requirement already satisfied: typing-extensions in /usr/local/lib/python3.7/dist-packages (from tensorflow_datasets) (4.1.1)\n",
            "Requirement already satisfied: termcolor in /usr/local/lib/python3.7/dist-packages (from tensorflow_datasets) (1.1.0)\n",
            "Collecting toml\n",
            "  Downloading toml-0.10.2-py2.py3-none-any.whl (16 kB)\n",
            "Requirement already satisfied: requests>=2.19.0 in /usr/local/lib/python3.7/dist-packages (from tensorflow_datasets) (2.23.0)\n",
            "Requirement already satisfied: certifi>=2017.4.17 in /usr/local/lib/python3.7/dist-packages (from requests>=2.19.0->tensorflow_datasets) (2022.6.15)\n",
            "Requirement already satisfied: urllib3!=1.25.0,!=1.25.1,<1.26,>=1.21.1 in /usr/local/lib/python3.7/dist-packages (from requests>=2.19.0->tensorflow_datasets) (1.24.3)\n",
            "Requirement already satisfied: idna<3,>=2.5 in /usr/local/lib/python3.7/dist-packages (from requests>=2.19.0->tensorflow_datasets) (2.10)\n",
            "Requirement already satisfied: chardet<4,>=3.0.2 in /usr/local/lib/python3.7/dist-packages (from requests>=2.19.0->tensorflow_datasets) (3.0.4)\n",
            "Requirement already satisfied: zipp in /usr/local/lib/python3.7/dist-packages (from etils[epath]->tensorflow_datasets) (3.8.0)\n",
            "Requirement already satisfied: googleapis-common-protos<2,>=1.52.0 in /usr/local/lib/python3.7/dist-packages (from tensorflow-metadata->tensorflow_datasets) (1.56.2)\n",
            "Installing collected packages: etils, toml, tensorflow-datasets\n",
            "  Attempting uninstall: tensorflow-datasets\n",
            "    Found existing installation: tensorflow-datasets 4.0.1\n",
            "    Uninstalling tensorflow-datasets-4.0.1:\n",
            "      Successfully uninstalled tensorflow-datasets-4.0.1\n",
            "Successfully installed etils-0.6.0 tensorflow-datasets-4.6.0 toml-0.10.2\n"
          ]
        }
      ]
    },
    {
      "cell_type": "markdown",
      "metadata": {
        "id": "6IeyLyOgTbrE"
      },
      "source": [
        "Import the necessary Packages that are required"
      ]
    },
    {
      "cell_type": "code",
      "metadata": {
        "id": "1tSsVB9aOy2B"
      },
      "source": [
        "import time\n",
        "import numpy as np\n",
        "import matplotlib.pylab as plt\n",
        "import os\n",
        "\n",
        "import tensorflow as tf\n",
        "import tensorflow_datasets as tfds\n",
        "tfds.disable_progress_bar()\n",
        "import tempfile\n",
        "from gc import callbacks\n",
        "from tensorflow.keras.utils import plot_model\n",
        "import os\n",
        "import time\n",
        "from PIL import Image\n",
        "import PIL.Image\n",
        "import pandas as pd\n",
        "from sklearn.metrics import accuracy_score\n",
        "from google.colab import files\n",
        "\n",
        "from tensorflow.keras import layers"
      ],
      "execution_count": 2,
      "outputs": []
    },
    {
      "cell_type": "markdown",
      "metadata": {
        "id": "94N2gFLQT5AK"
      },
      "source": [
        "**Loading the datasets**"
      ]
    },
    {
      "cell_type": "markdown",
      "metadata": {
        "id": "T_NXoEGkTpWs"
      },
      "source": [
        "\n",
        "Load the data and split it into train and validation sets!!"
      ]
    },
    {
      "cell_type": "code",
      "metadata": {
        "id": "gq1SgeczPggQ",
        "colab": {
          "base_uri": "https://localhost:8080/"
        },
        "outputId": "5bb7d57f-8e2c-43a0-b666-585d06d80c1b"
      },
      "source": [
        "(train_examples, validation_examples), info = tfds.load(\n",
        "    'cats_vs_dogs',\n",
        "    split = ('train[:80%]', 'train[80%:]'),\n",
        "    with_info = True,\n",
        "    as_supervised = True\n",
        ")"
      ],
      "execution_count": 3,
      "outputs": [
        {
          "output_type": "stream",
          "name": "stdout",
          "text": [
            "\u001b[1mDownloading and preparing dataset 786.68 MiB (download: 786.68 MiB, generated: Unknown size, total: 786.68 MiB) to ~/tensorflow_datasets/cats_vs_dogs/4.0.0...\u001b[0m\n"
          ]
        },
        {
          "output_type": "stream",
          "name": "stderr",
          "text": [
            "WARNING:absl:1738 images were corrupted and were skipped\n"
          ]
        },
        {
          "output_type": "stream",
          "name": "stdout",
          "text": [
            "\u001b[1mDataset cats_vs_dogs downloaded and prepared to ~/tensorflow_datasets/cats_vs_dogs/4.0.0. Subsequent calls will reuse this data.\u001b[0m\n"
          ]
        }
      ]
    },
    {
      "cell_type": "code",
      "source": [
        "# Get the class names\n",
        "num_classes = info.features[\"label\"].num_classes\n",
        "class_names = info.features[\"label\"].names\n",
        "num_classes, class_names"
      ],
      "metadata": {
        "colab": {
          "base_uri": "https://localhost:8080/"
        },
        "id": "TGHxYH3Ca3J7",
        "outputId": "13e0f87b-a8bf-449e-a873-014690f98ed2"
      },
      "execution_count": 4,
      "outputs": [
        {
          "output_type": "execute_result",
          "data": {
            "text/plain": [
              "(2, ['cat', 'dog'])"
            ]
          },
          "metadata": {},
          "execution_count": 4
        }
      ]
    },
    {
      "cell_type": "markdown",
      "metadata": {
        "id": "phg0nnj2UG8c"
      },
      "source": [
        "# **Preprocessing the data**"
      ]
    },
    {
      "cell_type": "code",
      "metadata": {
        "id": "5lB489mySjfG"
      },
      "source": [
        "def format_image(image, label):\n",
        "  image = tf.image.resize(image, IMG_SIZE)/255.0\n",
        "  return image,label\n",
        "\n",
        "num_examples = info.splits['train'].num_examples\n",
        "\n",
        "BATCH_SIZE = 16\n",
        "IMG_SIZE = (224, 224)\n",
        "\n",
        "train_batches = train_examples.cache().shuffle(num_examples//4).map(format_image).batch(BATCH_SIZE).prefetch(1)\n",
        "validation_batches = validation_examples.map(format_image).batch(BATCH_SIZE).prefetch(1)"
      ],
      "execution_count": 5,
      "outputs": []
    },
    {
      "cell_type": "markdown",
      "metadata": {
        "id": "DkEZFf2TUTN5"
      },
      "source": [
        "To use a pretrained model,we should install the tensorflow-hub package,in this we are going to use Google's mobilenet for getting better results"
      ]
    },
    {
      "cell_type": "code",
      "metadata": {
        "id": "DwcSiANiV82A",
        "outputId": "0c1de6f0-6a85-4186-f2fb-eb18015a25e0",
        "colab": {
          "base_uri": "https://localhost:8080/"
        }
      },
      "source": [
        "!pip install tensorflow_hub"
      ],
      "execution_count": 6,
      "outputs": [
        {
          "output_type": "stream",
          "name": "stdout",
          "text": [
            "Looking in indexes: https://pypi.org/simple, https://us-python.pkg.dev/colab-wheels/public/simple/\n",
            "Requirement already satisfied: tensorflow_hub in /usr/local/lib/python3.7/dist-packages (0.12.0)\n",
            "Requirement already satisfied: numpy>=1.12.0 in /usr/local/lib/python3.7/dist-packages (from tensorflow_hub) (1.21.6)\n",
            "Requirement already satisfied: protobuf>=3.8.0 in /usr/local/lib/python3.7/dist-packages (from tensorflow_hub) (3.17.3)\n",
            "Requirement already satisfied: six>=1.9 in /usr/local/lib/python3.7/dist-packages (from protobuf>=3.8.0->tensorflow_hub) (1.15.0)\n"
          ]
        }
      ]
    },
    {
      "cell_type": "markdown",
      "metadata": {
        "id": "3bUnK4ACUjKC"
      },
      "source": [
        "# **Ge the MobileNet pretrained layer!**"
      ]
    },
    {
      "cell_type": "code",
      "source": [
        "feature_extractor = tf.keras.applications.MobileNetV2(input_shape=(IMG_SIZE + (3,)), include_top=False)"
      ],
      "metadata": {
        "id": "0IWK89k_yFnz",
        "colab": {
          "base_uri": "https://localhost:8080/"
        },
        "outputId": "476fbbdc-e4c3-4842-88b2-47e124bbe71c"
      },
      "execution_count": 7,
      "outputs": [
        {
          "output_type": "stream",
          "name": "stdout",
          "text": [
            "Downloading data from https://storage.googleapis.com/tensorflow/keras-applications/mobilenet_v2/mobilenet_v2_weights_tf_dim_ordering_tf_kernels_1.0_224_no_top.h5\n",
            "9412608/9406464 [==============================] - 0s 0us/step\n",
            "9420800/9406464 [==============================] - 0s 0us/step\n"
          ]
        }
      ]
    },
    {
      "cell_type": "code",
      "metadata": {
        "id": "10i5fGyDZkMJ"
      },
      "source": [
        "feature_extractor.trainable = False"
      ],
      "execution_count": 8,
      "outputs": []
    },
    {
      "cell_type": "markdown",
      "metadata": {
        "id": "i1vMNuO6VAZi"
      },
      "source": [
        "Train the pretrained model!!,just change the output layer,in this we are classifying cats vs dogs, as it is a binary classification,there are only two output layers"
      ]
    },
    {
      "cell_type": "code",
      "metadata": {
        "id": "aW9zuc_TZ9od",
        "outputId": "f3d7f000-700e-4d20-f316-e68ea137f0b9",
        "colab": {
          "base_uri": "https://localhost:8080/"
        }
      },
      "source": [
        "model = tf.keras.Sequential([\n",
        "                             feature_extractor,\n",
        "                             tf.keras.layers.GlobalMaxPooling2D(),\n",
        "                             layers.Dense(2, activation=\"softmax\")                           \n",
        "], name=\"cats_vs_dogs\")\n",
        "model.summary()"
      ],
      "execution_count": 9,
      "outputs": [
        {
          "output_type": "stream",
          "name": "stdout",
          "text": [
            "Model: \"cats_vs_dogs\"\n",
            "_________________________________________________________________\n",
            " Layer (type)                Output Shape              Param #   \n",
            "=================================================================\n",
            " mobilenetv2_1.00_224 (Funct  (None, 7, 7, 1280)       2257984   \n",
            " ional)                                                          \n",
            "                                                                 \n",
            " global_max_pooling2d (Globa  (None, 1280)             0         \n",
            " lMaxPooling2D)                                                  \n",
            "                                                                 \n",
            " dense (Dense)               (None, 2)                 2562      \n",
            "                                                                 \n",
            "=================================================================\n",
            "Total params: 2,260,546\n",
            "Trainable params: 2,562\n",
            "Non-trainable params: 2,257,984\n",
            "_________________________________________________________________\n"
          ]
        }
      ]
    },
    {
      "cell_type": "markdown",
      "metadata": {
        "id": "P58FOBk5WCZG"
      },
      "source": [
        "# **Compile the model**\n"
      ]
    },
    {
      "cell_type": "code",
      "source": [
        "# Create a function to implement a ModelCheckpoint callback with a specific filename\n",
        "def create_model_checkpoint(model_name, save_path=\"model_experiments\"):\n",
        "  return tf.keras.callbacks.ModelCheckpoint(filepath=os.path.join(save_path, model_name),\n",
        "                                            monitor=\"val_loss\",\n",
        "                                            verbose=0,\n",
        "                                            save_best_only=True)"
      ],
      "metadata": {
        "id": "c4Xb9gnc7rZp"
      },
      "execution_count": 10,
      "outputs": []
    },
    {
      "cell_type": "code",
      "metadata": {
        "id": "sAm7oSReaXIX",
        "outputId": "dae10a46-fea1-49ac-e8d7-8a596ce47acb",
        "colab": {
          "base_uri": "https://localhost:8080/"
        }
      },
      "source": [
        "model.compile(\n",
        "    optimizer = 'adam',\n",
        "    loss = tf.losses.SparseCategoricalCrossentropy(),\n",
        "    metrics=['accuracy']\n",
        ")\n",
        "EPOCHS = 5\n",
        "history = model.fit(train_batches,\n",
        "                    epochs = EPOCHS,\n",
        "                    batch_size = BATCH_SIZE,\n",
        "                    validation_data = validation_batches,\n",
        "                    callbacks=[create_model_checkpoint(model_name=model.name)])"
      ],
      "execution_count": 11,
      "outputs": [
        {
          "output_type": "stream",
          "name": "stdout",
          "text": [
            "Epoch 1/5\n",
            "1164/1164 [==============================] - ETA: 0s - loss: 0.1359 - accuracy: 0.9663"
          ]
        },
        {
          "output_type": "stream",
          "name": "stderr",
          "text": [
            "WARNING:absl:Function `_wrapped_model` contains input name(s) mobilenetv2_1.00_224_input with unsupported characters which will be renamed to mobilenetv2_1_00_224_input in the SavedModel.\n"
          ]
        },
        {
          "output_type": "stream",
          "name": "stdout",
          "text": [
            "INFO:tensorflow:Assets written to: model_experiments/cats_vs_dogs/assets\n"
          ]
        },
        {
          "output_type": "stream",
          "name": "stderr",
          "text": [
            "INFO:tensorflow:Assets written to: model_experiments/cats_vs_dogs/assets\n"
          ]
        },
        {
          "output_type": "stream",
          "name": "stdout",
          "text": [
            "\b\b\b\b\b\b\b\b\b\b\b\b\b\b\b\b\b\b\b\b\b\b\b\b\b\b\b\b\b\b\b\b\b\b\b\b\b\b\b\b\b\b\b\b\b\b\b\b\b\b\b\b\b\b\b\b\b\b\b\b\b\b\b\b\b\b\b\b\b\b\b\b\b\b\b\b\b\b\b\b\b\b\b\b\b\b\r1164/1164 [==============================] - 73s 49ms/step - loss: 0.1359 - accuracy: 0.9663 - val_loss: 0.0975 - val_accuracy: 0.9783\n",
            "Epoch 2/5\n",
            "1164/1164 [==============================] - 26s 22ms/step - loss: 0.1044 - accuracy: 0.9787 - val_loss: 0.3652 - val_accuracy: 0.9475\n",
            "Epoch 3/5\n",
            "1164/1164 [==============================] - 28s 24ms/step - loss: 0.1054 - accuracy: 0.9809 - val_loss: 0.1404 - val_accuracy: 0.9753\n",
            "Epoch 4/5\n",
            "1164/1164 [==============================] - 26s 22ms/step - loss: 0.0901 - accuracy: 0.9818 - val_loss: 0.1024 - val_accuracy: 0.9815\n",
            "Epoch 5/5\n",
            "1164/1164 [==============================] - 26s 22ms/step - loss: 0.0818 - accuracy: 0.9847 - val_loss: 0.2101 - val_accuracy: 0.9708\n"
          ]
        }
      ]
    },
    {
      "cell_type": "markdown",
      "metadata": {
        "id": "Qvd7a3qLWP3x"
      },
      "source": [
        "We can see that it has a nearly 99% accuracy on validation examples"
      ]
    },
    {
      "cell_type": "code",
      "metadata": {
        "id": "viRzZiM-bE5V"
      },
      "source": [
        "feature_extractor.trainable = True"
      ],
      "execution_count": 12,
      "outputs": []
    },
    {
      "cell_type": "code",
      "source": [
        "# Let's take a look to see how many layers are in the base model\n",
        "print(\"Number of layers in the base model: \", len(feature_extractor.layers))\n",
        "\n",
        "# Fine-tune from this layer onwards\n",
        "fine_tune_at = 30\n",
        "\n",
        "# Freeze all the layers before the `fine_tune_at` layer\n",
        "for layer in feature_extractor.layers[:-fine_tune_at]:\n",
        "  layer.trainable =  False"
      ],
      "metadata": {
        "colab": {
          "base_uri": "https://localhost:8080/"
        },
        "id": "wo0i9NAoU15N",
        "outputId": "a2323dd7-cc27-45e2-ec38-02847c12c37d"
      },
      "execution_count": 13,
      "outputs": [
        {
          "output_type": "stream",
          "name": "stdout",
          "text": [
            "Number of layers in the base model:  154\n"
          ]
        }
      ]
    },
    {
      "cell_type": "code",
      "source": [
        "model.compile(loss=tf.keras.losses.SparseCategoricalCrossentropy(),\n",
        "              optimizer = tf.keras.optimizers.Adam(learning_rate=0.0001),\n",
        "              metrics=['accuracy'])"
      ],
      "metadata": {
        "id": "LL7iF0u2VDi-"
      },
      "execution_count": 14,
      "outputs": []
    },
    {
      "cell_type": "code",
      "source": [
        "EPOCHS = 3\n",
        "history = model.fit(train_batches,\n",
        "                    epochs = EPOCHS,\n",
        "                    batch_size=BATCH_SIZE,\n",
        "                    validation_data = validation_batches,\n",
        "                    callbacks=[create_model_checkpoint(model_name=model.name)])"
      ],
      "metadata": {
        "colab": {
          "base_uri": "https://localhost:8080/"
        },
        "id": "Sv_8Ow8qVcah",
        "outputId": "949114dd-a7f8-41d2-da81-edf61bf58e52"
      },
      "execution_count": 15,
      "outputs": [
        {
          "output_type": "stream",
          "name": "stdout",
          "text": [
            "Epoch 1/3\n",
            "1164/1164 [==============================] - ETA: 0s - loss: 0.2733 - accuracy: 0.9589"
          ]
        },
        {
          "output_type": "stream",
          "name": "stderr",
          "text": [
            "WARNING:absl:Function `_wrapped_model` contains input name(s) mobilenetv2_1.00_224_input with unsupported characters which will be renamed to mobilenetv2_1_00_224_input in the SavedModel.\n"
          ]
        },
        {
          "output_type": "stream",
          "name": "stdout",
          "text": [
            "INFO:tensorflow:Assets written to: model_experiments/cats_vs_dogs/assets\n"
          ]
        },
        {
          "output_type": "stream",
          "name": "stderr",
          "text": [
            "INFO:tensorflow:Assets written to: model_experiments/cats_vs_dogs/assets\n"
          ]
        },
        {
          "output_type": "stream",
          "name": "stdout",
          "text": [
            "\b\b\b\b\b\b\b\b\b\b\b\b\b\b\b\b\b\b\b\b\b\b\b\b\b\b\b\b\b\b\b\b\b\b\b\b\b\b\b\b\b\b\b\b\b\b\b\b\b\b\b\b\b\b\b\b\b\b\b\b\b\b\b\b\b\b\b\b\b\b\b\b\b\b\b\b\b\b\b\b\b\b\b\b\b\b\r1164/1164 [==============================] - 58s 46ms/step - loss: 0.2733 - accuracy: 0.9589 - val_loss: 0.1570 - val_accuracy: 0.9776\n",
            "Epoch 2/3\n",
            "1162/1164 [============================>.] - ETA: 0s - loss: 0.1077 - accuracy: 0.9802"
          ]
        },
        {
          "output_type": "stream",
          "name": "stderr",
          "text": [
            "WARNING:absl:Function `_wrapped_model` contains input name(s) mobilenetv2_1.00_224_input with unsupported characters which will be renamed to mobilenetv2_1_00_224_input in the SavedModel.\n"
          ]
        },
        {
          "output_type": "stream",
          "name": "stdout",
          "text": [
            "INFO:tensorflow:Assets written to: model_experiments/cats_vs_dogs/assets\n"
          ]
        },
        {
          "output_type": "stream",
          "name": "stderr",
          "text": [
            "INFO:tensorflow:Assets written to: model_experiments/cats_vs_dogs/assets\n"
          ]
        },
        {
          "output_type": "stream",
          "name": "stdout",
          "text": [
            "\b\b\b\b\b\b\b\b\b\b\b\b\b\b\b\b\b\b\b\b\b\b\b\b\b\b\b\b\b\b\b\b\b\b\b\b\b\b\b\b\b\b\b\b\b\b\b\b\b\b\b\b\b\b\b\b\b\b\b\b\b\b\b\b\b\b\b\b\b\b\b\b\b\b\b\b\b\b\b\b\b\b\b\b\b\b\r1164/1164 [==============================] - 52s 45ms/step - loss: 0.1078 - accuracy: 0.9802 - val_loss: 0.1339 - val_accuracy: 0.9791\n",
            "Epoch 3/3\n",
            "1164/1164 [==============================] - ETA: 0s - loss: 0.0683 - accuracy: 0.9850"
          ]
        },
        {
          "output_type": "stream",
          "name": "stderr",
          "text": [
            "WARNING:absl:Function `_wrapped_model` contains input name(s) mobilenetv2_1.00_224_input with unsupported characters which will be renamed to mobilenetv2_1_00_224_input in the SavedModel.\n"
          ]
        },
        {
          "output_type": "stream",
          "name": "stdout",
          "text": [
            "INFO:tensorflow:Assets written to: model_experiments/cats_vs_dogs/assets\n"
          ]
        },
        {
          "output_type": "stream",
          "name": "stderr",
          "text": [
            "INFO:tensorflow:Assets written to: model_experiments/cats_vs_dogs/assets\n"
          ]
        },
        {
          "output_type": "stream",
          "name": "stdout",
          "text": [
            "\b\b\b\b\b\b\b\b\b\b\b\b\b\b\b\b\b\b\b\b\b\b\b\b\b\b\b\b\b\b\b\b\b\b\b\b\b\b\b\b\b\b\b\b\b\b\b\b\b\b\b\b\b\b\b\b\b\b\b\b\b\b\b\b\b\b\b\b\b\b\b\b\b\b\b\b\b\b\b\b\b\b\b\b\b\b\r1164/1164 [==============================] - 52s 45ms/step - loss: 0.0683 - accuracy: 0.9850 - val_loss: 0.1183 - val_accuracy: 0.9791\n"
          ]
        }
      ]
    },
    {
      "cell_type": "markdown",
      "metadata": {
        "id": "Fwwh8kebWfvy"
      },
      "source": [
        "# Save the model"
      ]
    },
    {
      "cell_type": "markdown",
      "metadata": {
        "id": "z0rRtf4Ha-YO"
      },
      "source": [
        "Save the model in h5 format to use it later!!"
      ]
    },
    {
      "cell_type": "code",
      "metadata": {
        "id": "fMSekXPCeTvG"
      },
      "source": [
        "# Load in the best saved model\n",
        "model_1 = tf.keras.models.load_model(\"/content/model_experiments/cats_vs_dogs\")"
      ],
      "execution_count": 16,
      "outputs": []
    },
    {
      "cell_type": "code",
      "metadata": {
        "id": "6n02TcCIfjZi",
        "outputId": "a7a0338c-d28b-4d6d-8bb3-d039764baf63",
        "colab": {
          "base_uri": "https://localhost:8080/"
        }
      },
      "source": [
        "model_1.evaluate(validation_batches)"
      ],
      "execution_count": 42,
      "outputs": [
        {
          "output_type": "stream",
          "name": "stdout",
          "text": [
            "291/291 [==============================] - 7s 23ms/step - loss: 0.1183 - accuracy: 0.9791\n"
          ]
        },
        {
          "output_type": "execute_result",
          "data": {
            "text/plain": [
              "[0.1182503029704094, 0.9791487455368042]"
            ]
          },
          "metadata": {},
          "execution_count": 42
        }
      ]
    },
    {
      "cell_type": "markdown",
      "metadata": {
        "id": "HYxjwSm6cMCL"
      },
      "source": [
        "# Saving the model in .h5 format\n",
        "Save the trained reloaded model,to export it later"
      ]
    },
    {
      "cell_type": "code",
      "source": [
        "model_1.save(\"cats_vs_dogs_ft.h5\")"
      ],
      "metadata": {
        "id": "ZDmi_x3g6rZ7"
      },
      "execution_count": 43,
      "outputs": []
    },
    {
      "cell_type": "markdown",
      "source": [
        "## Unzip the testing (100 images) data for benchmarking"
      ],
      "metadata": {
        "id": "OJdPtg0a4HTr"
      }
    },
    {
      "cell_type": "code",
      "source": [
        "# Get the data\n",
        "!wget https://github.com/SanK89/cats-vs-dogs-classification-using-transfer-learning/raw/main/cats_vs_dogs.zip"
      ],
      "metadata": {
        "colab": {
          "base_uri": "https://localhost:8080/"
        },
        "id": "hqcmZPiV_z9T",
        "outputId": "1b386657-ce18-47ae-cbee-f6a6c6a3d45e"
      },
      "execution_count": 19,
      "outputs": [
        {
          "output_type": "stream",
          "name": "stdout",
          "text": [
            "--2022-07-10 08:46:50--  https://github.com/SanK89/cats-vs-dogs-classification-using-transfer-learning/raw/main/cats_vs_dogs.zip\n",
            "Resolving github.com (github.com)... 52.192.72.89\n",
            "Connecting to github.com (github.com)|52.192.72.89|:443... connected.\n",
            "HTTP request sent, awaiting response... 302 Found\n",
            "Location: https://raw.githubusercontent.com/SanK89/cats-vs-dogs-classification-using-transfer-learning/main/cats_vs_dogs.zip [following]\n",
            "--2022-07-10 08:46:51--  https://raw.githubusercontent.com/SanK89/cats-vs-dogs-classification-using-transfer-learning/main/cats_vs_dogs.zip\n",
            "Resolving raw.githubusercontent.com (raw.githubusercontent.com)... 185.199.110.133, 185.199.108.133, 185.199.109.133, ...\n",
            "Connecting to raw.githubusercontent.com (raw.githubusercontent.com)|185.199.110.133|:443... connected.\n",
            "HTTP request sent, awaiting response... 200 OK\n",
            "Length: 2189689 (2.1M) [application/zip]\n",
            "Saving to: ‘cats_vs_dogs.zip.1’\n",
            "\n",
            "cats_vs_dogs.zip.1  100%[===================>]   2.09M  --.-KB/s    in 0.07s   \n",
            "\n",
            "2022-07-10 08:46:52 (30.1 MB/s) - ‘cats_vs_dogs.zip.1’ saved [2189689/2189689]\n",
            "\n"
          ]
        }
      ]
    },
    {
      "cell_type": "code",
      "metadata": {
        "id": "ri2U9C9FiOus"
      },
      "source": [
        "import zipfile\n",
        "\n",
        "# Unzip the downloaded file\n",
        "zip_ref = zipfile.ZipFile(\"/content/cats_vs_dogs.zip\", \"r\")\n",
        "zip_ref.extractall()\n",
        "zip_ref.close()"
      ],
      "execution_count": 20,
      "outputs": []
    },
    {
      "cell_type": "code",
      "source": [
        "benchmark_dir = \"/content/cats_vs_dogs\""
      ],
      "metadata": {
        "id": "SCO8I_pSB9fu"
      },
      "execution_count": 21,
      "outputs": []
    },
    {
      "cell_type": "code",
      "source": [
        "val_data = tf.keras.utils.image_dataset_from_directory(directory=benchmark_dir,\n",
        "                                              #color_mode=\"grayscale\",\n",
        "                                              image_size=IMG_SIZE,\n",
        "                                              batch_size=BATCH_SIZE,\n",
        "                                              label_mode=\"int\")"
      ],
      "metadata": {
        "id": "Jxc7GvLZtlnv",
        "colab": {
          "base_uri": "https://localhost:8080/"
        },
        "outputId": "891c0e0d-d301-45d8-a6cf-51f0d88563e6"
      },
      "execution_count": 22,
      "outputs": [
        {
          "output_type": "stream",
          "name": "stdout",
          "text": [
            "Found 100 files belonging to 2 classes.\n"
          ]
        }
      ]
    },
    {
      "cell_type": "code",
      "source": [
        "def normalize_img(image, label):\n",
        "  \"\"\"Normalizes images: `uint8` -> `float32`.\"\"\"\n",
        "  return tf.cast(image, tf.float32) / 255., label"
      ],
      "metadata": {
        "id": "U2oHHbVbuXPO"
      },
      "execution_count": 23,
      "outputs": []
    },
    {
      "cell_type": "code",
      "source": [
        "val_data = val_data.map(normalize_img)\n",
        "val_data"
      ],
      "metadata": {
        "id": "K6vRX9CnvCrF",
        "colab": {
          "base_uri": "https://localhost:8080/"
        },
        "outputId": "524f9ca6-d184-46d4-8197-5fd2b239a030"
      },
      "execution_count": 24,
      "outputs": [
        {
          "output_type": "execute_result",
          "data": {
            "text/plain": [
              "<MapDataset element_spec=(TensorSpec(shape=(None, 224, 224, 3), dtype=tf.float32, name=None), TensorSpec(shape=(None,), dtype=tf.int32, name=None))>"
            ]
          },
          "metadata": {},
          "execution_count": 24
        }
      ]
    },
    {
      "cell_type": "markdown",
      "source": [
        "### Benchmark Accuracy"
      ],
      "metadata": {
        "id": "-9schCLd4R02"
      }
    },
    {
      "cell_type": "code",
      "source": [
        "print(f\"The Accuracy of the validation data {model_1.evaluate(val_data)[1] * 100:.2f}%\")"
      ],
      "metadata": {
        "id": "cpqvNqvtueVa",
        "colab": {
          "base_uri": "https://localhost:8080/"
        },
        "outputId": "1bb40d8e-8058-4e93-bfbf-a90e3ba9c147"
      },
      "execution_count": 25,
      "outputs": [
        {
          "output_type": "stream",
          "name": "stdout",
          "text": [
            "7/7 [==============================] - 1s 33ms/step - loss: 0.0739 - accuracy: 0.9900\n",
            "The Accuracy of the validation data 99.00%\n"
          ]
        }
      ]
    },
    {
      "cell_type": "code",
      "source": [
        "baseline_score = model_1.evaluate(validation_batches)\n",
        "print(f\"The accuracy of the baseline model is {baseline_score[1] * 100:.2f} %\")\n",
        "base_metrics = {\n",
        "      \"sparsity\" : 0,\n",
        "      \"val_loss\" : np.round(baseline_score[0], 4),\n",
        "      \"val_accuracy\" : np.round(baseline_score[1] * 100, 4)\n",
        "}\n",
        "base_metrics"
      ],
      "metadata": {
        "colab": {
          "base_uri": "https://localhost:8080/"
        },
        "id": "chvjvjNSboSq",
        "outputId": "f5d03e0c-180f-4801-c433-afa7455052e9"
      },
      "execution_count": 45,
      "outputs": [
        {
          "output_type": "stream",
          "name": "stdout",
          "text": [
            "291/291 [==============================] - 6s 21ms/step - loss: 0.1183 - accuracy: 0.9791\n",
            "The accuracy of the baseline model is 97.91 %\n"
          ]
        },
        {
          "output_type": "execute_result",
          "data": {
            "text/plain": [
              "{'sparsity': 0, 'val_accuracy': 97.9149, 'val_loss': 0.1183}"
            ]
          },
          "metadata": {},
          "execution_count": 45
        }
      ]
    },
    {
      "cell_type": "markdown",
      "source": [
        "### Function to read in benchmarking images"
      ],
      "metadata": {
        "id": "Op-vlwvu4VTH"
      }
    },
    {
      "cell_type": "code",
      "source": [
        "# Function to infer the val images \n",
        "import numpy as np\n",
        "import os\n",
        "import time\n",
        "from PIL import Image\n",
        "import PIL.Image\n",
        "\n",
        "def benchmark(val_dir, model, class_names=class_names, image_size=IMG_SIZE):\n",
        "  file_count = 0\n",
        "  infer_times = []\n",
        "  for (root, dirs, files) in os.walk(val_dir):\n",
        "    for name in files:\n",
        "      if name.endswith(\".jpg\"):\n",
        "        filename = os.path.join(root, name)\n",
        "        if file_count < 1 :\n",
        "          init_timer_start = time.time()\n",
        "          img = np.array(Image.open(filename).resize(IMG_SIZE))/255.\n",
        "          pred = model.predict(np.expand_dims(img, axis=0))\n",
        "          pred_class = class_names[int(np.argmax(pred[0]))]\n",
        "          init_timer_end = time.time()\n",
        "          init_timer = init_timer_end - init_timer_start\n",
        "          file_count+=1\n",
        "        else:\n",
        "          timer_start = time.time()\n",
        "          img = np.array(Image.open(filename).resize(IMG_SIZE))/255.\n",
        "          pred = model.predict(np.expand_dims(img, axis=0))\n",
        "          pred_class = class_names[int(np.argmax(pred[0]))]\n",
        "          timer_end = time.time()\n",
        "          infer_times.append((timer_end - timer_start))\n",
        "          file_count+=1\n",
        "\n",
        "  return init_timer, np.mean(infer_times), np.std(infer_times)"
      ],
      "metadata": {
        "id": "1r6k1fL7u-fE"
      },
      "execution_count": 26,
      "outputs": []
    },
    {
      "cell_type": "code",
      "source": [
        "init_time, avg_time, std = benchmark(val_dir=benchmark_dir,\n",
        "          model=model_1)\n",
        "print(f\"The first image takes {init_time * 1000:.2f} ms\")\n",
        "print(f\"The average time taken per 99 images {avg_time * 1000:.2f} ms\")\n",
        "print(f\"The standard deviation of samples is {std * 1000:.2f} ms\")"
      ],
      "metadata": {
        "id": "KCf7r0fxAo6T",
        "colab": {
          "base_uri": "https://localhost:8080/"
        },
        "outputId": "e81fccc7-f1b7-4030-b31f-b4cf75ecdd1d"
      },
      "execution_count": 27,
      "outputs": [
        {
          "output_type": "stream",
          "name": "stdout",
          "text": [
            "The first image takes 1026.41 ms\n",
            "The average time taken per 99 images 64.16 ms\n",
            "The standard deviation of samples is 3.40 ms\n"
          ]
        }
      ]
    },
    {
      "cell_type": "markdown",
      "source": [
        "## Pruning"
      ],
      "metadata": {
        "id": "Jo0sF3gpQiIE"
      }
    },
    {
      "cell_type": "markdown",
      "source": [
        "### Results form the baseline model"
      ],
      "metadata": {
        "id": "ddwDGzrqjA5_"
      }
    },
    {
      "cell_type": "code",
      "source": [
        "_, baseline_accuracy = model_1.evaluate(validation_batches)\n",
        "print(f\"The accuracy of the baseline model is {baseline_accuracy * 100:.2f} %\")"
      ],
      "metadata": {
        "colab": {
          "base_uri": "https://localhost:8080/"
        },
        "id": "NDHKFn3YQN74",
        "outputId": "2a664968-f649-47d5-cadc-f4c4e5b1139c"
      },
      "execution_count": null,
      "outputs": [
        {
          "output_type": "stream",
          "name": "stdout",
          "text": [
            "291/291 [==============================] - 7s 23ms/step - loss: 0.3930 - accuracy: 0.8702\n",
            "The accuracy of the baseline model is 87.02 %\n"
          ]
        }
      ]
    },
    {
      "cell_type": "markdown",
      "source": [
        "### Prunig the layers"
      ],
      "metadata": {
        "id": "HiGgswJeQ_Vk"
      }
    },
    {
      "cell_type": "code",
      "source": [
        "!pip install tensorflow_model_optimization \n"
      ],
      "metadata": {
        "colab": {
          "base_uri": "https://localhost:8080/"
        },
        "id": "SOQzLotbwSYv",
        "outputId": "91f73304-4321-4d5a-dbf4-4c42ddc4f1b6"
      },
      "execution_count": 41,
      "outputs": [
        {
          "output_type": "stream",
          "name": "stdout",
          "text": [
            "Looking in indexes: https://pypi.org/simple, https://us-python.pkg.dev/colab-wheels/public/simple/\n",
            "Collecting tensorflow_model_optimization\n",
            "  Downloading tensorflow_model_optimization-0.7.2-py2.py3-none-any.whl (237 kB)\n",
            "\u001b[K     |████████████████████████████████| 237 kB 4.1 MB/s \n",
            "\u001b[?25hRequirement already satisfied: numpy~=1.14 in /usr/local/lib/python3.7/dist-packages (from tensorflow_model_optimization) (1.21.6)\n",
            "Requirement already satisfied: six~=1.10 in /usr/local/lib/python3.7/dist-packages (from tensorflow_model_optimization) (1.15.0)\n",
            "Requirement already satisfied: dm-tree~=0.1.1 in /usr/local/lib/python3.7/dist-packages (from tensorflow_model_optimization) (0.1.7)\n",
            "Installing collected packages: tensorflow-model-optimization\n",
            "Successfully installed tensorflow-model-optimization-0.7.2\n"
          ]
        }
      ]
    },
    {
      "cell_type": "code",
      "source": [
        "import tensorflow_model_optimization as tfmot\n",
        "\n",
        "# Finish pruning after 2 epochs\n",
        "epochs = 2\n",
        "BATCH_SIZE = 16\n",
        "print(len(validation_batches))"
      ],
      "metadata": {
        "colab": {
          "base_uri": "https://localhost:8080/"
        },
        "id": "qVeYB12wljcf",
        "outputId": "6eeaf894-d608-44d9-9ef6-453a4a809b78"
      },
      "execution_count": 44,
      "outputs": [
        {
          "output_type": "stream",
          "name": "stdout",
          "text": [
            "291\n"
          ]
        }
      ]
    },
    {
      "cell_type": "code",
      "source": [
        "from tensorflow_model_optimization.python.core.keras import metrics\n",
        "def prune_model(model, initial_sparsity, final_sparsity, train_data=train_batches, val_data=validation_batches, epochs=epochs ):\n",
        "  # Create a tensorboard logfile\n",
        "  logdir = tempfile.mkdtemp()\n",
        "  # The end_step is the total number of iterations required for the training data which is basically the entire epochs over the length of the training data\n",
        "  end_step = int(len(train_data) * epochs * 0.5)\n",
        "  # Import the low-magnitude-pruning function\n",
        "  prune_low_magnitude = tfmot.sparsity.keras.prune_low_magnitude\n",
        "  # Set the prunung params\n",
        "  pruning_params = {\n",
        "      \n",
        "      \"pruning_schedule\" : tfmot.sparsity.keras.PolynomialDecay(initial_sparsity=0,\n",
        "                                                                final_sparsity=final_sparsity,\n",
        "                                                                begin_step=0,\n",
        "                                                                end_step=end_step)\n",
        "      \n",
        "                  }\n",
        "\n",
        "  \n",
        "  learning_rate_fn = tf.keras.optimizers.schedules.PolynomialDecay(\n",
        "    0.001,\n",
        "    1000,\n",
        "    0.0001,\n",
        "    power=0.5)\n",
        "  \n",
        "  # Model for pruning\n",
        "  model_for_pruning = prune_low_magnitude(model, **pruning_params)\n",
        "\n",
        "  # Recompile\n",
        "  model_for_pruning.compile(optimizer=tf.keras.optimizers.Adam(),\n",
        "                            loss=tf.keras.losses.SparseCategoricalCrossentropy(),\n",
        "                            metrics=[\"accuracy\"])\n",
        "  #create callbacks\n",
        "  callbacks = [tfmot.sparsity.keras.UpdatePruningStep(),\n",
        "              tfmot.sparsity.keras.PruningSummaries(log_dir=logdir),\n",
        "               #create_model_checkpoint(model_name=model.name),\n",
        "              tf.keras.callbacks.ReduceLROnPlateau(monitor=\"val_loss\",\n",
        "                                                  patience=3,\n",
        "                                                  verbose=1),\n",
        "               #tf.keras.callbacks.EarlyStopping(monitor=\"val_loss\",\n",
        "                                                        #patience=5,\n",
        "                                                        #restore_best_weights=True)\n",
        "                                                        ]\n",
        "  \n",
        "  # Fit the model\n",
        "  model_for_pruning.fit(train_data,\n",
        "                      validation_data=val_data,\n",
        "                      batch_size=BATCH_SIZE,\n",
        "                      epochs=epochs,\n",
        "                      callbacks=callbacks)\n",
        "  \n",
        "  # Save the model\n",
        "  #model_for_pruning.save(f\"mnist_model_sparsity_{final_sparsity}\")\n",
        "\n",
        "  # Evaluate the model\n",
        "  score = model_for_pruning.evaluate(val_data, verbose=0)\n",
        "  metric_dict = {\n",
        "      \"sparsity\" : final_sparsity,\n",
        "      \"val_loss\" : np.round(score[0], 4),\n",
        "      \"val_accuracy\" : np.round(score[1] * 100, 4)\n",
        "  }\n",
        "  return logdir, metric_dict, model_for_pruning"
      ],
      "metadata": {
        "id": "QL7_7JVMJPwg"
      },
      "execution_count": 55,
      "outputs": []
    },
    {
      "cell_type": "code",
      "source": [
        "k_sparsities = [0.25, 0.50, 0.60, 0.70, 0.80, 0.90, 0.95, 0.97, 0.99]\n",
        "\n",
        "#k_sparsities = [0.50]\n",
        "metric_list = []\n",
        "for k in k_sparsities:\n",
        "  logdir, metrics, pruned_model = prune_model(model=model_1,\n",
        "            initial_sparsity=0,\n",
        "            final_sparsity=k,\n",
        "            epochs=20)\n",
        "  val_loss, val_accuracy  = metrics[\"val_loss\"], metrics[\"val_accuracy\"]\n",
        "  metric_list.append(metrics)\n",
        "  print(f\"Sparsity : {k} \\tValidation Loss: {val_loss}, \\tValidation Accuracy: {val_accuracy}\")\n",
        "\n",
        "# Create a dataframe of the values obtained\n",
        "df = pd.DataFrame(metric_list)"
      ],
      "metadata": {
        "colab": {
          "base_uri": "https://localhost:8080/"
        },
        "id": "ZgHrk4SZEIlD",
        "outputId": "b02d66c7-3833-4619-d996-b926a9f8e61b"
      },
      "execution_count": 56,
      "outputs": [
        {
          "output_type": "stream",
          "name": "stderr",
          "text": [
            "/usr/local/lib/python3.7/dist-packages/tensorflow_model_optimization/python/core/sparsity/keras/pruning_wrapper.py:218: UserWarning: `layer.add_variable` is deprecated and will be removed in a future version. Please use `layer.add_weight` method instead.\n",
            "  aggregation=tf.VariableAggregation.MEAN)\n",
            "/usr/local/lib/python3.7/dist-packages/tensorflow_model_optimization/python/core/sparsity/keras/pruning_wrapper.py:225: UserWarning: `layer.add_variable` is deprecated and will be removed in a future version. Please use `layer.add_weight` method instead.\n",
            "  aggregation=tf.VariableAggregation.MEAN)\n",
            "/usr/local/lib/python3.7/dist-packages/tensorflow_model_optimization/python/core/sparsity/keras/pruning_wrapper.py:238: UserWarning: `layer.add_variable` is deprecated and will be removed in a future version. Please use `layer.add_weight` method instead.\n",
            "  trainable=False)\n"
          ]
        },
        {
          "output_type": "stream",
          "name": "stdout",
          "text": [
            "Epoch 1/20\n",
            "   6/1164 [..............................] - ETA: 1:19 - loss: 0.3373 - accuracy: 0.9583WARNING:tensorflow:Callback method `on_train_batch_end` is slow compared to the batch time (batch time: 0.0609s vs `on_train_batch_end` time: 0.1921s). Check your callbacks.\n"
          ]
        },
        {
          "output_type": "stream",
          "name": "stderr",
          "text": [
            "WARNING:tensorflow:Callback method `on_train_batch_end` is slow compared to the batch time (batch time: 0.0609s vs `on_train_batch_end` time: 0.1921s). Check your callbacks.\n"
          ]
        },
        {
          "output_type": "stream",
          "name": "stdout",
          "text": [
            "1164/1164 [==============================] - 134s 80ms/step - loss: 0.1066 - accuracy: 0.9750 - val_loss: 0.3564 - val_accuracy: 0.9456 - lr: 0.0010\n",
            "Epoch 2/20\n",
            "1164/1164 [==============================] - 87s 74ms/step - loss: 0.0950 - accuracy: 0.9763 - val_loss: 0.2432 - val_accuracy: 0.9387 - lr: 0.0010\n",
            "Epoch 3/20\n",
            "1164/1164 [==============================] - 87s 74ms/step - loss: 0.0864 - accuracy: 0.9761 - val_loss: 0.1475 - val_accuracy: 0.9506 - lr: 0.0010\n",
            "Epoch 4/20\n",
            "1164/1164 [==============================] - 91s 78ms/step - loss: 0.0515 - accuracy: 0.9876 - val_loss: 0.1974 - val_accuracy: 0.9540 - lr: 0.0010\n",
            "Epoch 5/20\n",
            "1164/1164 [==============================] - 86s 74ms/step - loss: 0.0455 - accuracy: 0.9893 - val_loss: 0.2315 - val_accuracy: 0.9484 - lr: 0.0010\n",
            "Epoch 6/20\n",
            "1164/1164 [==============================] - ETA: 0s - loss: 0.0521 - accuracy: 0.9877\n",
            "Epoch 6: ReduceLROnPlateau reducing learning rate to 0.00010000000474974513.\n",
            "1164/1164 [==============================] - 86s 74ms/step - loss: 0.0521 - accuracy: 0.9877 - val_loss: 0.2167 - val_accuracy: 0.9499 - lr: 0.0010\n",
            "Epoch 7/20\n",
            "1164/1164 [==============================] - 86s 74ms/step - loss: 0.0395 - accuracy: 0.9938 - val_loss: 0.1839 - val_accuracy: 0.9529 - lr: 1.0000e-04\n",
            "Epoch 8/20\n",
            "1164/1164 [==============================] - 86s 74ms/step - loss: 0.0153 - accuracy: 0.9965 - val_loss: 0.1969 - val_accuracy: 0.9523 - lr: 1.0000e-04\n",
            "Epoch 9/20\n",
            "1164/1164 [==============================] - ETA: 0s - loss: 0.0098 - accuracy: 0.9971\n",
            "Epoch 9: ReduceLROnPlateau reducing learning rate to 1.0000000474974514e-05.\n",
            "1164/1164 [==============================] - 86s 74ms/step - loss: 0.0098 - accuracy: 0.9971 - val_loss: 0.2139 - val_accuracy: 0.9527 - lr: 1.0000e-04\n",
            "Epoch 10/20\n",
            "1164/1164 [==============================] - 90s 78ms/step - loss: 0.0076 - accuracy: 0.9979 - val_loss: 0.2177 - val_accuracy: 0.9525 - lr: 1.0000e-05\n",
            "Epoch 11/20\n",
            "1164/1164 [==============================] - 85s 73ms/step - loss: 0.0083 - accuracy: 0.9976 - val_loss: 0.2205 - val_accuracy: 0.9534 - lr: 1.0000e-05\n",
            "Epoch 12/20\n",
            "1164/1164 [==============================] - ETA: 0s - loss: 0.0065 - accuracy: 0.9981\n",
            "Epoch 12: ReduceLROnPlateau reducing learning rate to 1.0000000656873453e-06.\n",
            "1164/1164 [==============================] - 91s 78ms/step - loss: 0.0065 - accuracy: 0.9981 - val_loss: 0.2226 - val_accuracy: 0.9540 - lr: 1.0000e-05\n",
            "Epoch 13/20\n",
            "1164/1164 [==============================] - 86s 74ms/step - loss: 0.0062 - accuracy: 0.9983 - val_loss: 0.2234 - val_accuracy: 0.9540 - lr: 1.0000e-06\n",
            "Epoch 14/20\n",
            "1164/1164 [==============================] - 86s 74ms/step - loss: 0.0063 - accuracy: 0.9981 - val_loss: 0.2230 - val_accuracy: 0.9540 - lr: 1.0000e-06\n",
            "Epoch 15/20\n",
            "1164/1164 [==============================] - ETA: 0s - loss: 0.0052 - accuracy: 0.9988\n",
            "Epoch 15: ReduceLROnPlateau reducing learning rate to 1.0000001111620805e-07.\n",
            "1164/1164 [==============================] - 86s 74ms/step - loss: 0.0052 - accuracy: 0.9988 - val_loss: 0.2232 - val_accuracy: 0.9540 - lr: 1.0000e-06\n",
            "Epoch 16/20\n",
            "1164/1164 [==============================] - 87s 74ms/step - loss: 0.0054 - accuracy: 0.9986 - val_loss: 0.2233 - val_accuracy: 0.9538 - lr: 1.0000e-07\n",
            "Epoch 17/20\n",
            "1164/1164 [==============================] - 87s 75ms/step - loss: 0.0046 - accuracy: 0.9987 - val_loss: 0.2231 - val_accuracy: 0.9540 - lr: 1.0000e-07\n",
            "Epoch 18/20\n",
            "1164/1164 [==============================] - ETA: 0s - loss: 0.0061 - accuracy: 0.9982\n",
            "Epoch 18: ReduceLROnPlateau reducing learning rate to 1.000000082740371e-08.\n",
            "1164/1164 [==============================] - 86s 74ms/step - loss: 0.0061 - accuracy: 0.9982 - val_loss: 0.2234 - val_accuracy: 0.9538 - lr: 1.0000e-07\n",
            "Epoch 19/20\n",
            "1164/1164 [==============================] - 86s 74ms/step - loss: 0.0054 - accuracy: 0.9983 - val_loss: 0.2236 - val_accuracy: 0.9540 - lr: 1.0000e-08\n",
            "Epoch 20/20\n",
            "1164/1164 [==============================] - 91s 78ms/step - loss: 0.0066 - accuracy: 0.9978 - val_loss: 0.2237 - val_accuracy: 0.9540 - lr: 1.0000e-08\n",
            "Sparsity : 0.25 \tValidation Loss: 0.2237, \tValidation Accuracy: 95.3998\n",
            "Epoch 1/20\n",
            "   6/1164 [..............................] - ETA: 1:23 - loss: 0.1254 - accuracy: 0.9792WARNING:tensorflow:Callback method `on_train_batch_end` is slow compared to the batch time (batch time: 0.0642s vs `on_train_batch_end` time: 0.1908s). Check your callbacks.\n"
          ]
        },
        {
          "output_type": "stream",
          "name": "stderr",
          "text": [
            "WARNING:tensorflow:Callback method `on_train_batch_end` is slow compared to the batch time (batch time: 0.0642s vs `on_train_batch_end` time: 0.1908s). Check your callbacks.\n"
          ]
        },
        {
          "output_type": "stream",
          "name": "stdout",
          "text": [
            "1164/1164 [==============================] - 131s 77ms/step - loss: 0.0445 - accuracy: 0.9889 - val_loss: 0.2234 - val_accuracy: 0.9473 - lr: 0.0010\n",
            "Epoch 2/20\n",
            "1164/1164 [==============================] - 87s 75ms/step - loss: 0.0263 - accuracy: 0.9921 - val_loss: 0.2359 - val_accuracy: 0.9531 - lr: 0.0010\n",
            "Epoch 3/20\n",
            "1164/1164 [==============================] - 87s 75ms/step - loss: 0.0366 - accuracy: 0.9912 - val_loss: 0.1732 - val_accuracy: 0.9544 - lr: 0.0010\n",
            "Epoch 4/20\n",
            "1164/1164 [==============================] - 86s 74ms/step - loss: 0.0169 - accuracy: 0.9942 - val_loss: 0.1932 - val_accuracy: 0.9544 - lr: 0.0010\n",
            "Epoch 5/20\n",
            "1164/1164 [==============================] - 86s 74ms/step - loss: 0.0280 - accuracy: 0.9938 - val_loss: 0.3458 - val_accuracy: 0.9353 - lr: 0.0010\n",
            "Epoch 6/20\n",
            "1164/1164 [==============================] - ETA: 0s - loss: 0.0403 - accuracy: 0.9893\n",
            "Epoch 6: ReduceLROnPlateau reducing learning rate to 0.00010000000474974513.\n",
            "1164/1164 [==============================] - 87s 74ms/step - loss: 0.0403 - accuracy: 0.9893 - val_loss: 0.2851 - val_accuracy: 0.9362 - lr: 0.0010\n",
            "Epoch 7/20\n",
            "1164/1164 [==============================] - 86s 74ms/step - loss: 0.0872 - accuracy: 0.9689 - val_loss: 0.2504 - val_accuracy: 0.9233 - lr: 1.0000e-04\n",
            "Epoch 8/20\n",
            "1164/1164 [==============================] - 86s 74ms/step - loss: 0.1345 - accuracy: 0.9526 - val_loss: 0.2341 - val_accuracy: 0.9095 - lr: 1.0000e-04\n",
            "Epoch 9/20\n",
            "1164/1164 [==============================] - ETA: 0s - loss: 0.1601 - accuracy: 0.9384\n",
            "Epoch 9: ReduceLROnPlateau reducing learning rate to 1.0000000474974514e-05.\n",
            "1164/1164 [==============================] - 91s 78ms/step - loss: 0.1601 - accuracy: 0.9384 - val_loss: 0.2462 - val_accuracy: 0.9127 - lr: 1.0000e-04\n",
            "Epoch 10/20\n",
            "1164/1164 [==============================] - 87s 74ms/step - loss: 0.1457 - accuracy: 0.9414 - val_loss: 0.2187 - val_accuracy: 0.9183 - lr: 1.0000e-05\n",
            "Epoch 11/20\n",
            "1164/1164 [==============================] - 91s 78ms/step - loss: 0.1417 - accuracy: 0.9418 - val_loss: 0.2169 - val_accuracy: 0.9198 - lr: 1.0000e-05\n",
            "Epoch 12/20\n",
            "1164/1164 [==============================] - ETA: 0s - loss: 0.1443 - accuracy: 0.9425\n",
            "Epoch 12: ReduceLROnPlateau reducing learning rate to 1.0000000656873453e-06.\n",
            "1164/1164 [==============================] - 86s 74ms/step - loss: 0.1443 - accuracy: 0.9425 - val_loss: 0.2165 - val_accuracy: 0.9198 - lr: 1.0000e-05\n",
            "Epoch 13/20\n",
            "1164/1164 [==============================] - 87s 74ms/step - loss: 0.1385 - accuracy: 0.9447 - val_loss: 0.2168 - val_accuracy: 0.9202 - lr: 1.0000e-06\n",
            "Epoch 14/20\n",
            "1164/1164 [==============================] - 87s 74ms/step - loss: 0.1395 - accuracy: 0.9441 - val_loss: 0.2163 - val_accuracy: 0.9202 - lr: 1.0000e-06\n",
            "Epoch 15/20\n",
            "1164/1164 [==============================] - ETA: 0s - loss: 0.1415 - accuracy: 0.9449\n",
            "Epoch 15: ReduceLROnPlateau reducing learning rate to 1.0000001111620805e-07.\n",
            "1164/1164 [==============================] - 86s 74ms/step - loss: 0.1415 - accuracy: 0.9449 - val_loss: 0.2163 - val_accuracy: 0.9200 - lr: 1.0000e-06\n",
            "Epoch 16/20\n",
            "1164/1164 [==============================] - 86s 74ms/step - loss: 0.1374 - accuracy: 0.9447 - val_loss: 0.2162 - val_accuracy: 0.9202 - lr: 1.0000e-07\n",
            "Epoch 17/20\n",
            "1164/1164 [==============================] - 87s 74ms/step - loss: 0.1390 - accuracy: 0.9470 - val_loss: 0.2162 - val_accuracy: 0.9200 - lr: 1.0000e-07\n",
            "Epoch 18/20\n",
            "1164/1164 [==============================] - ETA: 0s - loss: 0.1386 - accuracy: 0.9432\n",
            "Epoch 18: ReduceLROnPlateau reducing learning rate to 1.000000082740371e-08.\n",
            "1164/1164 [==============================] - 86s 74ms/step - loss: 0.1386 - accuracy: 0.9432 - val_loss: 0.2163 - val_accuracy: 0.9200 - lr: 1.0000e-07\n",
            "Epoch 19/20\n",
            "1164/1164 [==============================] - 91s 78ms/step - loss: 0.1388 - accuracy: 0.9441 - val_loss: 0.2164 - val_accuracy: 0.9200 - lr: 1.0000e-08\n",
            "Epoch 20/20\n",
            "1164/1164 [==============================] - 86s 74ms/step - loss: 0.1396 - accuracy: 0.9446 - val_loss: 0.2165 - val_accuracy: 0.9202 - lr: 1.0000e-08\n",
            "Sparsity : 0.5 \tValidation Loss: 0.2165, \tValidation Accuracy: 92.0249\n",
            "Epoch 1/20\n",
            "   6/1164 [..............................] - ETA: 1:22 - loss: 0.3045 - accuracy: 0.9271WARNING:tensorflow:Callback method `on_train_batch_end` is slow compared to the batch time (batch time: 0.0637s vs `on_train_batch_end` time: 0.1862s). Check your callbacks.\n"
          ]
        },
        {
          "output_type": "stream",
          "name": "stderr",
          "text": [
            "WARNING:tensorflow:Callback method `on_train_batch_end` is slow compared to the batch time (batch time: 0.0637s vs `on_train_batch_end` time: 0.1862s). Check your callbacks.\n"
          ]
        },
        {
          "output_type": "stream",
          "name": "stdout",
          "text": [
            "1164/1164 [==============================] - 129s 76ms/step - loss: 0.1913 - accuracy: 0.9376 - val_loss: 0.4315 - val_accuracy: 0.9009 - lr: 0.0010\n",
            "Epoch 2/20\n",
            "1164/1164 [==============================] - 86s 74ms/step - loss: 0.1756 - accuracy: 0.9477 - val_loss: 0.3676 - val_accuracy: 0.9112 - lr: 0.0010\n",
            "Epoch 3/20\n",
            "1164/1164 [==============================] - 91s 78ms/step - loss: 0.0941 - accuracy: 0.9655 - val_loss: 0.2734 - val_accuracy: 0.9273 - lr: 0.0010\n",
            "Epoch 4/20\n",
            "1164/1164 [==============================] - 86s 74ms/step - loss: 0.0799 - accuracy: 0.9729 - val_loss: 0.2598 - val_accuracy: 0.9267 - lr: 0.0010\n",
            "Epoch 5/20\n",
            "1164/1164 [==============================] - 86s 74ms/step - loss: 0.1049 - accuracy: 0.9629 - val_loss: 0.4586 - val_accuracy: 0.8287 - lr: 0.0010\n",
            "Epoch 6/20\n",
            "1164/1164 [==============================] - 91s 78ms/step - loss: 0.2819 - accuracy: 0.8902 - val_loss: 0.7342 - val_accuracy: 0.5944 - lr: 0.0010\n",
            "Epoch 7/20\n",
            "1164/1164 [==============================] - ETA: 0s - loss: 0.3214 - accuracy: 0.8665\n",
            "Epoch 7: ReduceLROnPlateau reducing learning rate to 0.00010000000474974513.\n",
            "1164/1164 [==============================] - 87s 75ms/step - loss: 0.3214 - accuracy: 0.8665 - val_loss: 0.4285 - val_accuracy: 0.8014 - lr: 0.0010\n",
            "Epoch 8/20\n",
            "1164/1164 [==============================] - 87s 75ms/step - loss: 0.2873 - accuracy: 0.8749 - val_loss: 0.3524 - val_accuracy: 0.8411 - lr: 1.0000e-04\n",
            "Epoch 9/20\n",
            "1164/1164 [==============================] - 86s 74ms/step - loss: 0.2823 - accuracy: 0.8784 - val_loss: 0.3937 - val_accuracy: 0.8145 - lr: 1.0000e-04\n",
            "Epoch 10/20\n",
            "1164/1164 [==============================] - ETA: 0s - loss: 0.2644 - accuracy: 0.8852\n",
            "Epoch 10: ReduceLROnPlateau reducing learning rate to 1.0000000474974514e-05.\n",
            "1164/1164 [==============================] - 87s 75ms/step - loss: 0.2644 - accuracy: 0.8852 - val_loss: 0.2917 - val_accuracy: 0.8738 - lr: 1.0000e-04\n",
            "Epoch 11/20\n",
            "1164/1164 [==============================] - 92s 79ms/step - loss: 0.2447 - accuracy: 0.8955 - val_loss: 0.2781 - val_accuracy: 0.8816 - lr: 1.0000e-05\n",
            "Epoch 12/20\n",
            "1164/1164 [==============================] - 92s 79ms/step - loss: 0.2404 - accuracy: 0.8973 - val_loss: 0.2756 - val_accuracy: 0.8826 - lr: 1.0000e-05\n",
            "Epoch 13/20\n",
            "1164/1164 [==============================] - ETA: 0s - loss: 0.2399 - accuracy: 0.8975\n",
            "Epoch 13: ReduceLROnPlateau reducing learning rate to 1.0000000656873453e-06.\n",
            "1164/1164 [==============================] - 86s 74ms/step - loss: 0.2399 - accuracy: 0.8975 - val_loss: 0.2744 - val_accuracy: 0.8831 - lr: 1.0000e-05\n",
            "Epoch 14/20\n",
            "1164/1164 [==============================] - 91s 78ms/step - loss: 0.2346 - accuracy: 0.8991 - val_loss: 0.2745 - val_accuracy: 0.8835 - lr: 1.0000e-06\n",
            "Epoch 15/20\n",
            "1164/1164 [==============================] - 87s 74ms/step - loss: 0.2378 - accuracy: 0.8989 - val_loss: 0.2743 - val_accuracy: 0.8835 - lr: 1.0000e-06\n",
            "Epoch 16/20\n",
            "1164/1164 [==============================] - ETA: 0s - loss: 0.2387 - accuracy: 0.8992\n",
            "Epoch 16: ReduceLROnPlateau reducing learning rate to 1.0000001111620805e-07.\n",
            "1164/1164 [==============================] - 86s 74ms/step - loss: 0.2387 - accuracy: 0.8992 - val_loss: 0.2744 - val_accuracy: 0.8839 - lr: 1.0000e-06\n",
            "Epoch 17/20\n",
            "1164/1164 [==============================] - 86s 74ms/step - loss: 0.2376 - accuracy: 0.9000 - val_loss: 0.2743 - val_accuracy: 0.8837 - lr: 1.0000e-07\n",
            "Epoch 18/20\n",
            "1164/1164 [==============================] - 86s 74ms/step - loss: 0.2366 - accuracy: 0.8983 - val_loss: 0.2743 - val_accuracy: 0.8835 - lr: 1.0000e-07\n",
            "Epoch 19/20\n",
            "1164/1164 [==============================] - ETA: 0s - loss: 0.2356 - accuracy: 0.8998\n",
            "Epoch 19: ReduceLROnPlateau reducing learning rate to 1.000000082740371e-08.\n",
            "1164/1164 [==============================] - 91s 78ms/step - loss: 0.2356 - accuracy: 0.8998 - val_loss: 0.2745 - val_accuracy: 0.8844 - lr: 1.0000e-07\n",
            "Epoch 20/20\n",
            "1164/1164 [==============================] - 91s 78ms/step - loss: 0.2360 - accuracy: 0.8987 - val_loss: 0.2745 - val_accuracy: 0.8841 - lr: 1.0000e-08\n",
            "Sparsity : 0.6 \tValidation Loss: 0.2745, \tValidation Accuracy: 88.4136\n",
            "Epoch 1/20\n",
            "   6/1164 [..............................] - ETA: 1:20 - loss: 0.4956 - accuracy: 0.8542WARNING:tensorflow:Callback method `on_train_batch_end` is slow compared to the batch time (batch time: 0.0616s vs `on_train_batch_end` time: 0.1933s). Check your callbacks.\n"
          ]
        },
        {
          "output_type": "stream",
          "name": "stderr",
          "text": [
            "WARNING:tensorflow:Callback method `on_train_batch_end` is slow compared to the batch time (batch time: 0.0616s vs `on_train_batch_end` time: 0.1933s). Check your callbacks.\n"
          ]
        },
        {
          "output_type": "stream",
          "name": "stdout",
          "text": [
            "1164/1164 [==============================] - 128s 76ms/step - loss: 0.3226 - accuracy: 0.8807 - val_loss: 0.2589 - val_accuracy: 0.8940 - lr: 0.0010\n",
            "Epoch 2/20\n",
            "1164/1164 [==============================] - 92s 79ms/step - loss: 0.2192 - accuracy: 0.9135 - val_loss: 0.3578 - val_accuracy: 0.8809 - lr: 0.0010\n",
            "Epoch 3/20\n",
            "1164/1164 [==============================] - 86s 74ms/step - loss: 0.1819 - accuracy: 0.9289 - val_loss: 0.2861 - val_accuracy: 0.8908 - lr: 0.0010\n",
            "Epoch 4/20\n",
            "1164/1164 [==============================] - ETA: 0s - loss: 0.1523 - accuracy: 0.9415\n",
            "Epoch 4: ReduceLROnPlateau reducing learning rate to 0.00010000000474974513.\n",
            "1164/1164 [==============================] - 86s 74ms/step - loss: 0.1523 - accuracy: 0.9415 - val_loss: 0.2676 - val_accuracy: 0.8936 - lr: 0.0010\n",
            "Epoch 5/20\n",
            "1164/1164 [==============================] - 86s 74ms/step - loss: 0.1153 - accuracy: 0.9552 - val_loss: 0.5606 - val_accuracy: 0.7423 - lr: 1.0000e-04\n",
            "Epoch 6/20\n",
            "1164/1164 [==============================] - 86s 74ms/step - loss: 0.3894 - accuracy: 0.8294 - val_loss: 1.1231 - val_accuracy: 0.5125 - lr: 1.0000e-04\n",
            "Epoch 7/20\n",
            "1164/1164 [==============================] - ETA: 0s - loss: 0.4959 - accuracy: 0.7551\n",
            "Epoch 7: ReduceLROnPlateau reducing learning rate to 1.0000000474974514e-05.\n",
            "1164/1164 [==============================] - 86s 74ms/step - loss: 0.4959 - accuracy: 0.7551 - val_loss: 0.7161 - val_accuracy: 0.5615 - lr: 1.0000e-04\n",
            "Epoch 8/20\n",
            "1164/1164 [==============================] - 86s 74ms/step - loss: 0.5313 - accuracy: 0.7339 - val_loss: 0.7138 - val_accuracy: 0.5830 - lr: 1.0000e-05\n",
            "Epoch 9/20\n",
            "1164/1164 [==============================] - 91s 78ms/step - loss: 0.5362 - accuracy: 0.7351 - val_loss: 0.7071 - val_accuracy: 0.5525 - lr: 1.0000e-05\n",
            "Epoch 10/20\n",
            "1164/1164 [==============================] - ETA: 0s - loss: 0.5224 - accuracy: 0.7448\n",
            "Epoch 10: ReduceLROnPlateau reducing learning rate to 1.0000000656873453e-06.\n",
            "1164/1164 [==============================] - 91s 79ms/step - loss: 0.5224 - accuracy: 0.7448 - val_loss: 0.5826 - val_accuracy: 0.6872 - lr: 1.0000e-05\n",
            "Epoch 11/20\n",
            "1164/1164 [==============================] - 87s 74ms/step - loss: 0.5231 - accuracy: 0.7447 - val_loss: 0.5183 - val_accuracy: 0.7457 - lr: 1.0000e-06\n",
            "Epoch 12/20\n",
            "1164/1164 [==============================] - 86s 74ms/step - loss: 0.5165 - accuracy: 0.7484 - val_loss: 0.5087 - val_accuracy: 0.7517 - lr: 1.0000e-06\n",
            "Epoch 13/20\n",
            "1164/1164 [==============================] - ETA: 0s - loss: 0.5131 - accuracy: 0.7505\n",
            "Epoch 13: ReduceLROnPlateau reducing learning rate to 1.0000001111620805e-07.\n",
            "1164/1164 [==============================] - 91s 78ms/step - loss: 0.5131 - accuracy: 0.7505 - val_loss: 0.5064 - val_accuracy: 0.7539 - lr: 1.0000e-06\n",
            "Epoch 14/20\n",
            "1164/1164 [==============================] - 86s 74ms/step - loss: 0.5144 - accuracy: 0.7499 - val_loss: 0.5058 - val_accuracy: 0.7539 - lr: 1.0000e-07\n",
            "Epoch 15/20\n",
            "1164/1164 [==============================] - 86s 74ms/step - loss: 0.5153 - accuracy: 0.7492 - val_loss: 0.5059 - val_accuracy: 0.7539 - lr: 1.0000e-07\n",
            "Epoch 16/20\n",
            "1164/1164 [==============================] - ETA: 0s - loss: 0.5180 - accuracy: 0.7466\n",
            "Epoch 16: ReduceLROnPlateau reducing learning rate to 1.000000082740371e-08.\n",
            "1164/1164 [==============================] - 86s 74ms/step - loss: 0.5180 - accuracy: 0.7466 - val_loss: 0.5056 - val_accuracy: 0.7534 - lr: 1.0000e-07\n",
            "Epoch 17/20\n",
            "1164/1164 [==============================] - 86s 74ms/step - loss: 0.5160 - accuracy: 0.7475 - val_loss: 0.5059 - val_accuracy: 0.7534 - lr: 1.0000e-08\n",
            "Epoch 18/20\n",
            "1164/1164 [==============================] - 86s 74ms/step - loss: 0.5165 - accuracy: 0.7469 - val_loss: 0.5060 - val_accuracy: 0.7539 - lr: 1.0000e-08\n",
            "Epoch 19/20\n",
            "1164/1164 [==============================] - ETA: 0s - loss: 0.5155 - accuracy: 0.7462\n",
            "Epoch 19: ReduceLROnPlateau reducing learning rate to 1.000000082740371e-09.\n",
            "1164/1164 [==============================] - 86s 73ms/step - loss: 0.5155 - accuracy: 0.7462 - val_loss: 0.5060 - val_accuracy: 0.7537 - lr: 1.0000e-08\n",
            "Epoch 20/20\n",
            "1164/1164 [==============================] - 86s 74ms/step - loss: 0.5176 - accuracy: 0.7459 - val_loss: 0.5056 - val_accuracy: 0.7532 - lr: 1.0000e-09\n",
            "Sparsity : 0.7 \tValidation Loss: 0.5056, \tValidation Accuracy: 75.3224\n",
            "Epoch 1/20\n",
            "   6/1164 [..............................] - ETA: 1:20 - loss: 0.8243 - accuracy: 0.6250WARNING:tensorflow:Callback method `on_train_batch_end` is slow compared to the batch time (batch time: 0.0620s vs `on_train_batch_end` time: 0.1741s). Check your callbacks.\n"
          ]
        },
        {
          "output_type": "stream",
          "name": "stderr",
          "text": [
            "WARNING:tensorflow:Callback method `on_train_batch_end` is slow compared to the batch time (batch time: 0.0620s vs `on_train_batch_end` time: 0.1741s). Check your callbacks.\n"
          ]
        },
        {
          "output_type": "stream",
          "name": "stdout",
          "text": [
            "1164/1164 [==============================] - 134s 80ms/step - loss: 0.4352 - accuracy: 0.8220 - val_loss: 0.4424 - val_accuracy: 0.8065 - lr: 0.0010\n",
            "Epoch 2/20\n",
            "1164/1164 [==============================] - 91s 78ms/step - loss: 0.2963 - accuracy: 0.8775 - val_loss: 0.3059 - val_accuracy: 0.8669 - lr: 0.0010\n",
            "Epoch 3/20\n",
            "1164/1164 [==============================] - 86s 74ms/step - loss: 0.2386 - accuracy: 0.9032 - val_loss: 0.2746 - val_accuracy: 0.8826 - lr: 0.0010\n",
            "Epoch 4/20\n",
            "1164/1164 [==============================] - 86s 74ms/step - loss: 0.2113 - accuracy: 0.9138 - val_loss: 0.2594 - val_accuracy: 0.8831 - lr: 0.0010\n",
            "Epoch 5/20\n",
            "1164/1164 [==============================] - 91s 78ms/step - loss: 0.1899 - accuracy: 0.9239 - val_loss: 0.2754 - val_accuracy: 0.8874 - lr: 0.0010\n",
            "Epoch 6/20\n",
            "1164/1164 [==============================] - 86s 74ms/step - loss: 0.4036 - accuracy: 0.8195 - val_loss: 0.7712 - val_accuracy: 0.5146 - lr: 0.0010\n",
            "Epoch 7/20\n",
            "1164/1164 [==============================] - ETA: 0s - loss: 0.5501 - accuracy: 0.7341\n",
            "Epoch 7: ReduceLROnPlateau reducing learning rate to 0.00010000000474974513.\n",
            "1164/1164 [==============================] - 86s 74ms/step - loss: 0.5501 - accuracy: 0.7341 - val_loss: 1.1243 - val_accuracy: 0.4901 - lr: 0.0010\n",
            "Epoch 8/20\n",
            "1164/1164 [==============================] - 87s 74ms/step - loss: 0.5899 - accuracy: 0.6881 - val_loss: 0.6945 - val_accuracy: 0.5112 - lr: 1.0000e-04\n",
            "Epoch 9/20\n",
            "1164/1164 [==============================] - 86s 74ms/step - loss: 0.5546 - accuracy: 0.7143 - val_loss: 0.6975 - val_accuracy: 0.5073 - lr: 1.0000e-04\n",
            "Epoch 10/20\n",
            "1164/1164 [==============================] - ETA: 0s - loss: 0.5071 - accuracy: 0.7475\n",
            "Epoch 10: ReduceLROnPlateau reducing learning rate to 1.0000000474974514e-05.\n",
            "1164/1164 [==============================] - 91s 79ms/step - loss: 0.5071 - accuracy: 0.7475 - val_loss: 0.6377 - val_accuracy: 0.6260 - lr: 1.0000e-04\n",
            "Epoch 11/20\n",
            "1164/1164 [==============================] - 86s 74ms/step - loss: 0.4761 - accuracy: 0.7711 - val_loss: 0.4919 - val_accuracy: 0.7663 - lr: 1.0000e-05\n",
            "Epoch 12/20\n",
            "1164/1164 [==============================] - 86s 74ms/step - loss: 0.4723 - accuracy: 0.7711 - val_loss: 0.4681 - val_accuracy: 0.7792 - lr: 1.0000e-05\n",
            "Epoch 13/20\n",
            "1164/1164 [==============================] - ETA: 0s - loss: 0.4696 - accuracy: 0.7731\n",
            "Epoch 13: ReduceLROnPlateau reducing learning rate to 1.0000000656873453e-06.\n",
            "1164/1164 [==============================] - 86s 74ms/step - loss: 0.4696 - accuracy: 0.7731 - val_loss: 0.4624 - val_accuracy: 0.7874 - lr: 1.0000e-05\n",
            "Epoch 14/20\n",
            "1164/1164 [==============================] - 86s 74ms/step - loss: 0.4651 - accuracy: 0.7761 - val_loss: 0.4614 - val_accuracy: 0.7887 - lr: 1.0000e-06\n",
            "Epoch 15/20\n",
            "1164/1164 [==============================] - 86s 74ms/step - loss: 0.4668 - accuracy: 0.7763 - val_loss: 0.4605 - val_accuracy: 0.7880 - lr: 1.0000e-06\n",
            "Epoch 16/20\n",
            "1164/1164 [==============================] - ETA: 0s - loss: 0.4656 - accuracy: 0.7762\n",
            "Epoch 16: ReduceLROnPlateau reducing learning rate to 1.0000001111620805e-07.\n",
            "1164/1164 [==============================] - 91s 78ms/step - loss: 0.4656 - accuracy: 0.7762 - val_loss: 0.4605 - val_accuracy: 0.7880 - lr: 1.0000e-06\n",
            "Epoch 17/20\n",
            "1164/1164 [==============================] - 86s 74ms/step - loss: 0.4644 - accuracy: 0.7752 - val_loss: 0.4602 - val_accuracy: 0.7885 - lr: 1.0000e-07\n",
            "Epoch 18/20\n",
            "1164/1164 [==============================] - 91s 78ms/step - loss: 0.4655 - accuracy: 0.7764 - val_loss: 0.4601 - val_accuracy: 0.7885 - lr: 1.0000e-07\n",
            "Epoch 19/20\n",
            "1164/1164 [==============================] - ETA: 0s - loss: 0.4659 - accuracy: 0.7765\n",
            "Epoch 19: ReduceLROnPlateau reducing learning rate to 1.000000082740371e-08.\n",
            "1164/1164 [==============================] - 86s 74ms/step - loss: 0.4659 - accuracy: 0.7765 - val_loss: 0.4601 - val_accuracy: 0.7883 - lr: 1.0000e-07\n",
            "Epoch 20/20\n",
            "1164/1164 [==============================] - 86s 74ms/step - loss: 0.4637 - accuracy: 0.7788 - val_loss: 0.4600 - val_accuracy: 0.7887 - lr: 1.0000e-08\n",
            "Sparsity : 0.8 \tValidation Loss: 0.46, \tValidation Accuracy: 78.8693\n",
            "Epoch 1/20\n",
            "   6/1164 [..............................] - ETA: 1:19 - loss: 0.3969 - accuracy: 0.8646WARNING:tensorflow:Callback method `on_train_batch_end` is slow compared to the batch time (batch time: 0.0613s vs `on_train_batch_end` time: 0.1954s). Check your callbacks.\n"
          ]
        },
        {
          "output_type": "stream",
          "name": "stderr",
          "text": [
            "WARNING:tensorflow:Callback method `on_train_batch_end` is slow compared to the batch time (batch time: 0.0613s vs `on_train_batch_end` time: 0.1954s). Check your callbacks.\n"
          ]
        },
        {
          "output_type": "stream",
          "name": "stdout",
          "text": [
            "1164/1164 [==============================] - 128s 76ms/step - loss: 0.4588 - accuracy: 0.7941 - val_loss: 0.6106 - val_accuracy: 0.7790 - lr: 0.0010\n",
            "Epoch 2/20\n",
            "1164/1164 [==============================] - 91s 78ms/step - loss: 0.4123 - accuracy: 0.8274 - val_loss: 0.3416 - val_accuracy: 0.8446 - lr: 0.0010\n",
            "Epoch 3/20\n",
            "1164/1164 [==============================] - 85s 73ms/step - loss: 0.3325 - accuracy: 0.8554 - val_loss: 0.3352 - val_accuracy: 0.8495 - lr: 0.0010\n",
            "Epoch 4/20\n",
            "1164/1164 [==============================] - 90s 78ms/step - loss: 0.3025 - accuracy: 0.8722 - val_loss: 0.3648 - val_accuracy: 0.8295 - lr: 0.0010\n",
            "Epoch 5/20\n",
            "1164/1164 [==============================] - 86s 74ms/step - loss: 0.2923 - accuracy: 0.8768 - val_loss: 0.3313 - val_accuracy: 0.8476 - lr: 0.0010\n",
            "Epoch 6/20\n",
            "1164/1164 [==============================] - 86s 74ms/step - loss: 0.5072 - accuracy: 0.7423 - val_loss: 0.8756 - val_accuracy: 0.5099 - lr: 0.0010\n",
            "Epoch 7/20\n",
            "1164/1164 [==============================] - 86s 74ms/step - loss: 0.6503 - accuracy: 0.6340 - val_loss: 1.2742 - val_accuracy: 0.4901 - lr: 0.0010\n",
            "Epoch 8/20\n",
            "1164/1164 [==============================] - ETA: 0s - loss: 0.6442 - accuracy: 0.6389\n",
            "Epoch 8: ReduceLROnPlateau reducing learning rate to 0.00010000000474974513.\n",
            "1164/1164 [==============================] - 86s 74ms/step - loss: 0.6442 - accuracy: 0.6389 - val_loss: 0.6930 - val_accuracy: 0.5099 - lr: 0.0010\n",
            "Epoch 9/20\n",
            "1164/1164 [==============================] - 91s 78ms/step - loss: 0.6409 - accuracy: 0.6304 - val_loss: 0.7365 - val_accuracy: 0.4966 - lr: 1.0000e-04\n",
            "Epoch 10/20\n",
            "1164/1164 [==============================] - 86s 74ms/step - loss: 0.6290 - accuracy: 0.6518 - val_loss: 0.6930 - val_accuracy: 0.5099 - lr: 1.0000e-04\n",
            "Epoch 11/20\n",
            "1164/1164 [==============================] - ETA: 0s - loss: 0.5911 - accuracy: 0.6851\n",
            "Epoch 11: ReduceLROnPlateau reducing learning rate to 1.0000000474974514e-05.\n",
            "1164/1164 [==============================] - 85s 73ms/step - loss: 0.5911 - accuracy: 0.6851 - val_loss: 0.8145 - val_accuracy: 0.4931 - lr: 1.0000e-04\n",
            "Epoch 12/20\n",
            "1164/1164 [==============================] - 91s 78ms/step - loss: 0.5753 - accuracy: 0.6967 - val_loss: 0.6328 - val_accuracy: 0.6290 - lr: 1.0000e-05\n",
            "Epoch 13/20\n",
            "1164/1164 [==============================] - 86s 74ms/step - loss: 0.5728 - accuracy: 0.7026 - val_loss: 0.5881 - val_accuracy: 0.6857 - lr: 1.0000e-05\n",
            "Epoch 14/20\n",
            "1164/1164 [==============================] - ETA: 0s - loss: 0.5715 - accuracy: 0.7056\n",
            "Epoch 14: ReduceLROnPlateau reducing learning rate to 1.0000000656873453e-06.\n",
            "1164/1164 [==============================] - 86s 74ms/step - loss: 0.5715 - accuracy: 0.7056 - val_loss: 0.5732 - val_accuracy: 0.6980 - lr: 1.0000e-05\n",
            "Epoch 15/20\n",
            "1164/1164 [==============================] - 86s 73ms/step - loss: 0.5690 - accuracy: 0.7045 - val_loss: 0.5690 - val_accuracy: 0.7049 - lr: 1.0000e-06\n",
            "Epoch 16/20\n",
            "1164/1164 [==============================] - 86s 73ms/step - loss: 0.5695 - accuracy: 0.7028 - val_loss: 0.5687 - val_accuracy: 0.7061 - lr: 1.0000e-06\n",
            "Epoch 17/20\n",
            "1164/1164 [==============================] - ETA: 0s - loss: 0.5694 - accuracy: 0.7004\n",
            "Epoch 17: ReduceLROnPlateau reducing learning rate to 1.0000001111620805e-07.\n",
            "1164/1164 [==============================] - 90s 77ms/step - loss: 0.5694 - accuracy: 0.7004 - val_loss: 0.5685 - val_accuracy: 0.7059 - lr: 1.0000e-06\n",
            "Epoch 18/20\n",
            "1164/1164 [==============================] - 86s 73ms/step - loss: 0.5684 - accuracy: 0.7065 - val_loss: 0.5684 - val_accuracy: 0.7049 - lr: 1.0000e-07\n",
            "Epoch 19/20\n",
            "1164/1164 [==============================] - 86s 74ms/step - loss: 0.5688 - accuracy: 0.7048 - val_loss: 0.5687 - val_accuracy: 0.7059 - lr: 1.0000e-07\n",
            "Epoch 20/20\n",
            "1164/1164 [==============================] - ETA: 0s - loss: 0.5681 - accuracy: 0.7059\n",
            "Epoch 20: ReduceLROnPlateau reducing learning rate to 1.000000082740371e-08.\n",
            "1164/1164 [==============================] - 86s 73ms/step - loss: 0.5681 - accuracy: 0.7059 - val_loss: 0.5685 - val_accuracy: 0.7051 - lr: 1.0000e-07\n",
            "Sparsity : 0.9 \tValidation Loss: 0.5685, \tValidation Accuracy: 70.5073\n",
            "Epoch 1/20\n",
            "   6/1164 [..............................] - ETA: 1:20 - loss: 1.1277 - accuracy: 0.5000WARNING:tensorflow:Callback method `on_train_batch_end` is slow compared to the batch time (batch time: 0.0612s vs `on_train_batch_end` time: 0.1842s). Check your callbacks.\n"
          ]
        },
        {
          "output_type": "stream",
          "name": "stderr",
          "text": [
            "WARNING:tensorflow:Callback method `on_train_batch_end` is slow compared to the batch time (batch time: 0.0612s vs `on_train_batch_end` time: 0.1842s). Check your callbacks.\n"
          ]
        },
        {
          "output_type": "stream",
          "name": "stdout",
          "text": [
            "1164/1164 [==============================] - 130s 78ms/step - loss: 0.6620 - accuracy: 0.6674 - val_loss: 1.1760 - val_accuracy: 0.5252 - lr: 0.0010\n",
            "Epoch 2/20\n",
            "1164/1164 [==============================] - 84s 72ms/step - loss: 0.5709 - accuracy: 0.7117 - val_loss: 0.9027 - val_accuracy: 0.5533 - lr: 0.0010\n",
            "Epoch 3/20\n",
            "1164/1164 [==============================] - 84s 72ms/step - loss: 0.5375 - accuracy: 0.7321 - val_loss: 0.6593 - val_accuracy: 0.6303 - lr: 0.0010\n",
            "Epoch 4/20\n",
            "1164/1164 [==============================] - 84s 72ms/step - loss: 0.5214 - accuracy: 0.7418 - val_loss: 0.8366 - val_accuracy: 0.5656 - lr: 0.0010\n",
            "Epoch 5/20\n",
            "1164/1164 [==============================] - 85s 73ms/step - loss: 0.4991 - accuracy: 0.7554 - val_loss: 1.3384 - val_accuracy: 0.5125 - lr: 0.0010\n",
            "Epoch 6/20\n",
            "1164/1164 [==============================] - ETA: 0s - loss: 0.4945 - accuracy: 0.7597\n",
            "Epoch 6: ReduceLROnPlateau reducing learning rate to 0.00010000000474974513.\n",
            "1164/1164 [==============================] - 85s 73ms/step - loss: 0.4945 - accuracy: 0.7597 - val_loss: 1.0147 - val_accuracy: 0.5101 - lr: 0.0010\n",
            "Epoch 7/20\n",
            "1164/1164 [==============================] - 90s 77ms/step - loss: 0.6308 - accuracy: 0.6412 - val_loss: 0.7172 - val_accuracy: 0.5099 - lr: 1.0000e-04\n",
            "Epoch 8/20\n",
            "1164/1164 [==============================] - 85s 73ms/step - loss: 0.6880 - accuracy: 0.5600 - val_loss: 0.8892 - val_accuracy: 0.4901 - lr: 1.0000e-04\n",
            "Epoch 9/20\n",
            "1164/1164 [==============================] - ETA: 0s - loss: 0.6800 - accuracy: 0.5679\n",
            "Epoch 9: ReduceLROnPlateau reducing learning rate to 1.0000000474974514e-05.\n",
            "1164/1164 [==============================] - 90s 77ms/step - loss: 0.6800 - accuracy: 0.5679 - val_loss: 0.7138 - val_accuracy: 0.4901 - lr: 1.0000e-04\n",
            "Epoch 10/20\n",
            "1164/1164 [==============================] - 85s 73ms/step - loss: 0.6820 - accuracy: 0.5721 - val_loss: 0.7140 - val_accuracy: 0.4901 - lr: 1.0000e-05\n",
            "Epoch 11/20\n",
            "1164/1164 [==============================] - 84s 72ms/step - loss: 0.6758 - accuracy: 0.5822 - val_loss: 0.7160 - val_accuracy: 0.4901 - lr: 1.0000e-05\n",
            "Epoch 12/20\n",
            "1164/1164 [==============================] - ETA: 0s - loss: 0.6711 - accuracy: 0.5906\n",
            "Epoch 12: ReduceLROnPlateau reducing learning rate to 1.0000000656873453e-06.\n",
            "1164/1164 [==============================] - 85s 73ms/step - loss: 0.6711 - accuracy: 0.5906 - val_loss: 0.6938 - val_accuracy: 0.5127 - lr: 1.0000e-05\n",
            "Epoch 13/20\n",
            "1164/1164 [==============================] - 84s 72ms/step - loss: 0.6678 - accuracy: 0.5990 - val_loss: 0.6802 - val_accuracy: 0.5757 - lr: 1.0000e-06\n",
            "Epoch 14/20\n",
            "1164/1164 [==============================] - 84s 72ms/step - loss: 0.6689 - accuracy: 0.5949 - val_loss: 0.6650 - val_accuracy: 0.6023 - lr: 1.0000e-06\n",
            "Epoch 15/20\n",
            "1164/1164 [==============================] - ETA: 0s - loss: 0.6685 - accuracy: 0.5974\n",
            "Epoch 15: ReduceLROnPlateau reducing learning rate to 1.0000001111620805e-07.\n",
            "1164/1164 [==============================] - 85s 73ms/step - loss: 0.6685 - accuracy: 0.5974 - val_loss: 0.6618 - val_accuracy: 0.6055 - lr: 1.0000e-06\n",
            "Epoch 16/20\n",
            "1164/1164 [==============================] - 90s 77ms/step - loss: 0.6684 - accuracy: 0.5930 - val_loss: 0.6614 - val_accuracy: 0.6066 - lr: 1.0000e-07\n",
            "Epoch 17/20\n",
            "1164/1164 [==============================] - 84s 73ms/step - loss: 0.6680 - accuracy: 0.5955 - val_loss: 0.6614 - val_accuracy: 0.6098 - lr: 1.0000e-07\n",
            "Epoch 18/20\n",
            "1164/1164 [==============================] - ETA: 0s - loss: 0.6670 - accuracy: 0.5948\n",
            "Epoch 18: ReduceLROnPlateau reducing learning rate to 1.000000082740371e-08.\n",
            "1164/1164 [==============================] - 84s 72ms/step - loss: 0.6670 - accuracy: 0.5948 - val_loss: 0.6612 - val_accuracy: 0.6083 - lr: 1.0000e-07\n",
            "Epoch 19/20\n",
            "1164/1164 [==============================] - 90s 77ms/step - loss: 0.6663 - accuracy: 0.5953 - val_loss: 0.6612 - val_accuracy: 0.6086 - lr: 1.0000e-08\n",
            "Epoch 20/20\n",
            "1164/1164 [==============================] - 85s 73ms/step - loss: 0.6677 - accuracy: 0.5956 - val_loss: 0.6612 - val_accuracy: 0.6081 - lr: 1.0000e-08\n",
            "Sparsity : 0.95 \tValidation Loss: 0.6612, \tValidation Accuracy: 60.8126\n",
            "Epoch 1/20\n",
            "   6/1164 [..............................] - ETA: 1:20 - loss: 0.8193 - accuracy: 0.5833WARNING:tensorflow:Callback method `on_train_batch_end` is slow compared to the batch time (batch time: 0.0623s vs `on_train_batch_end` time: 0.1749s). Check your callbacks.\n"
          ]
        },
        {
          "output_type": "stream",
          "name": "stderr",
          "text": [
            "WARNING:tensorflow:Callback method `on_train_batch_end` is slow compared to the batch time (batch time: 0.0623s vs `on_train_batch_end` time: 0.1749s). Check your callbacks.\n"
          ]
        },
        {
          "output_type": "stream",
          "name": "stdout",
          "text": [
            "1164/1164 [==============================] - 131s 79ms/step - loss: 0.7246 - accuracy: 0.6139 - val_loss: 0.9235 - val_accuracy: 0.5123 - lr: 0.0010\n",
            "Epoch 2/20\n",
            "1164/1164 [==============================] - 85s 73ms/step - loss: 0.6526 - accuracy: 0.6556 - val_loss: 0.9520 - val_accuracy: 0.4901 - lr: 0.0010\n",
            "Epoch 3/20\n",
            "1164/1164 [==============================] - 86s 74ms/step - loss: 0.5995 - accuracy: 0.6878 - val_loss: 0.5738 - val_accuracy: 0.6963 - lr: 0.0010\n",
            "Epoch 4/20\n",
            "1164/1164 [==============================] - 85s 73ms/step - loss: 0.5688 - accuracy: 0.7039 - val_loss: 0.5504 - val_accuracy: 0.7218 - lr: 0.0010\n",
            "Epoch 5/20\n",
            "1164/1164 [==============================] - 90s 78ms/step - loss: 0.5533 - accuracy: 0.7173 - val_loss: 0.5889 - val_accuracy: 0.6930 - lr: 0.0010\n",
            "Epoch 6/20\n",
            "1164/1164 [==============================] - 86s 74ms/step - loss: 0.5425 - accuracy: 0.7256 - val_loss: 0.6438 - val_accuracy: 0.6023 - lr: 0.0010\n",
            "Epoch 7/20\n",
            "1164/1164 [==============================] - ETA: 0s - loss: 0.5411 - accuracy: 0.7251\n",
            "Epoch 7: ReduceLROnPlateau reducing learning rate to 0.00010000000474974513.\n",
            "1164/1164 [==============================] - 86s 73ms/step - loss: 0.5411 - accuracy: 0.7251 - val_loss: 0.6492 - val_accuracy: 0.6853 - lr: 0.0010\n",
            "Epoch 8/20\n",
            "1164/1164 [==============================] - 85s 73ms/step - loss: 0.6576 - accuracy: 0.6074 - val_loss: 1.0707 - val_accuracy: 0.5099 - lr: 1.0000e-04\n",
            "Epoch 9/20\n",
            "1164/1164 [==============================] - 85s 73ms/step - loss: 0.6943 - accuracy: 0.5650 - val_loss: 0.7962 - val_accuracy: 0.5099 - lr: 1.0000e-04\n",
            "Epoch 10/20\n",
            "1164/1164 [==============================] - ETA: 0s - loss: 0.6803 - accuracy: 0.5634\n",
            "Epoch 10: ReduceLROnPlateau reducing learning rate to 1.0000000474974514e-05.\n",
            "1164/1164 [==============================] - 90s 77ms/step - loss: 0.6803 - accuracy: 0.5634 - val_loss: 0.6930 - val_accuracy: 0.5099 - lr: 1.0000e-04\n",
            "Epoch 11/20\n",
            "1164/1164 [==============================] - 85s 73ms/step - loss: 0.6673 - accuracy: 0.5884 - val_loss: 0.6933 - val_accuracy: 0.5099 - lr: 1.0000e-05\n",
            "Epoch 12/20\n",
            "1164/1164 [==============================] - 85s 73ms/step - loss: 0.6643 - accuracy: 0.5915 - val_loss: 0.8288 - val_accuracy: 0.4901 - lr: 1.0000e-05\n",
            "Epoch 13/20\n",
            "1164/1164 [==============================] - ETA: 0s - loss: 0.6623 - accuracy: 0.5924\n",
            "Epoch 13: ReduceLROnPlateau reducing learning rate to 1.0000000656873453e-06.\n",
            "1164/1164 [==============================] - 90s 77ms/step - loss: 0.6623 - accuracy: 0.5924 - val_loss: 0.8250 - val_accuracy: 0.4901 - lr: 1.0000e-05\n",
            "Epoch 14/20\n",
            "1164/1164 [==============================] - 85s 73ms/step - loss: 0.6609 - accuracy: 0.5969 - val_loss: 0.7318 - val_accuracy: 0.4920 - lr: 1.0000e-06\n",
            "Epoch 15/20\n",
            "1164/1164 [==============================] - 85s 73ms/step - loss: 0.6611 - accuracy: 0.6003 - val_loss: 0.6634 - val_accuracy: 0.5993 - lr: 1.0000e-06\n",
            "Epoch 16/20\n",
            "1164/1164 [==============================] - ETA: 0s - loss: 0.6600 - accuracy: 0.6001\n",
            "Epoch 16: ReduceLROnPlateau reducing learning rate to 1.0000001111620805e-07.\n",
            "1164/1164 [==============================] - 85s 73ms/step - loss: 0.6600 - accuracy: 0.6001 - val_loss: 0.6567 - val_accuracy: 0.6077 - lr: 1.0000e-06\n",
            "Epoch 17/20\n",
            "1164/1164 [==============================] - 85s 73ms/step - loss: 0.6612 - accuracy: 0.5993 - val_loss: 0.6567 - val_accuracy: 0.6071 - lr: 1.0000e-07\n",
            "Epoch 18/20\n",
            "1164/1164 [==============================] - 85s 73ms/step - loss: 0.6610 - accuracy: 0.5997 - val_loss: 0.6556 - val_accuracy: 0.6086 - lr: 1.0000e-07\n",
            "Epoch 19/20\n",
            "1164/1164 [==============================] - ETA: 0s - loss: 0.6600 - accuracy: 0.6006\n",
            "Epoch 19: ReduceLROnPlateau reducing learning rate to 1.000000082740371e-08.\n",
            "1164/1164 [==============================] - 85s 73ms/step - loss: 0.6600 - accuracy: 0.6006 - val_loss: 0.6554 - val_accuracy: 0.6083 - lr: 1.0000e-07\n",
            "Epoch 20/20\n",
            "1164/1164 [==============================] - 86s 74ms/step - loss: 0.6595 - accuracy: 0.6010 - val_loss: 0.6555 - val_accuracy: 0.6090 - lr: 1.0000e-08\n",
            "Sparsity : 0.97 \tValidation Loss: 0.6555, \tValidation Accuracy: 60.8985\n",
            "Epoch 1/20\n",
            "   6/1164 [..............................] - ETA: 1:22 - loss: 1.3574 - accuracy: 0.3958WARNING:tensorflow:Callback method `on_train_batch_end` is slow compared to the batch time (batch time: 0.0632s vs `on_train_batch_end` time: 0.1820s). Check your callbacks.\n"
          ]
        },
        {
          "output_type": "stream",
          "name": "stderr",
          "text": [
            "WARNING:tensorflow:Callback method `on_train_batch_end` is slow compared to the batch time (batch time: 0.0632s vs `on_train_batch_end` time: 0.1820s). Check your callbacks.\n"
          ]
        },
        {
          "output_type": "stream",
          "name": "stdout",
          "text": [
            "1164/1164 [==============================] - 133s 80ms/step - loss: 0.7389 - accuracy: 0.5801 - val_loss: 1.0018 - val_accuracy: 0.5099 - lr: 0.0010\n",
            "Epoch 2/20\n",
            "1164/1164 [==============================] - 87s 74ms/step - loss: 0.6322 - accuracy: 0.6472 - val_loss: 0.8014 - val_accuracy: 0.5099 - lr: 0.0010\n",
            "Epoch 3/20\n",
            "1164/1164 [==============================] - 86s 74ms/step - loss: 0.6035 - accuracy: 0.6780 - val_loss: 0.7229 - val_accuracy: 0.5847 - lr: 0.0010\n",
            "Epoch 4/20\n",
            "1164/1164 [==============================] - 87s 74ms/step - loss: 0.5919 - accuracy: 0.6844 - val_loss: 1.1461 - val_accuracy: 0.4901 - lr: 0.0010\n",
            "Epoch 5/20\n",
            "1164/1164 [==============================] - 86s 74ms/step - loss: 0.5845 - accuracy: 0.6931 - val_loss: 0.6808 - val_accuracy: 0.6148 - lr: 0.0010\n",
            "Epoch 6/20\n",
            "1164/1164 [==============================] - 86s 74ms/step - loss: 0.5739 - accuracy: 0.6976 - val_loss: 1.0110 - val_accuracy: 0.5103 - lr: 0.0010\n",
            "Epoch 7/20\n",
            "1164/1164 [==============================] - 87s 74ms/step - loss: 0.5685 - accuracy: 0.7020 - val_loss: 0.9098 - val_accuracy: 0.5099 - lr: 0.0010\n",
            "Epoch 8/20\n",
            "1164/1164 [==============================] - ETA: 0s - loss: 0.6753 - accuracy: 0.5806\n",
            "Epoch 8: ReduceLROnPlateau reducing learning rate to 0.00010000000474974513.\n",
            "1164/1164 [==============================] - 87s 74ms/step - loss: 0.6753 - accuracy: 0.5806 - val_loss: 0.6934 - val_accuracy: 0.5099 - lr: 0.0010\n",
            "Epoch 9/20\n",
            "1164/1164 [==============================] - 91s 78ms/step - loss: 0.7238 - accuracy: 0.5078 - val_loss: 0.8112 - val_accuracy: 0.5099 - lr: 1.0000e-04\n",
            "Epoch 10/20\n",
            "1164/1164 [==============================] - 91s 78ms/step - loss: 0.7022 - accuracy: 0.4999 - val_loss: 0.6940 - val_accuracy: 0.4901 - lr: 1.0000e-04\n",
            "Epoch 11/20\n",
            "1164/1164 [==============================] - ETA: 0s - loss: 0.6938 - accuracy: 0.5055\n",
            "Epoch 11: ReduceLROnPlateau reducing learning rate to 1.0000000474974514e-05.\n",
            "1164/1164 [==============================] - 86s 74ms/step - loss: 0.6938 - accuracy: 0.5055 - val_loss: 0.6966 - val_accuracy: 0.4901 - lr: 1.0000e-04\n",
            "Epoch 12/20\n",
            "1164/1164 [==============================] - 86s 74ms/step - loss: 0.6932 - accuracy: 0.5014 - val_loss: 0.6943 - val_accuracy: 0.4901 - lr: 1.0000e-05\n",
            "Epoch 13/20\n",
            "1164/1164 [==============================] - 86s 74ms/step - loss: 0.6932 - accuracy: 0.4961 - val_loss: 0.7104 - val_accuracy: 0.5099 - lr: 1.0000e-05\n",
            "Epoch 14/20\n",
            "1164/1164 [==============================] - ETA: 0s - loss: 0.6932 - accuracy: 0.4994\n",
            "Epoch 14: ReduceLROnPlateau reducing learning rate to 1.0000000656873453e-06.\n",
            "1164/1164 [==============================] - 86s 74ms/step - loss: 0.6932 - accuracy: 0.4994 - val_loss: 0.6948 - val_accuracy: 0.4901 - lr: 1.0000e-05\n",
            "Epoch 15/20\n",
            "1164/1164 [==============================] - 86s 74ms/step - loss: 0.6931 - accuracy: 0.5042 - val_loss: 0.8037 - val_accuracy: 0.5099 - lr: 1.0000e-06\n",
            "Epoch 16/20\n",
            "1164/1164 [==============================] - 86s 74ms/step - loss: 0.6931 - accuracy: 0.5042 - val_loss: 0.8042 - val_accuracy: 0.5099 - lr: 1.0000e-06\n",
            "Epoch 17/20\n",
            "1164/1164 [==============================] - ETA: 0s - loss: 0.6931 - accuracy: 0.5039\n",
            "Epoch 17: ReduceLROnPlateau reducing learning rate to 1.0000001111620805e-07.\n",
            "1164/1164 [==============================] - 86s 74ms/step - loss: 0.6931 - accuracy: 0.5039 - val_loss: 0.7198 - val_accuracy: 0.4901 - lr: 1.0000e-06\n",
            "Epoch 18/20\n",
            "1164/1164 [==============================] - 86s 74ms/step - loss: 0.6931 - accuracy: 0.5041 - val_loss: 0.7155 - val_accuracy: 0.4901 - lr: 1.0000e-07\n",
            "Epoch 19/20\n",
            "1164/1164 [==============================] - 85s 73ms/step - loss: 0.6931 - accuracy: 0.5041 - val_loss: 0.7167 - val_accuracy: 0.4901 - lr: 1.0000e-07\n",
            "Epoch 20/20\n",
            "1164/1164 [==============================] - ETA: 0s - loss: 0.6930 - accuracy: 0.5046\n",
            "Epoch 20: ReduceLROnPlateau reducing learning rate to 1.000000082740371e-08.\n",
            "1164/1164 [==============================] - 85s 73ms/step - loss: 0.6930 - accuracy: 0.5046 - val_loss: 0.7171 - val_accuracy: 0.4901 - lr: 1.0000e-07\n",
            "Sparsity : 0.99 \tValidation Loss: 0.7171, \tValidation Accuracy: 49.0112\n"
          ]
        }
      ]
    },
    {
      "cell_type": "code",
      "source": [
        "#docs_infra: no_execute\n",
        "%tensorboard --logdir={logdir}"
      ],
      "metadata": {
        "id": "Ufkkf_YYdXn3"
      },
      "execution_count": null,
      "outputs": []
    },
    {
      "cell_type": "code",
      "source": [
        "df.iloc[0] = base_metrics\n",
        "df"
      ],
      "metadata": {
        "colab": {
          "base_uri": "https://localhost:8080/",
          "height": 332
        },
        "id": "kI0QBJVlt-OJ",
        "outputId": "fd2d652a-eee2-4cfd-bf76-1e9fc0374649"
      },
      "execution_count": 57,
      "outputs": [
        {
          "output_type": "execute_result",
          "data": {
            "text/plain": [
              "   sparsity  val_loss  val_accuracy\n",
              "0      0.00    0.1183       97.9149\n",
              "1      0.50    0.2165       92.0249\n",
              "2      0.60    0.2745       88.4136\n",
              "3      0.70    0.5056       75.3224\n",
              "4      0.80    0.4600       78.8693\n",
              "5      0.90    0.5685       70.5073\n",
              "6      0.95    0.6612       60.8126\n",
              "7      0.97    0.6555       60.8985\n",
              "8      0.99    0.7171       49.0112"
            ],
            "text/html": [
              "\n",
              "  <div id=\"df-5988b9c5-8798-44ea-b566-6df87967a54a\">\n",
              "    <div class=\"colab-df-container\">\n",
              "      <div>\n",
              "<style scoped>\n",
              "    .dataframe tbody tr th:only-of-type {\n",
              "        vertical-align: middle;\n",
              "    }\n",
              "\n",
              "    .dataframe tbody tr th {\n",
              "        vertical-align: top;\n",
              "    }\n",
              "\n",
              "    .dataframe thead th {\n",
              "        text-align: right;\n",
              "    }\n",
              "</style>\n",
              "<table border=\"1\" class=\"dataframe\">\n",
              "  <thead>\n",
              "    <tr style=\"text-align: right;\">\n",
              "      <th></th>\n",
              "      <th>sparsity</th>\n",
              "      <th>val_loss</th>\n",
              "      <th>val_accuracy</th>\n",
              "    </tr>\n",
              "  </thead>\n",
              "  <tbody>\n",
              "    <tr>\n",
              "      <th>0</th>\n",
              "      <td>0.00</td>\n",
              "      <td>0.1183</td>\n",
              "      <td>97.9149</td>\n",
              "    </tr>\n",
              "    <tr>\n",
              "      <th>1</th>\n",
              "      <td>0.50</td>\n",
              "      <td>0.2165</td>\n",
              "      <td>92.0249</td>\n",
              "    </tr>\n",
              "    <tr>\n",
              "      <th>2</th>\n",
              "      <td>0.60</td>\n",
              "      <td>0.2745</td>\n",
              "      <td>88.4136</td>\n",
              "    </tr>\n",
              "    <tr>\n",
              "      <th>3</th>\n",
              "      <td>0.70</td>\n",
              "      <td>0.5056</td>\n",
              "      <td>75.3224</td>\n",
              "    </tr>\n",
              "    <tr>\n",
              "      <th>4</th>\n",
              "      <td>0.80</td>\n",
              "      <td>0.4600</td>\n",
              "      <td>78.8693</td>\n",
              "    </tr>\n",
              "    <tr>\n",
              "      <th>5</th>\n",
              "      <td>0.90</td>\n",
              "      <td>0.5685</td>\n",
              "      <td>70.5073</td>\n",
              "    </tr>\n",
              "    <tr>\n",
              "      <th>6</th>\n",
              "      <td>0.95</td>\n",
              "      <td>0.6612</td>\n",
              "      <td>60.8126</td>\n",
              "    </tr>\n",
              "    <tr>\n",
              "      <th>7</th>\n",
              "      <td>0.97</td>\n",
              "      <td>0.6555</td>\n",
              "      <td>60.8985</td>\n",
              "    </tr>\n",
              "    <tr>\n",
              "      <th>8</th>\n",
              "      <td>0.99</td>\n",
              "      <td>0.7171</td>\n",
              "      <td>49.0112</td>\n",
              "    </tr>\n",
              "  </tbody>\n",
              "</table>\n",
              "</div>\n",
              "      <button class=\"colab-df-convert\" onclick=\"convertToInteractive('df-5988b9c5-8798-44ea-b566-6df87967a54a')\"\n",
              "              title=\"Convert this dataframe to an interactive table.\"\n",
              "              style=\"display:none;\">\n",
              "        \n",
              "  <svg xmlns=\"http://www.w3.org/2000/svg\" height=\"24px\"viewBox=\"0 0 24 24\"\n",
              "       width=\"24px\">\n",
              "    <path d=\"M0 0h24v24H0V0z\" fill=\"none\"/>\n",
              "    <path d=\"M18.56 5.44l.94 2.06.94-2.06 2.06-.94-2.06-.94-.94-2.06-.94 2.06-2.06.94zm-11 1L8.5 8.5l.94-2.06 2.06-.94-2.06-.94L8.5 2.5l-.94 2.06-2.06.94zm10 10l.94 2.06.94-2.06 2.06-.94-2.06-.94-.94-2.06-.94 2.06-2.06.94z\"/><path d=\"M17.41 7.96l-1.37-1.37c-.4-.4-.92-.59-1.43-.59-.52 0-1.04.2-1.43.59L10.3 9.45l-7.72 7.72c-.78.78-.78 2.05 0 2.83L4 21.41c.39.39.9.59 1.41.59.51 0 1.02-.2 1.41-.59l7.78-7.78 2.81-2.81c.8-.78.8-2.07 0-2.86zM5.41 20L4 18.59l7.72-7.72 1.47 1.35L5.41 20z\"/>\n",
              "  </svg>\n",
              "      </button>\n",
              "      \n",
              "  <style>\n",
              "    .colab-df-container {\n",
              "      display:flex;\n",
              "      flex-wrap:wrap;\n",
              "      gap: 12px;\n",
              "    }\n",
              "\n",
              "    .colab-df-convert {\n",
              "      background-color: #E8F0FE;\n",
              "      border: none;\n",
              "      border-radius: 50%;\n",
              "      cursor: pointer;\n",
              "      display: none;\n",
              "      fill: #1967D2;\n",
              "      height: 32px;\n",
              "      padding: 0 0 0 0;\n",
              "      width: 32px;\n",
              "    }\n",
              "\n",
              "    .colab-df-convert:hover {\n",
              "      background-color: #E2EBFA;\n",
              "      box-shadow: 0px 1px 2px rgba(60, 64, 67, 0.3), 0px 1px 3px 1px rgba(60, 64, 67, 0.15);\n",
              "      fill: #174EA6;\n",
              "    }\n",
              "\n",
              "    [theme=dark] .colab-df-convert {\n",
              "      background-color: #3B4455;\n",
              "      fill: #D2E3FC;\n",
              "    }\n",
              "\n",
              "    [theme=dark] .colab-df-convert:hover {\n",
              "      background-color: #434B5C;\n",
              "      box-shadow: 0px 1px 3px 1px rgba(0, 0, 0, 0.15);\n",
              "      filter: drop-shadow(0px 1px 2px rgba(0, 0, 0, 0.3));\n",
              "      fill: #FFFFFF;\n",
              "    }\n",
              "  </style>\n",
              "\n",
              "      <script>\n",
              "        const buttonEl =\n",
              "          document.querySelector('#df-5988b9c5-8798-44ea-b566-6df87967a54a button.colab-df-convert');\n",
              "        buttonEl.style.display =\n",
              "          google.colab.kernel.accessAllowed ? 'block' : 'none';\n",
              "\n",
              "        async function convertToInteractive(key) {\n",
              "          const element = document.querySelector('#df-5988b9c5-8798-44ea-b566-6df87967a54a');\n",
              "          const dataTable =\n",
              "            await google.colab.kernel.invokeFunction('convertToInteractive',\n",
              "                                                     [key], {});\n",
              "          if (!dataTable) return;\n",
              "\n",
              "          const docLinkHtml = 'Like what you see? Visit the ' +\n",
              "            '<a target=\"_blank\" href=https://colab.research.google.com/notebooks/data_table.ipynb>data table notebook</a>'\n",
              "            + ' to learn more about interactive tables.';\n",
              "          element.innerHTML = '';\n",
              "          dataTable['output_type'] = 'display_data';\n",
              "          await google.colab.output.renderOutput(dataTable, element);\n",
              "          const docLink = document.createElement('div');\n",
              "          docLink.innerHTML = docLinkHtml;\n",
              "          element.appendChild(docLink);\n",
              "        }\n",
              "      </script>\n",
              "    </div>\n",
              "  </div>\n",
              "  "
            ]
          },
          "metadata": {},
          "execution_count": 57
        }
      ]
    },
    {
      "cell_type": "code",
      "source": [
        "from IPython.core.pylabtools import figsize\n",
        "# Visualizing performance on MNIST\n",
        "fig = plt.figure()\n",
        "ax1 = fig.add_subplot(1, 1, 1)\n",
        "plt.grid(b=None)\n",
        "ax2 = ax1.twinx()\n",
        "plt.grid(b=None)\n",
        "plt.title('Test Accuracy as a function of k% Sparsity\\nfor a `mobilenet` dataset trained on `cats_vs_dogs')\n",
        "ax1.plot(df['sparsity'].values,\n",
        "         df['val_accuracy'].values,\n",
        "         '#008fd5', linestyle='-', label='Pruning Accuracy')\n",
        "ax2.plot(df['sparsity'].values,\n",
        "         df['val_loss'].values,\n",
        "         '#fc4f30', linestyle='-', label='Pruning Loss')\n",
        "\n",
        "ax1.set_ylabel('Accuracy (%)', color='#008fd5')\n",
        "ax2.set_ylabel('Loss (sparse categorical crossentropy)', color='#fc4f30')\n",
        "ax1.set_xlabel('k% Sparsity')\n",
        "ax1.legend(loc='upper center', bbox_to_anchor=(0.5, -0.15), shadow=True, ncol=2);\n",
        "ax2.legend(loc='upper center', bbox_to_anchor=(0.5, -0.25), shadow=True, ncol=2);\n",
        "plt.savefig('Cats vs Dogs_sparsity_comparisons.png')"
      ],
      "metadata": {
        "colab": {
          "base_uri": "https://localhost:8080/",
          "height": 357
        },
        "id": "KLQra9DWkFXe",
        "outputId": "833e0d61-bbef-4b33-fa39-43f8da0e2513"
      },
      "execution_count": 58,
      "outputs": [
        {
          "output_type": "display_data",
          "data": {
            "text/plain": [
              "<Figure size 432x288 with 2 Axes>"
            ],
            "image/png": "[encoded data removed]"
          },
          "metadata": {
            "needs_background": "light"
          }
        }
      ]
    },
    {
      "cell_type": "code",
      "source": [
        "plot_model(pruned_model, to_file=\"pruned_model.jpeg\",show_shapes=True, show_dtype=True)"
      ],
      "metadata": {
        "colab": {
          "base_uri": "https://localhost:8080/",
          "height": 545
        },
        "id": "yefx4azFTuzA",
        "outputId": "c23a1708-3f02-416c-db04-695d7812ac87"
      },
      "execution_count": 59,
      "outputs": [
        {
          "output_type": "execute_result",
          "data": {
            "text/plain": [
              "<IPython.core.display.Image object>"
            ],
            "image/jpeg": "[encoded data removed]"
          },
          "metadata": {},
          "execution_count": 59
        }
      ]
    },
    {
      "cell_type": "code",
      "source": [
        "pruned_model.summary()"
      ],
      "metadata": {
        "id": "jhlEtM38YRe3",
        "colab": {
          "base_uri": "https://localhost:8080/"
        },
        "outputId": "74f8aa47-6e87-4fce-c342-4c998f8beb98"
      },
      "execution_count": 60,
      "outputs": [
        {
          "output_type": "stream",
          "name": "stdout",
          "text": [
            "Model: \"cats_vs_dogs\"\n",
            "_________________________________________________________________\n",
            " Layer (type)                Output Shape              Param #   \n",
            "=================================================================\n",
            " mobilenetv2_1.00_224 (Funct  (None, 7, 7, 1280)       4383708   \n",
            " ional)                                                          \n",
            "                                                                 \n",
            " prune_low_magnitude_global_  (None, 1280)             1         \n",
            " max_pooling2d (PruneLowMagn                                     \n",
            " itude)                                                          \n",
            "                                                                 \n",
            " prune_low_magnitude_dense (  (None, 2)                5124      \n",
            " PruneLowMagnitude)                                              \n",
            "                                                                 \n",
            "=================================================================\n",
            "Total params: 4,388,833\n",
            "Trainable params: 1,528,962\n",
            "Non-trainable params: 2,859,871\n",
            "_________________________________________________________________\n"
          ]
        }
      ]
    },
    {
      "cell_type": "code",
      "source": [
        "model_1.summary()"
      ],
      "metadata": {
        "colab": {
          "base_uri": "https://localhost:8080/"
        },
        "id": "NVerQe15YXVc",
        "outputId": "33ce2d83-4934-4776-bbb8-dbbfe64028f3"
      },
      "execution_count": 61,
      "outputs": [
        {
          "output_type": "stream",
          "name": "stdout",
          "text": [
            "Model: \"cats_vs_dogs\"\n",
            "_________________________________________________________________\n",
            " Layer (type)                Output Shape              Param #   \n",
            "=================================================================\n",
            " mobilenetv2_1.00_224 (Funct  (None, 7, 7, 1280)       2257984   \n",
            " ional)                                                          \n",
            "                                                                 \n",
            " global_max_pooling2d (Globa  (None, 1280)             0         \n",
            " lMaxPooling2D)                                                  \n",
            "                                                                 \n",
            " dense (Dense)               (None, 2)                 2562      \n",
            "                                                                 \n",
            "=================================================================\n",
            "Total params: 2,260,546\n",
            "Trainable params: 1,528,962\n",
            "Non-trainable params: 731,584\n",
            "_________________________________________________________________\n"
          ]
        }
      ]
    },
    {
      "cell_type": "code",
      "source": [
        "init_time, avg_time, std = benchmark(val_dir=benchmark_dir,\n",
        "          model=model_1)\n",
        "print(f\"The first image takes {init_time * 1000:.2f} ms\")\n",
        "print(f\"The average time taken per 99 images {avg_time * 1000:.2f} ms\")\n",
        "print(f\"The standard deviation of samples is {std * 1000:.2f} ms\")"
      ],
      "metadata": {
        "colab": {
          "base_uri": "https://localhost:8080/"
        },
        "id": "R9iFJKK8YvMR",
        "outputId": "5b379077-d98d-451c-d4ed-c67e4dc241dc"
      },
      "execution_count": 62,
      "outputs": [
        {
          "output_type": "stream",
          "name": "stdout",
          "text": [
            "The first image takes 74.40 ms\n",
            "The average time taken per 99 images 64.78 ms\n",
            "The standard deviation of samples is 4.47 ms\n"
          ]
        }
      ]
    },
    {
      "cell_type": "code",
      "source": [
        "feature_extractor.trainable = False"
      ],
      "metadata": {
        "id": "cPWzoV-hiRpW"
      },
      "execution_count": null,
      "outputs": []
    },
    {
      "cell_type": "code",
      "source": [
        "# Load in the best saved model\n",
        "model_1 = tf.keras.models.load_model(\"/content/model_experiments/cats_vs_dogs\")"
      ],
      "metadata": {
        "id": "FKakd20L5HIr"
      },
      "execution_count": 64,
      "outputs": []
    },
    {
      "cell_type": "code",
      "source": [
        "logdir, metrics, pruned_model = prune_model(model=model_1,\n",
        "            initial_sparsity=0,\n",
        "            final_sparsity=0.5,\n",
        "            epochs=20)"
      ],
      "metadata": {
        "colab": {
          "base_uri": "https://localhost:8080/"
        },
        "id": "twDoV7mCmPC0",
        "outputId": "072f1349-7cee-42d3-ec02-09705bb56b06"
      },
      "execution_count": 65,
      "outputs": [
        {
          "output_type": "stream",
          "name": "stderr",
          "text": [
            "/usr/local/lib/python3.7/dist-packages/tensorflow_model_optimization/python/core/sparsity/keras/pruning_wrapper.py:218: UserWarning: `layer.add_variable` is deprecated and will be removed in a future version. Please use `layer.add_weight` method instead.\n",
            "  aggregation=tf.VariableAggregation.MEAN)\n",
            "/usr/local/lib/python3.7/dist-packages/tensorflow_model_optimization/python/core/sparsity/keras/pruning_wrapper.py:225: UserWarning: `layer.add_variable` is deprecated and will be removed in a future version. Please use `layer.add_weight` method instead.\n",
            "  aggregation=tf.VariableAggregation.MEAN)\n",
            "/usr/local/lib/python3.7/dist-packages/tensorflow_model_optimization/python/core/sparsity/keras/pruning_wrapper.py:238: UserWarning: `layer.add_variable` is deprecated and will be removed in a future version. Please use `layer.add_weight` method instead.\n",
            "  trainable=False)\n"
          ]
        },
        {
          "output_type": "stream",
          "name": "stdout",
          "text": [
            "Epoch 1/20\n",
            "   6/1164 [..............................] - ETA: 1:18 - loss: 0.3846 - accuracy: 0.9688WARNING:tensorflow:Callback method `on_train_batch_end` is slow compared to the batch time (batch time: 0.0600s vs `on_train_batch_end` time: 0.1734s). Check your callbacks.\n"
          ]
        },
        {
          "output_type": "stream",
          "name": "stderr",
          "text": [
            "WARNING:tensorflow:Callback method `on_train_batch_end` is slow compared to the batch time (batch time: 0.0600s vs `on_train_batch_end` time: 0.1734s). Check your callbacks.\n"
          ]
        },
        {
          "output_type": "stream",
          "name": "stdout",
          "text": [
            "1164/1164 [==============================] - 126s 75ms/step - loss: 0.2129 - accuracy: 0.9578 - val_loss: 0.1552 - val_accuracy: 0.9733 - lr: 0.0010\n",
            "Epoch 2/20\n",
            "1164/1164 [==============================] - 85s 73ms/step - loss: 0.0956 - accuracy: 0.9710 - val_loss: 0.3426 - val_accuracy: 0.9574 - lr: 0.0010\n",
            "Epoch 3/20\n",
            "1164/1164 [==============================] - 85s 73ms/step - loss: 0.1569 - accuracy: 0.9579 - val_loss: 0.5435 - val_accuracy: 0.8669 - lr: 0.0010\n",
            "Epoch 4/20\n",
            "1164/1164 [==============================] - 85s 73ms/step - loss: 0.1256 - accuracy: 0.9551 - val_loss: 0.1246 - val_accuracy: 0.9570 - lr: 0.0010\n",
            "Epoch 5/20\n",
            "1164/1164 [==============================] - 85s 73ms/step - loss: 0.1228 - accuracy: 0.9554 - val_loss: 0.1929 - val_accuracy: 0.9299 - lr: 0.0010\n",
            "Epoch 6/20\n",
            "1164/1164 [==============================] - 90s 77ms/step - loss: 0.1873 - accuracy: 0.9339 - val_loss: 0.4306 - val_accuracy: 0.8661 - lr: 0.0010\n",
            "Epoch 7/20\n",
            "1164/1164 [==============================] - ETA: 0s - loss: 0.1993 - accuracy: 0.9302\n",
            "Epoch 7: ReduceLROnPlateau reducing learning rate to 0.00010000000474974513.\n",
            "1164/1164 [==============================] - 90s 77ms/step - loss: 0.1993 - accuracy: 0.9302 - val_loss: 0.4581 - val_accuracy: 0.8467 - lr: 0.0010\n",
            "Epoch 8/20\n",
            "1164/1164 [==============================] - 85s 73ms/step - loss: 0.1545 - accuracy: 0.9412 - val_loss: 0.1905 - val_accuracy: 0.9224 - lr: 1.0000e-04\n",
            "Epoch 9/20\n",
            "1164/1164 [==============================] - 85s 73ms/step - loss: 0.1465 - accuracy: 0.9400 - val_loss: 0.2078 - val_accuracy: 0.9136 - lr: 1.0000e-04\n",
            "Epoch 10/20\n",
            "1164/1164 [==============================] - ETA: 0s - loss: 0.1333 - accuracy: 0.9472\n",
            "Epoch 10: ReduceLROnPlateau reducing learning rate to 1.0000000474974514e-05.\n",
            "1164/1164 [==============================] - 85s 73ms/step - loss: 0.1333 - accuracy: 0.9472 - val_loss: 0.1753 - val_accuracy: 0.9314 - lr: 1.0000e-04\n",
            "Epoch 11/20\n",
            "1164/1164 [==============================] - 85s 73ms/step - loss: 0.1055 - accuracy: 0.9572 - val_loss: 0.1736 - val_accuracy: 0.9323 - lr: 1.0000e-05\n",
            "Epoch 12/20\n",
            "1164/1164 [==============================] - 90s 77ms/step - loss: 0.1024 - accuracy: 0.9603 - val_loss: 0.1743 - val_accuracy: 0.9331 - lr: 1.0000e-05\n",
            "Epoch 13/20\n",
            "1164/1164 [==============================] - ETA: 0s - loss: 0.1023 - accuracy: 0.9600\n",
            "Epoch 13: ReduceLROnPlateau reducing learning rate to 1.0000000656873453e-06.\n",
            "1164/1164 [==============================] - 85s 73ms/step - loss: 0.1023 - accuracy: 0.9600 - val_loss: 0.1756 - val_accuracy: 0.9316 - lr: 1.0000e-05\n",
            "Epoch 14/20\n",
            "1164/1164 [==============================] - 85s 73ms/step - loss: 0.0969 - accuracy: 0.9615 - val_loss: 0.1764 - val_accuracy: 0.9327 - lr: 1.0000e-06\n",
            "Epoch 15/20\n",
            "1164/1164 [==============================] - 85s 73ms/step - loss: 0.0966 - accuracy: 0.9613 - val_loss: 0.1773 - val_accuracy: 0.9316 - lr: 1.0000e-06\n",
            "Epoch 16/20\n",
            "1164/1164 [==============================] - ETA: 0s - loss: 0.0950 - accuracy: 0.9642\n",
            "Epoch 16: ReduceLROnPlateau reducing learning rate to 1.0000001111620805e-07.\n",
            "1164/1164 [==============================] - 85s 73ms/step - loss: 0.0950 - accuracy: 0.9642 - val_loss: 0.1775 - val_accuracy: 0.9319 - lr: 1.0000e-06\n",
            "Epoch 17/20\n",
            "1164/1164 [==============================] - 85s 73ms/step - loss: 0.0997 - accuracy: 0.9607 - val_loss: 0.1772 - val_accuracy: 0.9323 - lr: 1.0000e-07\n",
            "Epoch 18/20\n",
            "1164/1164 [==============================] - 85s 73ms/step - loss: 0.0951 - accuracy: 0.9638 - val_loss: 0.1775 - val_accuracy: 0.9321 - lr: 1.0000e-07\n",
            "Epoch 19/20\n",
            "1164/1164 [==============================] - ETA: 0s - loss: 0.0988 - accuracy: 0.9614\n",
            "Epoch 19: ReduceLROnPlateau reducing learning rate to 1.000000082740371e-08.\n",
            "1164/1164 [==============================] - 85s 73ms/step - loss: 0.0988 - accuracy: 0.9614 - val_loss: 0.1776 - val_accuracy: 0.9319 - lr: 1.0000e-07\n",
            "Epoch 20/20\n",
            "1164/1164 [==============================] - 90s 77ms/step - loss: 0.0970 - accuracy: 0.9631 - val_loss: 0.1777 - val_accuracy: 0.9319 - lr: 1.0000e-08\n"
          ]
        }
      ]
    },
    {
      "cell_type": "markdown",
      "source": [
        "logdir, metrics, pruned_model = prune_model(model=model_1,\n",
        "            initial_sparsity=0,\n",
        "            final_sparsity=0.6,\n",
        "            epochs=50)"
      ],
      "metadata": {
        "id": "hK9Zhi609UiX"
      }
    },
    {
      "cell_type": "markdown",
      "source": [
        "### Pruned model evaluation"
      ],
      "metadata": {
        "id": "vf6rnKePVBky"
      }
    },
    {
      "cell_type": "code",
      "source": [
        "pruned_model.evaluate(validation_batches)"
      ],
      "metadata": {
        "colab": {
          "base_uri": "https://localhost:8080/"
        },
        "id": "-d5OhgKUVFkD",
        "outputId": "6141005d-afa1-4a75-c40c-e250d1653852"
      },
      "execution_count": 66,
      "outputs": [
        {
          "output_type": "stream",
          "name": "stdout",
          "text": [
            "291/291 [==============================] - 7s 24ms/step - loss: 0.1777 - accuracy: 0.9319\n"
          ]
        },
        {
          "output_type": "execute_result",
          "data": {
            "text/plain": [
              "[0.17771267890930176, 0.9318572878837585]"
            ]
          },
          "metadata": {},
          "execution_count": 66
        }
      ]
    },
    {
      "cell_type": "markdown",
      "source": [
        "### Save the pruned model"
      ],
      "metadata": {
        "id": "T4aNOUmBztTC"
      }
    },
    {
      "cell_type": "code",
      "source": [
        "model_for_export = tfmot.sparsity.keras.strip_pruning(model_1)\n",
        "\n",
        "_, pruned_keras_file = tempfile.mkstemp('.h5')\n",
        "tf.keras.models.save_model(model_for_export, pruned_keras_file, include_optimizer=False)\n",
        "print('Saved pruned Keras model to:', pruned_keras_file)"
      ],
      "metadata": {
        "colab": {
          "base_uri": "https://localhost:8080/"
        },
        "id": "ovfoKutx0B4b",
        "outputId": "a9745030-2485-4c55-bdae-1781c547efa9"
      },
      "execution_count": 67,
      "outputs": [
        {
          "output_type": "stream",
          "name": "stdout",
          "text": [
            "WARNING:tensorflow:Compiled the loaded model, but the compiled metrics have yet to be built. `model.compile_metrics` will be empty until you train or evaluate the model.\n"
          ]
        },
        {
          "output_type": "stream",
          "name": "stderr",
          "text": [
            "WARNING:tensorflow:Compiled the loaded model, but the compiled metrics have yet to be built. `model.compile_metrics` will be empty until you train or evaluate the model.\n"
          ]
        },
        {
          "output_type": "stream",
          "name": "stdout",
          "text": [
            "Saved pruned Keras model to: /tmp/tmpqhhnhrdh.h5\n"
          ]
        }
      ]
    },
    {
      "cell_type": "markdown",
      "source": [
        "### Save the tflite model"
      ],
      "metadata": {
        "id": "W39Q-GD3zxlY"
      }
    },
    {
      "cell_type": "code",
      "source": [
        "converter = tf.lite.TFLiteConverter.from_keras_model(model_for_export)\n",
        "pruned_tflite_model = converter.convert()\n",
        "\n",
        "_, pruned_tflite_file = tempfile.mkstemp('.tflite')\n",
        "\n",
        "with open(pruned_tflite_file, 'wb') as f:\n",
        "  f.write(pruned_tflite_model)\n",
        "\n",
        "print('Saved pruned TFLite model to:', pruned_tflite_file)"
      ],
      "metadata": {
        "colab": {
          "base_uri": "https://localhost:8080/"
        },
        "id": "DNUzjKJC0hMK",
        "outputId": "5e4ed3d4-f354-4169-e14b-432d06238cbe"
      },
      "execution_count": 68,
      "outputs": [
        {
          "output_type": "stream",
          "name": "stderr",
          "text": [
            "WARNING:absl:Function `_wrapped_model` contains input name(s) mobilenetv2_1.00_224_input with unsupported characters which will be renamed to mobilenetv2_1_00_224_input in the SavedModel.\n"
          ]
        },
        {
          "output_type": "stream",
          "name": "stdout",
          "text": [
            "INFO:tensorflow:Assets written to: /tmp/tmp8co469oj/assets\n"
          ]
        },
        {
          "output_type": "stream",
          "name": "stderr",
          "text": [
            "INFO:tensorflow:Assets written to: /tmp/tmp8co469oj/assets\n",
            "WARNING:absl:Buffer deduplication procedure will be skipped when flatbuffer library is not properly loaded\n"
          ]
        },
        {
          "output_type": "stream",
          "name": "stdout",
          "text": [
            "Saved pruned TFLite model to: /tmp/tmpfntpk_61.tflite\n"
          ]
        }
      ]
    },
    {
      "cell_type": "code",
      "source": [
        "model_1 = tf.keras.models.load_model(\"/content/model_experiments/cats_vs_dogs\")"
      ],
      "metadata": {
        "id": "2L-v899CHwHL"
      },
      "execution_count": 82,
      "outputs": []
    },
    {
      "cell_type": "markdown",
      "source": [
        "### Convert orginal model to tflite"
      ],
      "metadata": {
        "id": "QhXWgHfgYaVQ"
      }
    },
    {
      "cell_type": "code",
      "source": [
        "converter = tf.lite.TFLiteConverter.from_keras_model(model_1)\n",
        "orginal_tflite_model = converter.convert()\n",
        "_, orginal_tflite_file = tempfile.mkstemp('.tflite')\n",
        "\n",
        "with open(orginal_tflite_file, 'wb') as f:\n",
        "  f.write(orginal_tflite_model)\n",
        "\n",
        "print('Saved pruned TFLite model to:', orginal_tflite_file)"
      ],
      "metadata": {
        "colab": {
          "base_uri": "https://localhost:8080/"
        },
        "id": "nKZIfch8YiRI",
        "outputId": "af9539b2-1112-437b-e32d-b8db86c16ec9"
      },
      "execution_count": 83,
      "outputs": [
        {
          "output_type": "stream",
          "name": "stderr",
          "text": [
            "WARNING:absl:Function `_wrapped_model` contains input name(s) mobilenetv2_1.00_224_input with unsupported characters which will be renamed to mobilenetv2_1_00_224_input in the SavedModel.\n"
          ]
        },
        {
          "output_type": "stream",
          "name": "stdout",
          "text": [
            "INFO:tensorflow:Assets written to: /tmp/tmpin5225b4/assets\n"
          ]
        },
        {
          "output_type": "stream",
          "name": "stderr",
          "text": [
            "INFO:tensorflow:Assets written to: /tmp/tmpin5225b4/assets\n",
            "WARNING:absl:Buffer deduplication procedure will be skipped when flatbuffer library is not properly loaded\n"
          ]
        },
        {
          "output_type": "stream",
          "name": "stdout",
          "text": [
            "Saved pruned TFLite model to: /tmp/tmp0rj5t3pt.tflite\n"
          ]
        }
      ]
    },
    {
      "cell_type": "markdown",
      "source": [
        "### Convert pruned model to `Quantized tflite model`"
      ],
      "metadata": {
        "id": "JSE1pp45yrNY"
      }
    },
    {
      "cell_type": "code",
      "source": [
        "converter = tf.lite.TFLiteConverter.from_keras_model(model_for_export)\n",
        "converter.optimizations = [tf.lite.Optimize.DEFAULT]\n",
        "quantized_and_pruned_tflite_model = converter.convert()\n",
        "\n",
        "_, quantized_and_pruned_tflite_file = tempfile.mkstemp('.tflite')\n",
        "\n",
        "with open(quantized_and_pruned_tflite_file, 'wb') as f:\n",
        "  f.write(quantized_and_pruned_tflite_model)\n",
        "\n",
        "print('Saved quantized and pruned TFLite model to:', quantized_and_pruned_tflite_file)"
      ],
      "metadata": {
        "colab": {
          "base_uri": "https://localhost:8080/"
        },
        "id": "t5Wfa_JPWQML",
        "outputId": "7c59c0f2-3939-43b2-cd4b-a1288af22a20"
      },
      "execution_count": 69,
      "outputs": [
        {
          "output_type": "stream",
          "name": "stderr",
          "text": [
            "WARNING:absl:Function `_wrapped_model` contains input name(s) mobilenetv2_1.00_224_input with unsupported characters which will be renamed to mobilenetv2_1_00_224_input in the SavedModel.\n"
          ]
        },
        {
          "output_type": "stream",
          "name": "stdout",
          "text": [
            "INFO:tensorflow:Assets written to: /tmp/tmpys1rq4gv/assets\n"
          ]
        },
        {
          "output_type": "stream",
          "name": "stderr",
          "text": [
            "INFO:tensorflow:Assets written to: /tmp/tmpys1rq4gv/assets\n",
            "WARNING:absl:Buffer deduplication procedure will be skipped when flatbuffer library is not properly loaded\n"
          ]
        },
        {
          "output_type": "stream",
          "name": "stdout",
          "text": [
            "Saved quantized and pruned TFLite model to: /tmp/tmpllnqso93.tflite\n"
          ]
        }
      ]
    },
    {
      "cell_type": "code",
      "source": [
        "def benchmark_tflite(val_dir, tflite_model, class_names=class_names, image_size=IMG_SIZE):\n",
        "  interpreter = tf.lite.Interpreter(model_content=tflite_model)\n",
        "  interpreter.allocate_tensors()\n",
        "  input_index = interpreter.get_input_details()[0][\"index\"]\n",
        "  output_index = interpreter.get_output_details()[0][\"index\"]\n",
        "  file_count = 0\n",
        "  infer_times = []\n",
        "  for (root, dirs, files) in os.walk(val_dir):\n",
        "    for name in files:\n",
        "      if name.endswith(\".jpg\"):\n",
        "        filename = os.path.join(root, name)\n",
        "        if file_count < 1 :\n",
        "          init_timer_start = time.time()\n",
        "          img = (np.array(Image.open(filename).resize(image_size))/255.0).astype(np.float32)\n",
        "          img = np.expand_dims(img, axis=0)\n",
        "          #img = np.expand_dims(img, axis=3)\n",
        "          interpreter.set_tensor(input_index, img)\n",
        "          interpreter.invoke()\n",
        "          output = interpreter.tensor(output_index)\n",
        "          pred_class = class_names[int(np.argmax(output()[0]))]\n",
        "          init_timer_end = time.time()\n",
        "          init_timer = init_timer_end - init_timer_start\n",
        "          file_count+=1\n",
        "        else:\n",
        "          timer_start = time.time()\n",
        "          img = (np.array(Image.open(filename).resize(image_size))/255.0).astype(np.float32)\n",
        "          img = np.expand_dims(img, axis=0)\n",
        "          interpreter.set_tensor(input_index, img)\n",
        "          interpreter.invoke()\n",
        "          output = interpreter.tensor(output_index)\n",
        "          pred_class = class_names[int(np.argmax(output()[0]))]\n",
        "          timer_end = time.time()\n",
        "          infer_times.append((timer_end - timer_start))\n",
        "          file_count+=1\n",
        "\n",
        "  return init_timer, np.mean(infer_times), np.std(infer_times)"
      ],
      "metadata": {
        "id": "EqcXSwJB1aJR"
      },
      "execution_count": 33,
      "outputs": []
    },
    {
      "cell_type": "markdown",
      "source": [
        "### Benchmark of the orginal model"
      ],
      "metadata": {
        "id": "QGtxaQ6ByC8Z"
      }
    },
    {
      "cell_type": "code",
      "source": [
        ""
      ],
      "metadata": {
        "id": "ePD6ICIcBAyc"
      },
      "execution_count": null,
      "outputs": []
    },
    {
      "cell_type": "code",
      "source": [
        "init_time, avg_time, std = benchmark(val_dir=benchmark_dir,\n",
        "          model=model_1)\n",
        "print(f\"The first image takes {init_time * 1000:.2f} ms\")\n",
        "print(f\"The average time taken per 99 images {avg_time * 1000:.2f} ms\")\n",
        "print(f\"The standard deviation of samples is {std * 1000:.2f} ms\")"
      ],
      "metadata": {
        "colab": {
          "base_uri": "https://localhost:8080/"
        },
        "id": "MdYkT4bBxPK-",
        "outputId": "90456f3d-16ac-4a47-e1f1-7363859d3932"
      },
      "execution_count": 70,
      "outputs": [
        {
          "output_type": "stream",
          "name": "stdout",
          "text": [
            "The first image takes 878.53 ms\n",
            "The average time taken per 99 images 65.33 ms\n",
            "The standard deviation of samples is 3.76 ms\n"
          ]
        }
      ]
    },
    {
      "cell_type": "markdown",
      "source": [
        "### Benchmark of the pruned tflite model"
      ],
      "metadata": {
        "id": "21SWHf6xyKok"
      }
    },
    {
      "cell_type": "code",
      "source": [
        "init_time, avg_time, std = benchmark_tflite(val_dir=benchmark_dir,\n",
        "          tflite_model=pruned_tflite_model)\n",
        "print(f\"The first image takes {init_time * 1000:.2f} ms\")\n",
        "print(f\"The average time taken per 99 images {avg_time * 1000:.2f} ms\")\n",
        "print(f\"The standard deviation of samples is {std * 1000:.2f} ms\")"
      ],
      "metadata": {
        "colab": {
          "base_uri": "https://localhost:8080/"
        },
        "id": "FVu28HskikNK",
        "outputId": "31246ecf-0f8b-40d2-b387-69cb85b5256f"
      },
      "execution_count": 71,
      "outputs": [
        {
          "output_type": "stream",
          "name": "stdout",
          "text": [
            "The first image takes 27.52 ms\n",
            "The average time taken per 99 images 25.68 ms\n",
            "The standard deviation of samples is 1.69 ms\n"
          ]
        }
      ]
    },
    {
      "cell_type": "markdown",
      "source": [
        "### Bnechmark quantized pruned model"
      ],
      "metadata": {
        "id": "Ij6NTa4pxZhn"
      }
    },
    {
      "cell_type": "code",
      "source": [
        "init_time, avg_time, std = benchmark_tflite(val_dir=benchmark_dir,\n",
        "          tflite_model=quantized_and_pruned_tflite_model)\n",
        "print(f\"The first image takes {init_time * 1000:.2f} ms\")\n",
        "print(f\"The average time taken per 99 images {avg_time * 1000:.2f} ms\")\n",
        "print(f\"The standard deviation of samples is {std * 1000:.2f} ms\")"
      ],
      "metadata": {
        "id": "iOZRVc2QxVAe"
      },
      "execution_count": null,
      "outputs": []
    },
    {
      "cell_type": "code",
      "source": [
        "init_time, avg_time, std = benchmark_tflite(val_dir=benchmark_dir,\n",
        "          tflite_model=orginal_tflite_model)\n",
        "print(f\"The first image takes {init_time * 1000:.2f} ms\")\n",
        "print(f\"The average time taken per 99 images {avg_time * 1000:.2f} ms\")\n",
        "print(f\"The standard deviation of samples is {std * 1000:.2f} ms\")"
      ],
      "metadata": {
        "colab": {
          "base_uri": "https://localhost:8080/"
        },
        "id": "Jjy4__MzZMMP",
        "outputId": "ea29b585-7fa1-4c08-df54-91c50dab55e1"
      },
      "execution_count": 73,
      "outputs": [
        {
          "output_type": "stream",
          "name": "stdout",
          "text": [
            "The first image takes 26.67 ms\n",
            "The average time taken per 99 images 26.38 ms\n",
            "The standard deviation of samples is 1.70 ms\n"
          ]
        }
      ]
    },
    {
      "cell_type": "markdown",
      "source": [
        "### Get details of the pruned tflite model"
      ],
      "metadata": {
        "id": "svRg6psos8bo"
      }
    },
    {
      "cell_type": "code",
      "source": [
        "pruned_tflite_interpreter = tf.lite.Interpreter(model_content=pruned_tflite_model)\n",
        "pruned_tflite_interpreter.allocate_tensors()"
      ],
      "metadata": {
        "id": "16DqSiXvQj5h"
      },
      "execution_count": 74,
      "outputs": []
    },
    {
      "cell_type": "code",
      "source": [
        "input_details = pruned_tflite_interpreter.get_input_details()\n",
        "output_details = pruned_tflite_interpreter.get_output_details()\n",
        "\n",
        "print(\"INPUT/OUTPUT DETAILS BEFORE RESIZING\")\n",
        "print(\"Input: \", input_details[0][\"shape\"])\n",
        "print(\"Output: \", output_details[0][\"shape\"])"
      ],
      "metadata": {
        "colab": {
          "base_uri": "https://localhost:8080/"
        },
        "id": "t80r5F-GXQJE",
        "outputId": "ae343c5d-d1ea-4098-df47-33d1e9d54205"
      },
      "execution_count": 75,
      "outputs": [
        {
          "output_type": "stream",
          "name": "stdout",
          "text": [
            "INPUT/OUTPUT DETAILS BEFORE RESIZING\n",
            "Input:  [  1 224 224   3]\n",
            "Output:  [1 2]\n"
          ]
        }
      ]
    },
    {
      "cell_type": "code",
      "source": [
        "# Resize the inputs and ouputs for batches\n",
        "pruned_tflite_interpreter.resize_tensor_input(input_details[0][\"index\"], (BATCH_SIZE, 224, 224, 3))\n",
        "pruned_tflite_interpreter.resize_tensor_input(output_details[0][\"index\"], (BATCH_SIZE, num_classes))\n",
        "pruned_tflite_interpreter.allocate_tensors()\n",
        "\n",
        "input_details = pruned_tflite_interpreter.get_input_details()\n",
        "output_details = pruned_tflite_interpreter.get_output_details()\n",
        "\n",
        "print(\"INPUT/OUTPUT DETAILS AFTER RESIZING\")\n",
        "print(\"Input: \", input_details[0][\"shape\"])\n",
        "print(\"Output: \", output_details[0][\"shape\"])"
      ],
      "metadata": {
        "colab": {
          "base_uri": "https://localhost:8080/"
        },
        "id": "Da_R4OYlXi5C",
        "outputId": "0538449e-68b6-4876-f3ce-d0e1249d772f"
      },
      "execution_count": 77,
      "outputs": [
        {
          "output_type": "stream",
          "name": "stdout",
          "text": [
            "INPUT/OUTPUT DETAILS AFTER RESIZING\n",
            "Input:  [ 16 224 224   3]\n",
            "Output:  [16  2]\n"
          ]
        }
      ]
    },
    {
      "cell_type": "code",
      "source": [
        "#testing_ds = testing_ds.map(normalize_img)\n",
        "test_image_batch, test_label_batch = next(iter(validation_batches))\n",
        "print(test_image_batch.shape)\n",
        "\n",
        "#test_image_batch = np.array(test_image_batch).astype(np.float32)\n",
        "print(test_image_batch.shape)\n",
        "print(test_label_batch)\n"
      ],
      "metadata": {
        "colab": {
          "base_uri": "https://localhost:8080/"
        },
        "id": "Z5nMQyyqhf02",
        "outputId": "e797d074-d43c-4c1d-a653-4d763a1ba3b3"
      },
      "execution_count": 78,
      "outputs": [
        {
          "output_type": "stream",
          "name": "stdout",
          "text": [
            "(16, 224, 224, 3)\n",
            "(16, 224, 224, 3)\n",
            "tf.Tensor([1 0 1 1 1 1 0 1 1 0 1 1 0 0 0 0], shape=(16,), dtype=int64)\n"
          ]
        }
      ]
    },
    {
      "cell_type": "markdown",
      "source": [
        "### Evaluation function for tflite model\n"
      ],
      "metadata": {
        "id": "TjZvRldVBfwq"
      }
    },
    {
      "cell_type": "code",
      "source": [
        "import tqdm\n",
        "def evaluate_tflite_model(tflite_model, test_data=validation_batches, BATCH_SIZE=BATCH_SIZE):\n",
        "  toolbar_width = 40\n",
        "  # Assigne the interpreter\n",
        "  interpreter = tf.lite.Interpreter(model_content=tflite_model)\n",
        "  interpreter.allocate_tensors()\n",
        "  # Get input output detals\n",
        "  input_details = interpreter.get_input_details()\n",
        "  output_details = interpreter.get_output_details()\n",
        "  # Resize the inputs and ouputs for batches\n",
        "  # (BATCH_SIZE=32, IMAGE_SHAPE=28, IMAGE_SHAPE=28, CHANNELS=1)\n",
        "  interpreter.resize_tensor_input(input_details[0][\"index\"], (BATCH_SIZE, input_details[0][\"shape\"][1], input_details[0][\"shape\"][2], input_details[0][\"shape\"][3]))\n",
        "  # (BATCH_SIZE=32, NUM_CLASSES=10)\n",
        "  interpreter.resize_tensor_input(output_details[0][\"index\"], (BATCH_SIZE, output_details[0][\"shape\"][1]))\n",
        "  interpreter.allocate_tensors()\n",
        "\n",
        "  y_preds = []\n",
        "  y_true = []\n",
        "  for batch in tqdm.tqdm(range(len(test_data))):\n",
        "    time.sleep(0.01)\n",
        "    image_batch, label_batch = next(iter(test_data))\n",
        "    # Run inference\n",
        "    interpreter.set_tensor(input_details[0][\"index\"], image_batch)\n",
        "    interpreter.invoke()\n",
        "    pruned_tflite_pred_probs = interpreter.get_tensor(output_details[0][\"index\"])\n",
        "    pruned_tflite_preds = np.argmax(pruned_tflite_pred_probs, axis=1).tolist()\n",
        "    y_preds += pruned_tflite_preds\n",
        "    label_batch = np.array(label_batch).tolist()\n",
        "    y_true +=label_batch\n",
        "\n",
        "  return accuracy_score(y_true, y_preds)\n"
      ],
      "metadata": {
        "id": "I69qbh5aCUuL"
      },
      "execution_count": 79,
      "outputs": []
    },
    {
      "cell_type": "markdown",
      "source": [
        "### Evaluate the orginal tflite model"
      ],
      "metadata": {
        "id": "EaS7rQ-q3a16"
      }
    },
    {
      "cell_type": "code",
      "source": [
        "evaluate_tflite_model(orginal_tflite_model, test_data=validation_batches)"
      ],
      "metadata": {
        "colab": {
          "base_uri": "https://localhost:8080/"
        },
        "id": "6RZ8yeSSCVhZ",
        "outputId": "a24f7785-6f23-45a7-d1d2-f88ba4bbbd32"
      },
      "execution_count": 84,
      "outputs": [
        {
          "output_type": "stream",
          "name": "stderr",
          "text": [
            "100%|██████████| 291/291 [02:16<00:00,  2.14it/s]\n"
          ]
        },
        {
          "output_type": "execute_result",
          "data": {
            "text/plain": [
              "0.875"
            ]
          },
          "metadata": {},
          "execution_count": 84
        }
      ]
    },
    {
      "cell_type": "code",
      "source": [
        "evaluate_tflite_model(pruned_tflite_model, test_data=validation_batches)"
      ],
      "metadata": {
        "colab": {
          "base_uri": "https://localhost:8080/"
        },
        "id": "r773lA1FFpQX",
        "outputId": "b5e9f3d6-18b0-4ed8-ccb1-da224bd9c4e7"
      },
      "execution_count": 81,
      "outputs": [
        {
          "output_type": "stream",
          "name": "stderr",
          "text": [
            "100%|██████████| 291/291 [02:18<00:00,  2.10it/s]\n"
          ]
        },
        {
          "output_type": "execute_result",
          "data": {
            "text/plain": [
              "0.875"
            ]
          },
          "metadata": {},
          "execution_count": 81
        }
      ]
    },
    {
      "cell_type": "markdown",
      "source": [
        "### Evaluate the quantized tflite model"
      ],
      "metadata": {
        "id": "56HXqwJi3y64"
      }
    },
    {
      "cell_type": "code",
      "source": [
        "quantized_model_accuracy = evaluate_tflite_model(quantized_and_pruned_tflite_model, test_data=validation_batches)\n",
        "quantized_model_accuracy"
      ],
      "metadata": {
        "colab": {
          "base_uri": "https://localhost:8080/"
        },
        "id": "3T3SsCHPCZYv",
        "outputId": "dedb0843-c3ca-4b4a-edd5-cbc512d59d97"
      },
      "execution_count": 85,
      "outputs": [
        {
          "output_type": "stream",
          "name": "stderr",
          "text": [
            "100%|██████████| 291/291 [1:05:09<00:00, 13.44s/it]\n"
          ]
        },
        {
          "output_type": "execute_result",
          "data": {
            "text/plain": [
              "0.875"
            ]
          },
          "metadata": {},
          "execution_count": 85
        }
      ]
    },
    {
      "cell_type": "markdown",
      "source": [
        "### Download the quantized model"
      ],
      "metadata": {
        "id": "bTrQnzmdxVuo"
      }
    },
    {
      "cell_type": "code",
      "source": [
        "# Function to rename and download a model\n",
        "def download_model(model_file, new_name):\n",
        "  os.rename(model_file, new_name)\n",
        "  files.download(new_name)"
      ],
      "metadata": {
        "id": "Qdaa-TlJ04sq"
      },
      "execution_count": 86,
      "outputs": []
    },
    {
      "cell_type": "code",
      "source": [
        "quantized_file_name = \"cats_quantized_pruned_model.tflite\"\n",
        "download_model(quantized_and_pruned_tflite_file, quantized_file_name)"
      ],
      "metadata": {
        "colab": {
          "base_uri": "https://localhost:8080/",
          "height": 17
        },
        "id": "WcT0IMnStGe8",
        "outputId": "b096b650-7867-43ad-b6ed-3188a80ee80d"
      },
      "execution_count": 87,
      "outputs": [
        {
          "output_type": "display_data",
          "data": {
            "text/plain": [
              "<IPython.core.display.Javascript object>"
            ],
            "application/javascript": [
              "\n",
              "    async function download(id, filename, size) {\n",
              "      if (!google.colab.kernel.accessAllowed) {\n",
              "        return;\n",
              "      }\n",
              "      const div = document.createElement('div');\n",
              "      const label = document.createElement('label');\n",
              "      label.textContent = `Downloading \"${filename}\": `;\n",
              "      div.appendChild(label);\n",
              "      const progress = document.createElement('progress');\n",
              "      progress.max = size;\n",
              "      div.appendChild(progress);\n",
              "      document.body.appendChild(div);\n",
              "\n",
              "      const buffers = [];\n",
              "      let downloaded = 0;\n",
              "\n",
              "      const channel = await google.colab.kernel.comms.open(id);\n",
              "      // Send a message to notify the kernel that we're ready.\n",
              "      channel.send({})\n",
              "\n",
              "      for await (const message of channel.messages) {\n",
              "        // Send a message to notify the kernel that we're ready.\n",
              "        channel.send({})\n",
              "        if (message.buffers) {\n",
              "          for (const buffer of message.buffers) {\n",
              "            buffers.push(buffer);\n",
              "            downloaded += buffer.byteLength;\n",
              "            progress.value = downloaded;\n",
              "          }\n",
              "        }\n",
              "      }\n",
              "      const blob = new Blob(buffers, {type: 'application/binary'});\n",
              "      const a = document.createElement('a');\n",
              "      a.href = window.URL.createObjectURL(blob);\n",
              "      a.download = filename;\n",
              "      div.appendChild(a);\n",
              "      a.click();\n",
              "      div.remove();\n",
              "    }\n",
              "  "
            ]
          },
          "metadata": {}
        },
        {
          "output_type": "display_data",
          "data": {
            "text/plain": [
              "<IPython.core.display.Javascript object>"
            ],
            "application/javascript": [
              "download(\"download_d2991ca9-12e5-4c94-9512-f8a49b783f5a\", \"cats_quantized_pruned_model.tflite\", 2651312)"
            ]
          },
          "metadata": {}
        }
      ]
    },
    {
      "cell_type": "markdown",
      "source": [
        "### Download the pruned tflite model"
      ],
      "metadata": {
        "id": "7JG4OGQB0oMi"
      }
    },
    {
      "cell_type": "code",
      "source": [
        "pruned_tflite_file_name = \"cats_pruned_tflite_model.tflite\"\n",
        "download_model(pruned_tflite_file, pruned_tflite_file_name)"
      ],
      "metadata": {
        "id": "o_Q5kqxScWxw",
        "colab": {
          "base_uri": "https://localhost:8080/",
          "height": 17
        },
        "outputId": "cc5211c2-3dc0-4743-99ab-eeddc0b6a111"
      },
      "execution_count": 88,
      "outputs": [
        {
          "output_type": "display_data",
          "data": {
            "text/plain": [
              "<IPython.core.display.Javascript object>"
            ],
            "application/javascript": [
              "\n",
              "    async function download(id, filename, size) {\n",
              "      if (!google.colab.kernel.accessAllowed) {\n",
              "        return;\n",
              "      }\n",
              "      const div = document.createElement('div');\n",
              "      const label = document.createElement('label');\n",
              "      label.textContent = `Downloading \"${filename}\": `;\n",
              "      div.appendChild(label);\n",
              "      const progress = document.createElement('progress');\n",
              "      progress.max = size;\n",
              "      div.appendChild(progress);\n",
              "      document.body.appendChild(div);\n",
              "\n",
              "      const buffers = [];\n",
              "      let downloaded = 0;\n",
              "\n",
              "      const channel = await google.colab.kernel.comms.open(id);\n",
              "      // Send a message to notify the kernel that we're ready.\n",
              "      channel.send({})\n",
              "\n",
              "      for await (const message of channel.messages) {\n",
              "        // Send a message to notify the kernel that we're ready.\n",
              "        channel.send({})\n",
              "        if (message.buffers) {\n",
              "          for (const buffer of message.buffers) {\n",
              "            buffers.push(buffer);\n",
              "            downloaded += buffer.byteLength;\n",
              "            progress.value = downloaded;\n",
              "          }\n",
              "        }\n",
              "      }\n",
              "      const blob = new Blob(buffers, {type: 'application/binary'});\n",
              "      const a = document.createElement('a');\n",
              "      a.href = window.URL.createObjectURL(blob);\n",
              "      a.download = filename;\n",
              "      div.appendChild(a);\n",
              "      a.click();\n",
              "      div.remove();\n",
              "    }\n",
              "  "
            ]
          },
          "metadata": {}
        },
        {
          "output_type": "display_data",
          "data": {
            "text/plain": [
              "<IPython.core.display.Javascript object>"
            ],
            "application/javascript": [
              "download(\"download_b34add4b-c5e0-473a-a8f5-2bed9e6219e5\", \"cats_pruned_tflite_model.tflite\", 8879588)"
            ]
          },
          "metadata": {}
        }
      ]
    },
    {
      "cell_type": "markdown",
      "source": [
        "### Download th pruned model"
      ],
      "metadata": {
        "id": "kuxN10OF2-xe"
      }
    },
    {
      "cell_type": "code",
      "source": [
        "pruned_file_name = \"cats_pruned_model.h5\"\n",
        "download_model(pruned_keras_file, pruned_file_name)"
      ],
      "metadata": {
        "colab": {
          "base_uri": "https://localhost:8080/",
          "height": 17
        },
        "id": "jjCmT6If23y3",
        "outputId": "4e1ee318-9556-49dc-9616-64edff2019ea"
      },
      "execution_count": 89,
      "outputs": [
        {
          "output_type": "display_data",
          "data": {
            "text/plain": [
              "<IPython.core.display.Javascript object>"
            ],
            "application/javascript": [
              "\n",
              "    async function download(id, filename, size) {\n",
              "      if (!google.colab.kernel.accessAllowed) {\n",
              "        return;\n",
              "      }\n",
              "      const div = document.createElement('div');\n",
              "      const label = document.createElement('label');\n",
              "      label.textContent = `Downloading \"${filename}\": `;\n",
              "      div.appendChild(label);\n",
              "      const progress = document.createElement('progress');\n",
              "      progress.max = size;\n",
              "      div.appendChild(progress);\n",
              "      document.body.appendChild(div);\n",
              "\n",
              "      const buffers = [];\n",
              "      let downloaded = 0;\n",
              "\n",
              "      const channel = await google.colab.kernel.comms.open(id);\n",
              "      // Send a message to notify the kernel that we're ready.\n",
              "      channel.send({})\n",
              "\n",
              "      for await (const message of channel.messages) {\n",
              "        // Send a message to notify the kernel that we're ready.\n",
              "        channel.send({})\n",
              "        if (message.buffers) {\n",
              "          for (const buffer of message.buffers) {\n",
              "            buffers.push(buffer);\n",
              "            downloaded += buffer.byteLength;\n",
              "            progress.value = downloaded;\n",
              "          }\n",
              "        }\n",
              "      }\n",
              "      const blob = new Blob(buffers, {type: 'application/binary'});\n",
              "      const a = document.createElement('a');\n",
              "      a.href = window.URL.createObjectURL(blob);\n",
              "      a.download = filename;\n",
              "      div.appendChild(a);\n",
              "      a.click();\n",
              "      div.remove();\n",
              "    }\n",
              "  "
            ]
          },
          "metadata": {}
        },
        {
          "output_type": "display_data",
          "data": {
            "text/plain": [
              "<IPython.core.display.Javascript object>"
            ],
            "application/javascript": [
              "download(\"download_8c4fe5ce-3323-4c8e-9168-84bbfbf484dd\", \"cats_pruned_model.h5\", 9346840)"
            ]
          },
          "metadata": {}
        }
      ]
    },
    {
      "cell_type": "code",
      "source": [
        ""
      ],
      "metadata": {
        "id": "Nc8oMdT0cRAC"
      },
      "execution_count": null,
      "outputs": []
    }
  ]
}