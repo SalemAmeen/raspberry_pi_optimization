{
  "cells": [
    {
      "cell_type": "markdown",
      "metadata": {
        "id": "kfTwSJF5-mHO"
      },
      "source": [
        "# Flowers classification probelm using ResNet50"
      ]
    },
    {
      "cell_type": "markdown",
      "metadata": {
        "id": "4jutHCfWEgoL"
      },
      "source": [
        "## Download the data"
      ]
    },
    {
      "cell_type": "code",
      "execution_count": 1,
      "metadata": {
        "colab": {
          "base_uri": "https://localhost:8080/"
        },
        "id": "YuDMwTcNbgX4",
        "outputId": "32c9a208-4c6a-42ef-f29a-22b854810887"
      },
      "outputs": [
        {
          "output_type": "stream",
          "name": "stdout",
          "text": [
            "Tue Jul 12 13:45:58 2022       \n",
            "+-----------------------------------------------------------------------------+\n",
            "| NVIDIA-SMI 460.32.03    Driver Version: 460.32.03    CUDA Version: 11.2     |\n",
            "|-------------------------------+----------------------+----------------------+\n",
            "| GPU  Name        Persistence-M| Bus-Id        Disp.A | Volatile Uncorr. ECC |\n",
            "| Fan  Temp  Perf  Pwr:Usage/Cap|         Memory-Usage | GPU-Util  Compute M. |\n",
            "|                               |                      |               MIG M. |\n",
            "|===============================+======================+======================|\n",
            "|   0  Tesla P100-PCIE...  Off  | 00000000:00:04.0 Off |                    0 |\n",
            "| N/A   44C    P0    28W / 250W |      0MiB / 16280MiB |      0%      Default |\n",
            "|                               |                      |                  N/A |\n",
            "+-------------------------------+----------------------+----------------------+\n",
            "                                                                               \n",
            "+-----------------------------------------------------------------------------+\n",
            "| Processes:                                                                  |\n",
            "|  GPU   GI   CI        PID   Type   Process name                  GPU Memory |\n",
            "|        ID   ID                                                   Usage      |\n",
            "|=============================================================================|\n",
            "|  No running processes found                                                 |\n",
            "+-----------------------------------------------------------------------------+\n"
          ]
        }
      ],
      "source": [
        "# Check for GPU\n",
        "gpu_info = !nvidia-smi\n",
        "gpu_info = '\\n'.join(gpu_info)\n",
        "if gpu_info.find('failed') >= 0:\n",
        "  print('Not connected to a GPU')\n",
        "else:\n",
        "  print(gpu_info)"
      ]
    },
    {
      "cell_type": "code",
      "execution_count": 2,
      "metadata": {
        "colab": {
          "base_uri": "https://localhost:8080/"
        },
        "id": "yapSmavB91zx",
        "outputId": "70f5ae9b-5c95-46e0-8854-86b10ac7124a"
      },
      "outputs": [
        {
          "output_type": "stream",
          "name": "stdout",
          "text": [
            "Looking in indexes: https://pypi.org/simple, https://us-python.pkg.dev/colab-wheels/public/simple/\n",
            "Collecting tfds-nightly\n",
            "  Downloading tfds_nightly-4.6.0.dev202207120045-py3-none-any.whl (4.4 MB)\n",
            "\u001b[K     |████████████████████████████████| 4.4 MB 4.1 MB/s \n",
            "\u001b[?25hCollecting etils[epath]\n",
            "  Downloading etils-0.6.0-py3-none-any.whl (98 kB)\n",
            "\u001b[K     |████████████████████████████████| 98 kB 7.4 MB/s \n",
            "\u001b[?25hRequirement already satisfied: requests>=2.19.0 in /usr/local/lib/python3.7/dist-packages (from tfds-nightly) (2.23.0)\n",
            "Requirement already satisfied: importlib-resources in /usr/local/lib/python3.7/dist-packages (from tfds-nightly) (5.7.1)\n",
            "Requirement already satisfied: typing-extensions in /usr/local/lib/python3.7/dist-packages (from tfds-nightly) (4.1.1)\n",
            "Requirement already satisfied: promise in /usr/local/lib/python3.7/dist-packages (from tfds-nightly) (2.3)\n",
            "Requirement already satisfied: termcolor in /usr/local/lib/python3.7/dist-packages (from tfds-nightly) (1.1.0)\n",
            "Requirement already satisfied: tensorflow-metadata in /usr/local/lib/python3.7/dist-packages (from tfds-nightly) (1.8.0)\n",
            "Requirement already satisfied: tqdm in /usr/local/lib/python3.7/dist-packages (from tfds-nightly) (4.64.0)\n",
            "Collecting toml\n",
            "  Downloading toml-0.10.2-py2.py3-none-any.whl (16 kB)\n",
            "Requirement already satisfied: six in /usr/local/lib/python3.7/dist-packages (from tfds-nightly) (1.15.0)\n",
            "Requirement already satisfied: absl-py in /usr/local/lib/python3.7/dist-packages (from tfds-nightly) (1.1.0)\n",
            "Requirement already satisfied: numpy in /usr/local/lib/python3.7/dist-packages (from tfds-nightly) (1.21.6)\n",
            "Requirement already satisfied: dill in /usr/local/lib/python3.7/dist-packages (from tfds-nightly) (0.3.5.1)\n",
            "Requirement already satisfied: protobuf>=3.12.2 in /usr/local/lib/python3.7/dist-packages (from tfds-nightly) (3.17.3)\n",
            "Requirement already satisfied: chardet<4,>=3.0.2 in /usr/local/lib/python3.7/dist-packages (from requests>=2.19.0->tfds-nightly) (3.0.4)\n",
            "Requirement already satisfied: idna<3,>=2.5 in /usr/local/lib/python3.7/dist-packages (from requests>=2.19.0->tfds-nightly) (2.10)\n",
            "Requirement already satisfied: certifi>=2017.4.17 in /usr/local/lib/python3.7/dist-packages (from requests>=2.19.0->tfds-nightly) (2022.6.15)\n",
            "Requirement already satisfied: urllib3!=1.25.0,!=1.25.1,<1.26,>=1.21.1 in /usr/local/lib/python3.7/dist-packages (from requests>=2.19.0->tfds-nightly) (1.24.3)\n",
            "Requirement already satisfied: zipp in /usr/local/lib/python3.7/dist-packages (from etils[epath]->tfds-nightly) (3.8.0)\n",
            "Requirement already satisfied: googleapis-common-protos<2,>=1.52.0 in /usr/local/lib/python3.7/dist-packages (from tensorflow-metadata->tfds-nightly) (1.56.2)\n",
            "Installing collected packages: etils, toml, tfds-nightly\n",
            "Successfully installed etils-0.6.0 tfds-nightly-4.6.0.dev202207120045 toml-0.10.2\n"
          ]
        }
      ],
      "source": [
        "pip install tfds-nightly"
      ]
    },
    {
      "cell_type": "code",
      "execution_count": 3,
      "metadata": {
        "id": "OLCcWbzGD_rU"
      },
      "outputs": [],
      "source": [
        "# Imports\n",
        "import tensorflow_datasets as tfds\n",
        "import matplotlib.pyplot as plt\n",
        "import matplotlib.image as mpimg\n",
        "import random\n",
        "import tensorflow as tf\n",
        "from tensorflow.keras import layers\n",
        "from tensorflow.keras.layers import Dropout, RandomFlip, RandomRotation, RandomWidth, RandomZoom, RandomContrast, MaxPooling2D, GlobalMaxPooling2D, RandomHeight, Dense\n",
        "import os\n",
        "import tempfile\n",
        "from gc import callbacks\n",
        "from tensorflow.keras.utils import plot_model\n",
        "import os\n",
        "import time\n",
        "from PIL import Image\n",
        "import PIL.Image\n",
        "import pandas as pd\n",
        "from sklearn.metrics import accuracy_score\n",
        "from google.colab import files\n",
        "import numpy as np\n",
        "\n"
      ]
    },
    {
      "cell_type": "code",
      "execution_count": 4,
      "metadata": {
        "id": "qSy88v5lB_Q3"
      },
      "outputs": [],
      "source": [
        "# Make a directory for data\n",
        "if not os.path.isdir(\"/content/dataset/\"):\n",
        "  os.mkdir(\"dataset\")"
      ]
    },
    {
      "cell_type": "code",
      "execution_count": 5,
      "metadata": {
        "id": "xYkn_ejaFAxK"
      },
      "outputs": [],
      "source": [
        "# Set global variables\n",
        "IMG_SIZE = (300, 300)\n",
        "BATCH_SIZE = 32"
      ]
    },
    {
      "cell_type": "code",
      "execution_count": 6,
      "metadata": {
        "colab": {
          "base_uri": "https://localhost:8080/",
          "height": 84,
          "referenced_widgets": [
            "e57e5fa25a714299b846b1daef2a3b74",
            "328fdc1ed145463d9f18a0eb3c2fc729",
            "99cebc02c2a843e4b718e977106b53b7",
            "51cfecd905a94da989e09f9d4cbadde9",
            "fd0f46c9777743828e2c951bbde1d16e",
            "28984215e0c141f58bc9ed06e227929f",
            "8890073846a0405893903ac0ff899901",
            "61867f3a310947b59649426ba7854f59",
            "6217149ac3324c048791e2ea90aacd82",
            "67752b2c638d42319a298ce6c950266d",
            "ee0b34ac970a4631b68f3df2ce4f3174"
          ]
        },
        "id": "CUMIChAS_PpQ",
        "outputId": "83e934f9-e198-4420-b620-7e14a2f0387b"
      },
      "outputs": [
        {
          "output_type": "stream",
          "name": "stdout",
          "text": [
            "\u001b[1mDownloading and preparing dataset 218.21 MiB (download: 218.21 MiB, generated: 221.83 MiB, total: 440.05 MiB) to /content/dataset/tf_flowers/3.0.1...\u001b[0m\n"
          ]
        },
        {
          "output_type": "display_data",
          "data": {
            "text/plain": [
              "Dl Completed...:   0%|          | 0/5 [00:00<?, ? file/s]"
            ],
            "application/vnd.jupyter.widget-view+json": {
              "version_major": 2,
              "version_minor": 0,
              "model_id": "e57e5fa25a714299b846b1daef2a3b74"
            }
          },
          "metadata": {}
        },
        {
          "output_type": "stream",
          "name": "stdout",
          "text": [
            "\u001b[1mDataset tf_flowers downloaded and prepared to /content/dataset/tf_flowers/3.0.1. Subsequent calls will reuse this data.\u001b[0m\n"
          ]
        }
      ],
      "source": [
        "# Load the dataset, split data\n",
        "from tensorflow_datasets.core import dataset_info\n",
        "all_data, info= tfds.load(name=\"tf_flowers\", batch_size=BATCH_SIZE, with_info=True, data_dir=\"/content/dataset/\", split=[\"train[:70%]\", \"train[70%:]\"], shuffle_files=True, as_supervised=True)\n"
      ]
    },
    {
      "cell_type": "code",
      "execution_count": 7,
      "metadata": {
        "id": "AwWFtc5__EMx"
      },
      "outputs": [],
      "source": [
        "train_data = all_data[0]\n",
        "test_data = all_data[1]"
      ]
    },
    {
      "cell_type": "code",
      "execution_count": 8,
      "metadata": {
        "colab": {
          "base_uri": "https://localhost:8080/"
        },
        "id": "yis32UzdF8S0",
        "outputId": "5e0c9165-bc66-4532-b1c0-19728928985c"
      },
      "outputs": [
        {
          "output_type": "execute_result",
          "data": {
            "text/plain": [
              "(81, 35)"
            ]
          },
          "metadata": {},
          "execution_count": 8
        }
      ],
      "source": [
        "# Get the length of each data set\n",
        "len(train_data), len(test_data)\n"
      ]
    },
    {
      "cell_type": "code",
      "execution_count": 9,
      "metadata": {
        "colab": {
          "base_uri": "https://localhost:8080/"
        },
        "id": "DuniopT3GE8N",
        "outputId": "2941cd08-8da3-4ae6-9fbe-8b1018ccaa1c"
      },
      "outputs": [
        {
          "output_type": "execute_result",
          "data": {
            "text/plain": [
              "(5, ['dandelion', 'daisy', 'tulips', 'sunflowers', 'roses'])"
            ]
          },
          "metadata": {},
          "execution_count": 9
        }
      ],
      "source": [
        "# Get the class names\n",
        "num_classes = info.features[\"label\"].num_classes\n",
        "class_names = info.features[\"label\"].names\n",
        "num_classes, class_names"
      ]
    },
    {
      "cell_type": "markdown",
      "metadata": {
        "id": "DiA308RC6B39"
      },
      "source": [
        "## Data Augmentation"
      ]
    },
    {
      "cell_type": "code",
      "execution_count": 10,
      "metadata": {
        "id": "Cp7u-N6bl8GM"
      },
      "outputs": [],
      "source": [
        "# Augmentation of the training data\n",
        "def data_augment(image, label):\n",
        "  data_augmentation = tf.keras.Sequential([\n",
        "                                         RandomFlip(\"horizontal\"),\n",
        "                                         RandomRotation(0.2),\n",
        "                                         RandomZoom(0.2),\n",
        "                                         RandomHeight(0.2),\n",
        "                                         RandomWidth(0.2),\n",
        "                                         RandomContrast(0.2)\n",
        "  ])\n",
        "  return data_augmentation(image), label\n",
        "\n",
        "train_data = train_data.map(data_augment)"
      ]
    },
    {
      "cell_type": "code",
      "execution_count": 11,
      "metadata": {
        "id": "8PAsnJr52kbR"
      },
      "outputs": [],
      "source": [
        "from tensorflow.keras.applications.resnet50 import ResNet50, preprocess_input\n",
        "def format_image(image, label):\n",
        "  image = preprocess_input(tf.image.resize(image, IMG_SIZE))\n",
        "  return image,label\n",
        "\n",
        "train_data = train_data.map(format_image)\n",
        "test_data = test_data.map(format_image)"
      ]
    },
    {
      "cell_type": "code",
      "execution_count": 12,
      "metadata": {
        "colab": {
          "base_uri": "https://localhost:8080/"
        },
        "id": "aEmJNu2gl9UU",
        "outputId": "e23bf7a8-9750-4cfe-c883-6294da4b93a1"
      },
      "outputs": [
        {
          "output_type": "execute_result",
          "data": {
            "text/plain": [
              "<PrefetchDataset element_spec=(TensorSpec(shape=(None, 300, 300, 3), dtype=tf.float32, name=None), TensorSpec(shape=(None,), dtype=tf.int64, name=None))>"
            ]
          },
          "metadata": {},
          "execution_count": 12
        }
      ],
      "source": [
        "# Configure dataset for performance\n",
        "AUTOTUNE = tf.data.AUTOTUNE\n",
        "training_ds = train_data.cache().prefetch(buffer_size=AUTOTUNE)\n",
        "testing_ds = test_data.cache().prefetch(buffer_size=AUTOTUNE)\n",
        "testing_ds"
      ]
    },
    {
      "cell_type": "markdown",
      "metadata": {
        "id": "11NOahKrCuK2"
      },
      "source": [
        "## Base model"
      ]
    },
    {
      "cell_type": "code",
      "execution_count": 13,
      "metadata": {
        "colab": {
          "base_uri": "https://localhost:8080/"
        },
        "id": "TwA7jkV147Sd",
        "outputId": "81a4032c-7805-4628-b54e-de0e05b07ce0"
      },
      "outputs": [
        {
          "output_type": "stream",
          "name": "stdout",
          "text": [
            "Downloading data from https://storage.googleapis.com/tensorflow/keras-applications/resnet/resnet50_weights_tf_dim_ordering_tf_kernels_notop.h5\n",
            "94773248/94765736 [==============================] - 1s 0us/step\n",
            "94781440/94765736 [==============================] - 1s 0us/step\n"
          ]
        }
      ],
      "source": [
        "# Create the basemodel with EfficientNetB7\n",
        "from tensorflow.keras.applications.resnet50 import ResNet50, preprocess_input\n",
        "\n",
        "base_model = ResNet50(input_shape=(IMG_SIZE + (3,)),\n",
        "                                         include_top=False)"
      ]
    },
    {
      "cell_type": "markdown",
      "metadata": {
        "id": "VzpI9sJ38bBI"
      },
      "source": [
        "## Feature Extraction"
      ]
    },
    {
      "cell_type": "markdown",
      "metadata": {
        "id": "_P00mSGJCmJ7"
      },
      "source": [
        "### Create the model"
      ]
    },
    {
      "cell_type": "code",
      "execution_count": 14,
      "metadata": {
        "id": "-vciQFbHi7b-"
      },
      "outputs": [],
      "source": [
        "# Initially the base model is not trained\n",
        "base_model.trainable = False"
      ]
    },
    {
      "cell_type": "code",
      "execution_count": 15,
      "metadata": {
        "id": "crtmyDpq8mFN"
      },
      "outputs": [],
      "source": [
        "# Use GlobalMaxPooling\n",
        "max_pool_layer = GlobalMaxPooling2D()"
      ]
    },
    {
      "cell_type": "code",
      "execution_count": 16,
      "metadata": {
        "id": "jMhSY6bL-iZq"
      },
      "outputs": [],
      "source": [
        "# Define the prediction layer\n",
        "prediction_layer = Dense(num_classes, activation=\"softmax\")"
      ]
    },
    {
      "cell_type": "code",
      "execution_count": 17,
      "metadata": {
        "id": "mmKMl84E-_n7"
      },
      "outputs": [],
      "source": [
        "from tensorflow.keras import Input, Model\n",
        "\n",
        "inputs = Input(shape=IMG_SIZE + (3,))\n",
        "#x = preprocess_input(inputs)\n",
        "#x = data_augmentation(x)\n",
        "x = base_model(inputs)\n",
        "x = max_pool_layer(x)\n",
        "x = Dropout(0.5)(x)\n",
        "outputs = prediction_layer(x)\n",
        "model_1 = Model(inputs, outputs, name=\"flowers_resnet50\")"
      ]
    },
    {
      "cell_type": "markdown",
      "metadata": {
        "id": "I-9NKDfIC04u"
      },
      "source": [
        "### Compile the model"
      ]
    },
    {
      "cell_type": "code",
      "execution_count": 18,
      "metadata": {
        "id": "qwJ2mvvwUC47"
      },
      "outputs": [],
      "source": [
        "# Create a function to implement a ModelCheckpoint callback with a specific filename\n",
        "def create_model_checkpoint(model_name, save_path=\"model_experiments\"):\n",
        "  return tf.keras.callbacks.ModelCheckpoint(filepath=os.path.join(save_path, model_name),\n",
        "                                            monitor=\"val_loss\",\n",
        "                                            verbose=0,\n",
        "                                            save_best_only=True)"
      ]
    },
    {
      "cell_type": "code",
      "execution_count": 19,
      "metadata": {
        "id": "bIE0PtSJCRQe"
      },
      "outputs": [],
      "source": [
        "# Set the learning rate for feature extraxtion\n",
        "base_learning_rate = 0.001\n",
        "\n",
        "# Compile the model\n",
        "model_1.compile(loss=tf.keras.losses.SparseCategoricalCrossentropy(),\n",
        "                optimizer=tf.keras.optimizers.Adam(learning_rate=base_learning_rate),\n",
        "                metrics=[\"accuracy\"])\n"
      ]
    },
    {
      "cell_type": "markdown",
      "metadata": {
        "id": "KPBvHQknVOr2"
      },
      "source": [
        "### Train the model"
      ]
    },
    {
      "cell_type": "code",
      "execution_count": 20,
      "metadata": {
        "colab": {
          "base_uri": "https://localhost:8080/"
        },
        "id": "BNDW_jMlVZ6K",
        "outputId": "2fdd633f-6004-4be0-c256-c8208bc017c4"
      },
      "outputs": [
        {
          "output_type": "stream",
          "name": "stdout",
          "text": [
            "Epoch 1/10\n",
            "81/81 [==============================] - ETA: 0s - loss: 7.5739 - accuracy: 0.4340INFO:tensorflow:Assets written to: model_experiments/flowers_resnet50/assets\n"
          ]
        },
        {
          "output_type": "stream",
          "name": "stderr",
          "text": [
            "INFO:tensorflow:Assets written to: model_experiments/flowers_resnet50/assets\n"
          ]
        },
        {
          "output_type": "stream",
          "name": "stdout",
          "text": [
            "\b\b\b\b\b\b\b\b\b\b\b\b\b\b\b\b\b\b\b\b\b\b\b\b\b\b\b\b\b\b\b\b\b\b\b\b\b\b\b\b\b\b\b\b\b\b\b\b\b\b\b\b\b\b\b\b\b\b\b\b\b\b\b\b\b\b\b\b\b\b\b\b\b\b\b\b\b\b\b\b\b\b\r81/81 [==============================] - 154s 2s/step - loss: 7.5739 - accuracy: 0.4340 - val_loss: 1.5022 - val_accuracy: 0.7975\n",
            "Epoch 2/10\n",
            "80/81 [============================>.] - ETA: 0s - loss: 4.0130 - accuracy: 0.6477INFO:tensorflow:Assets written to: model_experiments/flowers_resnet50/assets\n"
          ]
        },
        {
          "output_type": "stream",
          "name": "stderr",
          "text": [
            "INFO:tensorflow:Assets written to: model_experiments/flowers_resnet50/assets\n"
          ]
        },
        {
          "output_type": "stream",
          "name": "stdout",
          "text": [
            "\b\b\b\b\b\b\b\b\b\b\b\b\b\b\b\b\b\b\b\b\b\b\b\b\b\b\b\b\b\b\b\b\b\b\b\b\b\b\b\b\b\b\b\b\b\b\b\b\b\b\b\b\b\b\b\b\b\b\b\b\b\b\b\b\b\b\b\b\b\b\b\b\b\b\b\b\b\b\b\b\b\b\r81/81 [==============================] - 35s 436ms/step - loss: 4.0056 - accuracy: 0.6477 - val_loss: 1.4460 - val_accuracy: 0.8111\n",
            "Epoch 3/10\n",
            "80/81 [============================>.] - ETA: 0s - loss: 3.1158 - accuracy: 0.7059INFO:tensorflow:Assets written to: model_experiments/flowers_resnet50/assets\n"
          ]
        },
        {
          "output_type": "stream",
          "name": "stderr",
          "text": [
            "INFO:tensorflow:Assets written to: model_experiments/flowers_resnet50/assets\n"
          ]
        },
        {
          "output_type": "stream",
          "name": "stdout",
          "text": [
            "\b\b\b\b\b\b\b\b\b\b\b\b\b\b\b\b\b\b\b\b\b\b\b\b\b\b\b\b\b\b\b\b\b\b\b\b\b\b\b\b\b\b\b\b\b\b\b\b\b\b\b\b\b\b\b\b\b\b\b\b\b\b\b\b\b\b\b\b\b\b\b\b\b\b\b\b\b\b\b\b\b\b\r81/81 [==============================] - 35s 439ms/step - loss: 3.1053 - accuracy: 0.7065 - val_loss: 1.1765 - val_accuracy: 0.8520\n",
            "Epoch 4/10\n",
            "80/81 [============================>.] - ETA: 0s - loss: 2.7636 - accuracy: 0.7293INFO:tensorflow:Assets written to: model_experiments/flowers_resnet50/assets\n"
          ]
        },
        {
          "output_type": "stream",
          "name": "stderr",
          "text": [
            "INFO:tensorflow:Assets written to: model_experiments/flowers_resnet50/assets\n"
          ]
        },
        {
          "output_type": "stream",
          "name": "stdout",
          "text": [
            "\b\b\b\b\b\b\b\b\b\b\b\b\b\b\b\b\b\b\b\b\b\b\b\b\b\b\b\b\b\b\b\b\b\b\b\b\b\b\b\b\b\b\b\b\b\b\b\b\b\b\b\b\b\b\b\b\b\b\b\b\b\b\b\b\b\b\b\b\b\b\b\b\b\b\b\b\b\b\b\b\b\b\r81/81 [==============================] - 35s 442ms/step - loss: 2.7570 - accuracy: 0.7299 - val_loss: 1.0663 - val_accuracy: 0.8474\n",
            "Epoch 5/10\n",
            "81/81 [==============================] - 11s 133ms/step - loss: 2.3428 - accuracy: 0.7501 - val_loss: 1.1592 - val_accuracy: 0.8483\n",
            "Epoch 6/10\n",
            "80/81 [============================>.] - ETA: 0s - loss: 2.1008 - accuracy: 0.7785INFO:tensorflow:Assets written to: model_experiments/flowers_resnet50/assets\n"
          ]
        },
        {
          "output_type": "stream",
          "name": "stderr",
          "text": [
            "INFO:tensorflow:Assets written to: model_experiments/flowers_resnet50/assets\n"
          ]
        },
        {
          "output_type": "stream",
          "name": "stdout",
          "text": [
            "\b\b\b\b\b\b\b\b\b\b\b\b\b\b\b\b\b\b\b\b\b\b\b\b\b\b\b\b\b\b\b\b\b\b\b\b\b\b\b\b\b\b\b\b\b\b\b\b\b\b\b\b\b\b\b\b\b\b\b\b\b\b\b\b\b\b\b\b\b\b\b\b\b\b\b\b\b\b\b\b\b\b\r81/81 [==============================] - 36s 445ms/step - loss: 2.0958 - accuracy: 0.7785 - val_loss: 0.8903 - val_accuracy: 0.8783\n",
            "Epoch 7/10\n",
            "80/81 [============================>.] - ETA: 0s - loss: 1.7521 - accuracy: 0.7977INFO:tensorflow:Assets written to: model_experiments/flowers_resnet50/assets\n"
          ]
        },
        {
          "output_type": "stream",
          "name": "stderr",
          "text": [
            "INFO:tensorflow:Assets written to: model_experiments/flowers_resnet50/assets\n"
          ]
        },
        {
          "output_type": "stream",
          "name": "stdout",
          "text": [
            "\b\b\b\b\b\b\b\b\b\b\b\b\b\b\b\b\b\b\b\b\b\b\b\b\b\b\b\b\b\b\b\b\b\b\b\b\b\b\b\b\b\b\b\b\b\b\b\b\b\b\b\b\b\b\b\b\b\b\b\b\b\b\b\b\b\b\b\b\b\b\b\b\b\b\b\b\b\b\b\b\b\b\r81/81 [==============================] - 36s 447ms/step - loss: 1.7467 - accuracy: 0.7980 - val_loss: 0.7713 - val_accuracy: 0.8847\n",
            "Epoch 8/10\n",
            "81/81 [==============================] - 11s 133ms/step - loss: 1.6955 - accuracy: 0.7964 - val_loss: 0.7942 - val_accuracy: 0.8928\n",
            "Epoch 9/10\n",
            "81/81 [==============================] - 11s 132ms/step - loss: 1.5275 - accuracy: 0.8089 - val_loss: 0.9405 - val_accuracy: 0.8756\n",
            "Epoch 10/10\n",
            "81/81 [==============================] - 11s 132ms/step - loss: 1.5951 - accuracy: 0.8050 - val_loss: 0.7731 - val_accuracy: 0.9037\n"
          ]
        }
      ],
      "source": [
        "from gc import callbacks\n",
        "initial_epochs = 10\n",
        "model_1_history = model_1.fit(training_ds,\n",
        "                              validation_data=testing_ds,\n",
        "                              batch_size=BATCH_SIZE,\n",
        "                              epochs=initial_epochs,\n",
        "                              callbacks=[create_model_checkpoint(model_name=model_1.name)])"
      ]
    },
    {
      "cell_type": "markdown",
      "metadata": {
        "id": "natxO_5dXsWm"
      },
      "source": [
        "### Evaluate the model"
      ]
    },
    {
      "cell_type": "code",
      "execution_count": 21,
      "metadata": {
        "id": "XXoLwTg0WkzL"
      },
      "outputs": [],
      "source": [
        "# Plot validation and training curves\n",
        "# Create a function\n",
        "def plot_loss_curves(history):\n",
        "  \"\"\"\n",
        "  Returns seperate loss curves for training and validation metrics.\n",
        "\n",
        "  Args:\n",
        "  history: TensorFlow History object.\n",
        "\n",
        "  Returns:\n",
        "  Plots of the training/validation loss and accuracy metrics\n",
        "  \"\"\"\n",
        "  loss = history.history[\"loss\"]\n",
        "  val_loss = history.history[\"val_loss\"]\n",
        "\n",
        "  accuracy = history.history[\"accuracy\"]\n",
        "  val_accuracy = history.history[\"val_accuracy\"]\n",
        "\n",
        "  epochs = range(len(history.history[\"loss\"]))\n",
        "\n",
        "  #Plot loss\n",
        "  plt.plot(epochs, loss, label=\"training_loss\")\n",
        "  plt.plot(epochs, val_loss, label=\"val_loss\")\n",
        "  plt.title(\"Loss\")\n",
        "  plt.xlabel(\"Epochs\")\n",
        "  plt.legend()\n",
        "\n",
        "  #Plot accuracy\n",
        "  plt.figure()\n",
        "  plt.plot(epochs, accuracy, label=\"training_accuracy\")\n",
        "  plt.plot(epochs, val_accuracy, label=\"val_accuracy\")\n",
        "  plt.title(\"Accuracy\")\n",
        "  plt.xlabel(\"Epochs\")\n",
        "  plt.legend()"
      ]
    },
    {
      "cell_type": "code",
      "execution_count": 22,
      "metadata": {
        "colab": {
          "base_uri": "https://localhost:8080/",
          "height": 573
        },
        "id": "p6pW-FJBXw6v",
        "outputId": "dfa33e66-35ce-47f4-b8ad-e51ef19e2f7b"
      },
      "outputs": [
        {
          "output_type": "display_data",
          "data": {
            "text/plain": [
              "<Figure size 432x288 with 1 Axes>"
            ],
            "image/png": "[encoded data removed]"
          },
          "metadata": {
            "needs_background": "light"
          }
        },
        {
          "output_type": "display_data",
          "data": {
            "text/plain": [
              "<Figure size 432x288 with 1 Axes>"
            ],
            "image/png": "[encoded data removed]"
          },
          "metadata": {
            "needs_background": "light"
          }
        }
      ],
      "source": [
        "# Plot the curve for loss and accuracy\n",
        "plot_loss_curves(model_1_history)"
      ]
    },
    {
      "cell_type": "code",
      "execution_count": 23,
      "metadata": {
        "id": "-M8qnGGDfO4f"
      },
      "outputs": [],
      "source": [
        "base_model.trainable = True"
      ]
    },
    {
      "cell_type": "code",
      "execution_count": 24,
      "metadata": {
        "colab": {
          "base_uri": "https://localhost:8080/"
        },
        "id": "T15OHsXzfXc_",
        "outputId": "039b6e2f-be5b-45ab-8d6d-faf0526a1252"
      },
      "outputs": [
        {
          "output_type": "stream",
          "name": "stdout",
          "text": [
            "Number of layers in the base model:  175\n"
          ]
        }
      ],
      "source": [
        "# Let's take a look to see how many layers are in the base model\n",
        "print(\"Number of layers in the base model: \", len(base_model.layers))\n",
        "\n",
        "# Fine-tune from this layer onwards\n",
        "fine_tune_at = 15\n",
        "\n",
        "# Freeze all the layers before the `fine_tune_at` layer\n",
        "for layer in base_model.layers[:-fine_tune_at]:\n",
        "  layer.trainable =  False"
      ]
    },
    {
      "cell_type": "code",
      "execution_count": 25,
      "metadata": {
        "id": "vIFlz9bWfqkw"
      },
      "outputs": [],
      "source": [
        "# Compile the model\n",
        "model_1.compile(loss=tf.keras.losses.SparseCategoricalCrossentropy(),\n",
        "                optimizer=tf.keras.optimizers.Adam(learning_rate=base_learning_rate/10),\n",
        "                metrics=[\"accuracy\"])"
      ]
    },
    {
      "cell_type": "code",
      "execution_count": 26,
      "metadata": {
        "colab": {
          "base_uri": "https://localhost:8080/"
        },
        "id": "UHS1QInhfuFU",
        "outputId": "e75d1825-c252-496d-f209-453f572d560f"
      },
      "outputs": [
        {
          "output_type": "stream",
          "name": "stdout",
          "text": [
            "Epoch 11/25\n",
            "81/81 [==============================] - ETA: 0s - loss: 1.6779 - accuracy: 0.8178INFO:tensorflow:Assets written to: model_experiments/flowers_resnet50/assets\n"
          ]
        },
        {
          "output_type": "stream",
          "name": "stderr",
          "text": [
            "INFO:tensorflow:Assets written to: model_experiments/flowers_resnet50/assets\n"
          ]
        },
        {
          "output_type": "stream",
          "name": "stdout",
          "text": [
            "\b\b\b\b\b\b\b\b\b\b\b\b\b\b\b\b\b\b\b\b\b\b\b\b\b\b\b\b\b\b\b\b\b\b\b\b\b\b\b\b\b\b\b\b\b\b\b\b\b\b\b\b\b\b\b\b\b\b\b\b\b\b\b\b\b\b\b\b\b\b\b\b\b\b\b\b\b\b\b\b\b\b\r81/81 [==============================] - 43s 475ms/step - loss: 1.6779 - accuracy: 0.8178 - val_loss: 0.8400 - val_accuracy: 0.8874\n",
            "Epoch 12/25\n",
            "81/81 [==============================] - 11s 142ms/step - loss: 0.6723 - accuracy: 0.9035 - val_loss: 0.8521 - val_accuracy: 0.8974\n",
            "Epoch 13/25\n",
            "81/81 [==============================] - 11s 142ms/step - loss: 0.4200 - accuracy: 0.9319 - val_loss: 0.9143 - val_accuracy: 0.9055\n",
            "Epoch 14/25\n",
            "81/81 [==============================] - 11s 142ms/step - loss: 0.2810 - accuracy: 0.9510 - val_loss: 0.8689 - val_accuracy: 0.9037\n",
            "Epoch 15/25\n",
            "80/81 [============================>.] - ETA: 0s - loss: 0.1704 - accuracy: 0.9699INFO:tensorflow:Assets written to: model_experiments/flowers_resnet50/assets\n"
          ]
        },
        {
          "output_type": "stream",
          "name": "stderr",
          "text": [
            "INFO:tensorflow:Assets written to: model_experiments/flowers_resnet50/assets\n"
          ]
        },
        {
          "output_type": "stream",
          "name": "stdout",
          "text": [
            "\b\b\b\b\b\b\b\b\b\b\b\b\b\b\b\b\b\b\b\b\b\b\b\b\b\b\b\b\b\b\b\b\b\b\b\b\b\b\b\b\b\b\b\b\b\b\b\b\b\b\b\b\b\b\b\b\b\b\b\b\b\b\b\b\b\b\b\b\b\b\b\b\b\b\b\b\b\b\b\b\b\b\r81/81 [==============================] - 37s 457ms/step - loss: 0.1698 - accuracy: 0.9700 - val_loss: 0.7901 - val_accuracy: 0.9128\n",
            "Epoch 16/25\n",
            "81/81 [==============================] - 12s 142ms/step - loss: 0.1713 - accuracy: 0.9685 - val_loss: 0.8544 - val_accuracy: 0.9101\n",
            "Epoch 17/25\n",
            "81/81 [==============================] - 11s 142ms/step - loss: 0.1298 - accuracy: 0.9759 - val_loss: 0.9261 - val_accuracy: 0.9074\n",
            "Epoch 18/25\n",
            "81/81 [==============================] - 11s 142ms/step - loss: 0.0985 - accuracy: 0.9813 - val_loss: 0.8273 - val_accuracy: 0.9128\n",
            "Epoch 19/25\n",
            "81/81 [==============================] - 11s 142ms/step - loss: 0.0572 - accuracy: 0.9872 - val_loss: 0.8246 - val_accuracy: 0.9137\n",
            "Epoch 20/25\n",
            "81/81 [==============================] - 12s 143ms/step - loss: 0.0784 - accuracy: 0.9864 - val_loss: 0.8683 - val_accuracy: 0.9055\n",
            "Epoch 21/25\n",
            "80/81 [============================>.] - ETA: 0s - loss: 0.0711 - accuracy: 0.9863INFO:tensorflow:Assets written to: model_experiments/flowers_resnet50/assets\n"
          ]
        },
        {
          "output_type": "stream",
          "name": "stderr",
          "text": [
            "INFO:tensorflow:Assets written to: model_experiments/flowers_resnet50/assets\n"
          ]
        },
        {
          "output_type": "stream",
          "name": "stdout",
          "text": [
            "\b\b\b\b\b\b\b\b\b\b\b\b\b\b\b\b\b\b\b\b\b\b\b\b\b\b\b\b\b\b\b\b\b\b\b\b\b\b\b\b\b\b\b\b\b\b\b\b\b\b\b\b\b\b\b\b\b\b\b\b\b\b\b\b\b\b\b\b\b\b\b\b\b\b\b\b\b\b\b\b\b\b\r81/81 [==============================] - 37s 465ms/step - loss: 0.0709 - accuracy: 0.9864 - val_loss: 0.7813 - val_accuracy: 0.9255\n",
            "Epoch 22/25\n",
            "81/81 [==============================] - 12s 142ms/step - loss: 0.0472 - accuracy: 0.9903 - val_loss: 0.8816 - val_accuracy: 0.9137\n",
            "Epoch 23/25\n",
            "81/81 [==============================] - 11s 142ms/step - loss: 0.0313 - accuracy: 0.9922 - val_loss: 0.9902 - val_accuracy: 0.9046\n",
            "Epoch 24/25\n",
            "81/81 [==============================] - 11s 142ms/step - loss: 0.0500 - accuracy: 0.9879 - val_loss: 0.9511 - val_accuracy: 0.9101\n",
            "Epoch 25/25\n",
            "81/81 [==============================] - 12s 143ms/step - loss: 0.0273 - accuracy: 0.9914 - val_loss: 1.0560 - val_accuracy: 0.9083\n"
          ]
        }
      ],
      "source": [
        "fine_tune_epochs = 15\n",
        "total_epochs =  initial_epochs + fine_tune_epochs\n",
        "\n",
        "history_fine = model_1.fit(training_ds,\n",
        "                         epochs=total_epochs,\n",
        "                         initial_epoch=model_1_history.epoch[-1] + 1,\n",
        "                         validation_data=testing_ds,\n",
        "                         callbacks=[create_model_checkpoint(model_name=model_1.name)])"
      ]
    },
    {
      "cell_type": "code",
      "execution_count": 27,
      "metadata": {
        "id": "KrCCooIi5F8U"
      },
      "outputs": [],
      "source": [
        "# Load in the best saved model\n",
        "model_1 = tf.keras.models.load_model(\"/content/model_experiments/flowers_resnet50\")"
      ]
    },
    {
      "cell_type": "code",
      "execution_count": 28,
      "metadata": {
        "colab": {
          "base_uri": "https://localhost:8080/"
        },
        "id": "kah9BcIc5ZRa",
        "outputId": "ce1e7bf7-6719-4caf-8499-21eb8381b0a4"
      },
      "outputs": [
        {
          "output_type": "stream",
          "name": "stdout",
          "text": [
            "35/35 [==============================] - 4s 94ms/step - loss: 0.7813 - accuracy: 0.9255\n"
          ]
        },
        {
          "output_type": "execute_result",
          "data": {
            "text/plain": [
              "[0.7813429832458496, 0.9255222678184509]"
            ]
          },
          "metadata": {},
          "execution_count": 28
        }
      ],
      "source": [
        "# Evaluate on the best model\n",
        "model_1.evaluate(testing_ds)"
      ]
    },
    {
      "cell_type": "markdown",
      "metadata": {
        "id": "1rtfDGc13tMY"
      },
      "source": [
        "## Save the model"
      ]
    },
    {
      "cell_type": "code",
      "execution_count": 29,
      "metadata": {
        "id": "L6xKLjb03EgC"
      },
      "outputs": [],
      "source": [
        "model_1.save(\"flowers_resent50.h5\")"
      ]
    },
    {
      "cell_type": "code",
      "execution_count": 30,
      "metadata": {
        "colab": {
          "base_uri": "https://localhost:8080/",
          "height": 686
        },
        "id": "L6-am4GzZqus",
        "outputId": "9421d001-a5a6-48c0-9ceb-dda126a96ff3"
      },
      "outputs": [
        {
          "output_type": "execute_result",
          "data": {
            "text/plain": [
              "<IPython.core.display.Image object>"
            ],
            "image/jpeg": "[encoded data removed]"
          },
          "metadata": {},
          "execution_count": 30
        }
      ],
      "source": [
        "# Plot the model\n",
        "from tensorflow.keras.utils import plot_model\n",
        "plot_model(model_1, to_file=\"flowers_resnet50_model.jpeg\",show_shapes=True, show_dtype=True)"
      ]
    },
    {
      "cell_type": "markdown",
      "metadata": {
        "id": "Is7zx6XX16UC"
      },
      "source": [
        "## Predictions"
      ]
    },
    {
      "cell_type": "code",
      "execution_count": 31,
      "metadata": {
        "id": "zt5ZTLGNtPCy"
      },
      "outputs": [],
      "source": [
        "# Function to load, prep and predict\n",
        "def load_prep_predict_image(model, image_path, image_size=IMG_SIZE, class_names=class_names):\n",
        "  img = tf.io.read_file(image_path)\n",
        "  img = tf.image.decode_image(img)\n",
        "  plt.imshow(img) \n",
        "  plt.axis(False)\n",
        "  img = preprocess_input(img)\n",
        "  img = tf.image.resize(img, IMG_SIZE)\n",
        "  pred = model.predict(tf.expand_dims(img, axis=0))\n",
        "  pred_class = class_names[int(tf.round(pred[[0]]))]\n",
        "  return pred_class"
      ]
    },
    {
      "cell_type": "code",
      "execution_count": 32,
      "metadata": {
        "id": "9iV4ESxMvUbS"
      },
      "outputs": [],
      "source": [
        "#load_prep_predict_image(model=model_1, image_path=\"/content/Horses-400x225.jpg\")"
      ]
    },
    {
      "cell_type": "code",
      "execution_count": 33,
      "metadata": {
        "id": "6vEPL-fqzPG_",
        "colab": {
          "base_uri": "https://localhost:8080/"
        },
        "outputId": "078a6a9a-f8eb-4f58-842f-a5e3039e52b9"
      },
      "outputs": [
        {
          "output_type": "stream",
          "name": "stdout",
          "text": [
            "Model: \"flowers_resnet50\"\n",
            "_________________________________________________________________\n",
            " Layer (type)                Output Shape              Param #   \n",
            "=================================================================\n",
            " input_2 (InputLayer)        [(None, 300, 300, 3)]     0         \n",
            "                                                                 \n",
            " resnet50 (Functional)       (None, 10, 10, 2048)      23587712  \n",
            "                                                                 \n",
            " global_max_pooling2d (Globa  (None, 2048)             0         \n",
            " lMaxPooling2D)                                                  \n",
            "                                                                 \n",
            " dropout (Dropout)           (None, 2048)              0         \n",
            "                                                                 \n",
            " dense (Dense)               (None, 5)                 10245     \n",
            "                                                                 \n",
            "=================================================================\n",
            "Total params: 23,597,957\n",
            "Trainable params: 5,530,629\n",
            "Non-trainable params: 18,067,328\n",
            "_________________________________________________________________\n"
          ]
        }
      ],
      "source": [
        "model_1.summary()"
      ]
    },
    {
      "cell_type": "code",
      "execution_count": 34,
      "metadata": {
        "id": "7ASpF_PH32d9"
      },
      "outputs": [],
      "source": [
        "import zipfile\n",
        "\n",
        "# Unzip the downloaded file\n",
        "zip_ref = zipfile.ZipFile(\"/content/flower_photos.zip\", \"r\")\n",
        "zip_ref.extractall()\n",
        "zip_ref.close()"
      ]
    },
    {
      "cell_type": "code",
      "execution_count": 35,
      "metadata": {
        "colab": {
          "base_uri": "https://localhost:8080/"
        },
        "id": "ESqj1IyJDzQf",
        "outputId": "8ffe8bbd-000e-47dd-c087-966144bd6da2"
      },
      "outputs": [
        {
          "output_type": "stream",
          "name": "stdout",
          "text": [
            "Found 100 files belonging to 5 classes.\n"
          ]
        }
      ],
      "source": [
        "val_data = tf.keras.utils.image_dataset_from_directory(directory=\"/content/flower_photos\",\n",
        "                                              #color_mode=\"grayscale\",\n",
        "                                              image_size=IMG_SIZE,\n",
        "                                              batch_size=BATCH_SIZE,\n",
        "                                              label_mode=\"int\")"
      ]
    },
    {
      "cell_type": "code",
      "execution_count": 36,
      "metadata": {
        "colab": {
          "base_uri": "https://localhost:8080/"
        },
        "id": "pl7eVNJdD7Mb",
        "outputId": "503855c7-7bce-4f9c-c69d-dd9b8fadf1de"
      },
      "outputs": [
        {
          "output_type": "execute_result",
          "data": {
            "text/plain": [
              "<PrefetchDataset element_spec=(TensorSpec(shape=(None, 300, 300, 3), dtype=tf.float32, name=None), TensorSpec(shape=(None,), dtype=tf.int32, name=None))>"
            ]
          },
          "metadata": {},
          "execution_count": 36
        }
      ],
      "source": [
        "val_ds = val_data.cache().prefetch(buffer_size=AUTOTUNE)\n",
        "val_ds"
      ]
    },
    {
      "cell_type": "code",
      "execution_count": 37,
      "metadata": {
        "colab": {
          "base_uri": "https://localhost:8080/"
        },
        "id": "f80qRXUmEhvH",
        "outputId": "86c5ae27-479b-457b-f384-a2acbaf6386f"
      },
      "outputs": [
        {
          "output_type": "stream",
          "name": "stdout",
          "text": [
            "4/4 [==============================] - 2s 146ms/step - loss: 28.7934 - accuracy: 0.1500\n",
            "The Accuracy of the validation data 15.00%\n"
          ]
        }
      ],
      "source": [
        "print(f\"The Accuracy of the validation data {model_1.evaluate(val_data)[1] * 100:.2f}%\")"
      ]
    },
    {
      "cell_type": "code",
      "execution_count": 38,
      "metadata": {
        "id": "3p0rTcbWEjrR"
      },
      "outputs": [],
      "source": [
        "# Function to infer the val images \n",
        "import numpy as np\n",
        "import os\n",
        "import time\n",
        "from PIL import Image\n",
        "import PIL.Image\n",
        "\n",
        "def benchmark(val_dir, model, class_names=class_names, image_size=IMG_SIZE):\n",
        "  file_count = 0\n",
        "  infer_times = []\n",
        "  for (root, dirs, files) in os.walk(val_dir):\n",
        "    for name in files:\n",
        "      if name.endswith(\".jpg\"):\n",
        "        filename = os.path.join(root, name)\n",
        "        if file_count < 1 :\n",
        "          init_timer_start = time.time()\n",
        "          img = np.array(Image.open(filename).resize(IMG_SIZE))/255.\n",
        "          pred = model.predict(np.expand_dims(img, axis=0))\n",
        "          pred_class = class_names[int(np.argmax(pred[0]))]\n",
        "          init_timer_end = time.time()\n",
        "          init_timer = init_timer_end - init_timer_start\n",
        "          file_count+=1\n",
        "        else:\n",
        "          timer_start = time.time()\n",
        "          img = np.array(Image.open(filename).resize(IMG_SIZE))/255.\n",
        "          pred = model.predict(np.expand_dims(img, axis=0))\n",
        "          pred_class = class_names[int(np.argmax(pred[0]))]\n",
        "          timer_end = time.time()\n",
        "          infer_times.append((timer_end - timer_start))\n",
        "          file_count+=1\n",
        "\n",
        "  return init_timer, np.mean(infer_times), np.std(infer_times)"
      ]
    },
    {
      "cell_type": "code",
      "execution_count": 39,
      "metadata": {
        "colab": {
          "base_uri": "https://localhost:8080/"
        },
        "id": "RmDqx8OzFEeb",
        "outputId": "440d0b65-08ec-4c8a-8947-6be31e9d5870"
      },
      "outputs": [
        {
          "output_type": "stream",
          "name": "stdout",
          "text": [
            "The first image takes 1347.64 ms\n",
            "The average time taken per 99 images 65.84 ms\n",
            "The standard deviation of samples is 3.62 ms\n"
          ]
        }
      ],
      "source": [
        "init_time, avg_time, std = benchmark(val_dir=\"/content/flower_photos\",\n",
        "          model=model_1)\n",
        "print(f\"The first image takes {init_time * 1000:.2f} ms\")\n",
        "print(f\"The average time taken per 99 images {avg_time * 1000:.2f} ms\")\n",
        "print(f\"The standard deviation of samples is {std * 1000:.2f} ms\")"
      ]
    },
    {
      "cell_type": "code",
      "execution_count": null,
      "metadata": {
        "colab": {
          "base_uri": "https://localhost:8080/"
        },
        "id": "IeCJEpnaFK3L",
        "outputId": "d897cd65-a0d0-45f6-e0ce-a00df85d87a9"
      },
      "outputs": [
        {
          "name": "stdout",
          "output_type": "stream",
          "text": [
            "The first image takes 66.20 ms\n",
            "The average time taken per 99 images 66.84 ms\n",
            "The standard deviation of samples is 3.03 ms\n"
          ]
        }
      ],
      "source": [
        "init_time, avg_time, std = benchmark(val_dir=\"/content/flower_photos\",\n",
        "          model=model_1)\n",
        "print(f\"The first image takes {init_time * 1000:.2f} ms\")\n",
        "print(f\"The average time taken per 99 images {avg_time * 1000:.2f} ms\")\n",
        "print(f\"The standard deviation of samples is {std * 1000:.2f} ms\")"
      ]
    },
    {
      "cell_type": "code",
      "execution_count": null,
      "metadata": {
        "id": "oEHGUnswGVNS"
      },
      "outputs": [],
      "source": [
        ""
      ]
    },
    {
      "cell_type": "markdown",
      "metadata": {
        "id": "Jo0sF3gpQiIE"
      },
      "source": [
        "## Pruning"
      ]
    },
    {
      "cell_type": "markdown",
      "metadata": {
        "id": "ddwDGzrqjA5_"
      },
      "source": [
        "### Results form the baseline model"
      ]
    },
    {
      "cell_type": "code",
      "execution_count": 40,
      "metadata": {
        "colab": {
          "base_uri": "https://localhost:8080/"
        },
        "id": "NDHKFn3YQN74",
        "outputId": "b8f79b60-cf96-45c2-a7c2-c842333bc73a"
      },
      "outputs": [
        {
          "output_type": "stream",
          "name": "stdout",
          "text": [
            "35/35 [==============================] - 3s 94ms/step - loss: 0.7813 - accuracy: 0.9255\n",
            "The accuracy of the baseline model is 92.55 %\n"
          ]
        }
      ],
      "source": [
        "baseline_loss, baseline_accuracy = model_1.evaluate(testing_ds)\n",
        "print(f\"The accuracy of the baseline model is {baseline_accuracy * 100:.2f} %\")"
      ]
    },
    {
      "cell_type": "markdown",
      "metadata": {
        "id": "HiGgswJeQ_Vk"
      },
      "source": [
        "### Prunig the layers"
      ]
    },
    {
      "cell_type": "code",
      "execution_count": 41,
      "metadata": {
        "colab": {
          "base_uri": "https://localhost:8080/"
        },
        "id": "o7eNTU3f9Ief",
        "outputId": "d99b8796-fc7a-451d-f9f2-8919678eda1b"
      },
      "outputs": [
        {
          "output_type": "execute_result",
          "data": {
            "text/plain": [
              "{'sparsity': 0, 'val_accuracy': 92.5522, 'val_loss': 0.7813}"
            ]
          },
          "metadata": {},
          "execution_count": 41
        }
      ],
      "source": [
        "non_sparse_metric_dict = {\n",
        "      \"sparsity\" : 0,\n",
        "      \"val_loss\" : np.round(baseline_loss, 4),\n",
        "      \"val_accuracy\" : np.round(baseline_accuracy * 100, 4)\n",
        "}\n",
        "non_sparse_metric_dict"
      ]
    },
    {
      "cell_type": "code",
      "execution_count": 42,
      "metadata": {
        "colab": {
          "base_uri": "https://localhost:8080/"
        },
        "id": "SOQzLotbwSYv",
        "outputId": "9e00f201-d5d1-4cfb-faa9-20db44a74423"
      },
      "outputs": [
        {
          "output_type": "stream",
          "name": "stdout",
          "text": [
            "Looking in indexes: https://pypi.org/simple, https://us-python.pkg.dev/colab-wheels/public/simple/\n",
            "Collecting tensorflow_model_optimization\n",
            "  Downloading tensorflow_model_optimization-0.7.2-py2.py3-none-any.whl (237 kB)\n",
            "\u001b[K     |████████████████████████████████| 237 kB 4.0 MB/s \n",
            "\u001b[?25hRequirement already satisfied: dm-tree~=0.1.1 in /usr/local/lib/python3.7/dist-packages (from tensorflow_model_optimization) (0.1.7)\n",
            "Requirement already satisfied: numpy~=1.14 in /usr/local/lib/python3.7/dist-packages (from tensorflow_model_optimization) (1.21.6)\n",
            "Requirement already satisfied: six~=1.10 in /usr/local/lib/python3.7/dist-packages (from tensorflow_model_optimization) (1.15.0)\n",
            "Installing collected packages: tensorflow-model-optimization\n",
            "Successfully installed tensorflow-model-optimization-0.7.2\n"
          ]
        }
      ],
      "source": [
        "!pip install tensorflow_model_optimization \n"
      ]
    },
    {
      "cell_type": "code",
      "execution_count": 43,
      "metadata": {
        "id": "qVeYB12wljcf"
      },
      "outputs": [],
      "source": [
        "import tensorflow_model_optimization as tfmot\n",
        "\n",
        "# Finish pruning after 2 epochs\n",
        "epochs = 2\n",
        "BATCH_SIZE = 32\n",
        "#print(len(validation_batches))"
      ]
    },
    {
      "cell_type": "code",
      "execution_count": 44,
      "metadata": {
        "id": "QL7_7JVMJPwg"
      },
      "outputs": [],
      "source": [
        "from tensorflow_model_optimization.python.core.keras import metrics\n",
        "def prune_model(model, initial_sparsity, final_sparsity, train_data=training_ds, val_data=testing_ds, epochs=epochs ):\n",
        "  # Create a tensorboard logfile\n",
        "  logdir = tempfile.mkdtemp()\n",
        "  # The end_step is the total number of iterations required for the training data which is basically the entire epochs over the length of the training data\n",
        "  end_step = int(len(train_data) * epochs *0.5)\n",
        "  # Import the low-magnitude-pruning function\n",
        "  prune_low_magnitude = tfmot.sparsity.keras.prune_low_magnitude\n",
        "  # Set the prunung params\n",
        "  pruning_params = {\n",
        "      \"pruning_schedule\" : tfmot.sparsity.keras.PolynomialDecay(initial_sparsity=0,\n",
        "                                                                final_sparsity=final_sparsity,\n",
        "                                                                begin_step=0,\n",
        "                                                                end_step=end_step)\n",
        "                  }\n",
        "\n",
        "  \n",
        "  learning_rate_fn = tf.keras.optimizers.schedules.PolynomialDecay(\n",
        "    0.001,\n",
        "    1000,\n",
        "    0.0001,\n",
        "    power=0.5)\n",
        "  \n",
        "  # Model for pruning\n",
        "  model_for_pruning = prune_low_magnitude(model, **pruning_params)\n",
        "\n",
        "  # Recompile\n",
        "  model_for_pruning.compile(optimizer=tf.keras.optimizers.Adam(),\n",
        "                            loss=tf.keras.losses.SparseCategoricalCrossentropy(),\n",
        "                            metrics=[\"accuracy\"])\n",
        "  #create callbacks\n",
        "  callbacks = [tfmot.sparsity.keras.UpdatePruningStep(),\n",
        "              tfmot.sparsity.keras.PruningSummaries(log_dir=logdir),\n",
        "              tf.keras.callbacks.ReduceLROnPlateau(monitor=\"val_loss\",\n",
        "                                                   patience=3,\n",
        "                                                   verbose=1)]\n",
        "  \n",
        "  # Fit the model\n",
        "  model_for_pruning.fit(train_data,\n",
        "                      validation_data=val_data,\n",
        "                      batch_size=BATCH_SIZE,\n",
        "                      epochs=epochs,\n",
        "                      callbacks=callbacks)\n",
        "  \n",
        "  # Save the model\n",
        "  #model_for_pruning.save(f\"mnist_model_sparsity_{final_sparsity}\")\n",
        "\n",
        "  # Evaluate the model\n",
        "  score = model_for_pruning.evaluate(val_data, verbose=0)\n",
        "  metric_dict = {\n",
        "      \"sparsity\" : final_sparsity,\n",
        "      \"val_loss\" : np.round(score[0], 4),\n",
        "      \"val_accuracy\" : np.round(score[1] * 100, 4)\n",
        "  }\n",
        "  return logdir, metric_dict, model_for_pruning"
      ]
    },
    {
      "cell_type": "code",
      "execution_count": null,
      "metadata": {
        "colab": {
          "base_uri": "https://localhost:8080/"
        },
        "id": "ZgHrk4SZEIlD",
        "outputId": "404f7523-1888-44b6-ea56-74425f4be511"
      },
      "outputs": [
        {
          "name": "stderr",
          "output_type": "stream",
          "text": [
            "/usr/local/lib/python3.7/dist-packages/tensorflow_model_optimization/python/core/sparsity/keras/pruning_wrapper.py:238: UserWarning: `layer.add_variable` is deprecated and will be removed in a future version. Please use `layer.add_weight` method instead.\n",
            "  trainable=False)\n",
            "/usr/local/lib/python3.7/dist-packages/tensorflow_model_optimization/python/core/sparsity/keras/pruning_wrapper.py:218: UserWarning: `layer.add_variable` is deprecated and will be removed in a future version. Please use `layer.add_weight` method instead.\n",
            "  aggregation=tf.VariableAggregation.MEAN)\n",
            "/usr/local/lib/python3.7/dist-packages/tensorflow_model_optimization/python/core/sparsity/keras/pruning_wrapper.py:225: UserWarning: `layer.add_variable` is deprecated and will be removed in a future version. Please use `layer.add_weight` method instead.\n",
            "  aggregation=tf.VariableAggregation.MEAN)\n"
          ]
        },
        {
          "name": "stdout",
          "output_type": "stream",
          "text": [
            "Epoch 1/10\n",
            "81/81 [==============================] - 34s 327ms/step - loss: 0.7183 - accuracy: 0.8260 - val_loss: 0.8898 - val_accuracy: 0.8274 - lr: 0.0010\n",
            "Epoch 2/10\n",
            "81/81 [==============================] - 24s 302ms/step - loss: 0.4733 - accuracy: 0.8673 - val_loss: 0.8504 - val_accuracy: 0.8538 - lr: 0.0010\n",
            "Epoch 3/10\n",
            "81/81 [==============================] - 24s 297ms/step - loss: 0.3592 - accuracy: 0.8922 - val_loss: 0.4012 - val_accuracy: 0.9010 - lr: 0.0010\n",
            "Epoch 4/10\n",
            "81/81 [==============================] - 24s 297ms/step - loss: 0.3110 - accuracy: 0.9066 - val_loss: 0.4860 - val_accuracy: 0.9037 - lr: 0.0010\n",
            "Epoch 5/10\n",
            "81/81 [==============================] - 24s 297ms/step - loss: 0.2364 - accuracy: 0.9202 - val_loss: 0.4679 - val_accuracy: 0.8983 - lr: 0.0010\n",
            "Epoch 6/10\n",
            "81/81 [==============================] - ETA: 0s - loss: 0.2172 - accuracy: 0.9303\n",
            "Epoch 6: ReduceLROnPlateau reducing learning rate to 0.00010000000474974513.\n",
            "81/81 [==============================] - 24s 297ms/step - loss: 0.2172 - accuracy: 0.9303 - val_loss: 0.4306 - val_accuracy: 0.8955 - lr: 0.0010\n",
            "Epoch 7/10\n",
            "81/81 [==============================] - 24s 297ms/step - loss: 0.1159 - accuracy: 0.9583 - val_loss: 0.3450 - val_accuracy: 0.9183 - lr: 1.0000e-04\n",
            "Epoch 8/10\n",
            "81/81 [==============================] - 24s 297ms/step - loss: 0.0878 - accuracy: 0.9696 - val_loss: 0.3518 - val_accuracy: 0.9183 - lr: 1.0000e-04\n",
            "Epoch 9/10\n",
            "81/81 [==============================] - 24s 297ms/step - loss: 0.0938 - accuracy: 0.9661 - val_loss: 0.3391 - val_accuracy: 0.9201 - lr: 1.0000e-04\n",
            "Epoch 10/10\n",
            "81/81 [==============================] - 24s 297ms/step - loss: 0.0777 - accuracy: 0.9669 - val_loss: 0.3450 - val_accuracy: 0.9219 - lr: 1.0000e-04\n",
            "Sparsity : 0.25 \tValidation Loss: 0.345, \tValidation Accuracy: 92.1889\n",
            "Epoch 1/10\n",
            "81/81 [==============================] - 34s 325ms/step - loss: 0.2318 - accuracy: 0.9260 - val_loss: 0.4591 - val_accuracy: 0.8955 - lr: 0.0010\n",
            "Epoch 2/10\n",
            "81/81 [==============================] - 24s 297ms/step - loss: 0.2358 - accuracy: 0.9311 - val_loss: 0.6914 - val_accuracy: 0.8883 - lr: 0.0010\n",
            "Epoch 3/10\n",
            "81/81 [==============================] - 24s 297ms/step - loss: 0.2560 - accuracy: 0.9253 - val_loss: 0.5306 - val_accuracy: 0.9074 - lr: 0.0010\n",
            "Epoch 4/10\n",
            "81/81 [==============================] - ETA: 0s - loss: 0.1917 - accuracy: 0.9404\n",
            "Epoch 4: ReduceLROnPlateau reducing learning rate to 0.00010000000474974513.\n",
            "81/81 [==============================] - 24s 297ms/step - loss: 0.1917 - accuracy: 0.9404 - val_loss: 0.6024 - val_accuracy: 0.8974 - lr: 0.0010\n",
            "Epoch 5/10\n",
            "81/81 [==============================] - 24s 297ms/step - loss: 0.1286 - accuracy: 0.9525 - val_loss: 0.4386 - val_accuracy: 0.9046 - lr: 1.0000e-04\n",
            "Epoch 6/10\n",
            "81/81 [==============================] - 24s 297ms/step - loss: 0.0851 - accuracy: 0.9673 - val_loss: 0.4384 - val_accuracy: 0.9155 - lr: 1.0000e-04\n",
            "Epoch 7/10\n",
            "81/81 [==============================] - 24s 297ms/step - loss: 0.0598 - accuracy: 0.9766 - val_loss: 0.4391 - val_accuracy: 0.9110 - lr: 1.0000e-04\n",
            "Epoch 8/10\n",
            "81/81 [==============================] - 24s 297ms/step - loss: 0.0643 - accuracy: 0.9786 - val_loss: 0.4323 - val_accuracy: 0.9183 - lr: 1.0000e-04\n",
            "Epoch 9/10\n",
            "81/81 [==============================] - 24s 297ms/step - loss: 0.0437 - accuracy: 0.9837 - val_loss: 0.4300 - val_accuracy: 0.9173 - lr: 1.0000e-04\n",
            "Epoch 10/10\n",
            "81/81 [==============================] - 24s 298ms/step - loss: 0.0475 - accuracy: 0.9821 - val_loss: 0.4376 - val_accuracy: 0.9237 - lr: 1.0000e-04\n",
            "Sparsity : 0.5 \tValidation Loss: 0.4376, \tValidation Accuracy: 92.3706\n",
            "Epoch 1/10\n",
            "81/81 [==============================] - 33s 326ms/step - loss: 0.1678 - accuracy: 0.9486 - val_loss: 0.5030 - val_accuracy: 0.9119 - lr: 0.0010\n",
            "Epoch 2/10\n",
            "81/81 [==============================] - 24s 297ms/step - loss: 0.1616 - accuracy: 0.9467 - val_loss: 0.6547 - val_accuracy: 0.8937 - lr: 0.0010\n",
            "Epoch 3/10\n",
            "81/81 [==============================] - 24s 297ms/step - loss: 0.1873 - accuracy: 0.9525 - val_loss: 0.6790 - val_accuracy: 0.9055 - lr: 0.0010\n",
            "Epoch 4/10\n",
            "81/81 [==============================] - ETA: 0s - loss: 0.1728 - accuracy: 0.9517\n",
            "Epoch 4: ReduceLROnPlateau reducing learning rate to 0.00010000000474974513.\n",
            "81/81 [==============================] - 24s 297ms/step - loss: 0.1728 - accuracy: 0.9517 - val_loss: 0.5862 - val_accuracy: 0.9001 - lr: 0.0010\n",
            "Epoch 5/10\n",
            "81/81 [==============================] - 24s 297ms/step - loss: 0.0833 - accuracy: 0.9743 - val_loss: 0.3971 - val_accuracy: 0.9146 - lr: 1.0000e-04\n",
            "Epoch 6/10\n",
            "81/81 [==============================] - 24s 297ms/step - loss: 0.0685 - accuracy: 0.9801 - val_loss: 0.4036 - val_accuracy: 0.9183 - lr: 1.0000e-04\n",
            "Epoch 7/10\n",
            "81/81 [==============================] - 24s 297ms/step - loss: 0.0630 - accuracy: 0.9747 - val_loss: 0.3760 - val_accuracy: 0.9237 - lr: 1.0000e-04\n",
            "Epoch 8/10\n",
            "81/81 [==============================] - 24s 297ms/step - loss: 0.0477 - accuracy: 0.9833 - val_loss: 0.3887 - val_accuracy: 0.9192 - lr: 1.0000e-04\n",
            "Epoch 9/10\n",
            "81/81 [==============================] - 24s 297ms/step - loss: 0.0384 - accuracy: 0.9860 - val_loss: 0.3742 - val_accuracy: 0.9246 - lr: 1.0000e-04\n",
            "Epoch 10/10\n",
            "81/81 [==============================] - 24s 297ms/step - loss: 0.0344 - accuracy: 0.9895 - val_loss: 0.3882 - val_accuracy: 0.9210 - lr: 1.0000e-04\n",
            "Sparsity : 0.6 \tValidation Loss: 0.3882, \tValidation Accuracy: 92.0981\n",
            "Epoch 1/10\n",
            "81/81 [==============================] - 35s 327ms/step - loss: 0.1223 - accuracy: 0.9607 - val_loss: 0.4666 - val_accuracy: 0.9110 - lr: 0.0010\n",
            "Epoch 2/10\n",
            "81/81 [==============================] - 24s 297ms/step - loss: 0.1423 - accuracy: 0.9556 - val_loss: 0.5048 - val_accuracy: 0.9164 - lr: 0.0010\n",
            "Epoch 3/10\n",
            "81/81 [==============================] - 24s 297ms/step - loss: 0.1400 - accuracy: 0.9529 - val_loss: 0.5401 - val_accuracy: 0.9037 - lr: 0.0010\n",
            "Epoch 4/10\n",
            "81/81 [==============================] - 24s 298ms/step - loss: 0.1824 - accuracy: 0.9537 - val_loss: 0.4029 - val_accuracy: 0.9164 - lr: 0.0010\n",
            "Epoch 5/10\n",
            "81/81 [==============================] - 24s 297ms/step - loss: 0.1155 - accuracy: 0.9654 - val_loss: 0.4576 - val_accuracy: 0.9110 - lr: 0.0010\n",
            "Epoch 6/10\n",
            "81/81 [==============================] - 24s 297ms/step - loss: 0.1128 - accuracy: 0.9689 - val_loss: 0.5369 - val_accuracy: 0.9101 - lr: 0.0010\n",
            "Epoch 7/10\n",
            "81/81 [==============================] - ETA: 0s - loss: 0.0818 - accuracy: 0.9665\n",
            "Epoch 7: ReduceLROnPlateau reducing learning rate to 0.00010000000474974513.\n",
            "81/81 [==============================] - 24s 297ms/step - loss: 0.0818 - accuracy: 0.9665 - val_loss: 0.5654 - val_accuracy: 0.9083 - lr: 0.0010\n",
            "Epoch 8/10\n",
            "81/81 [==============================] - 24s 297ms/step - loss: 0.0484 - accuracy: 0.9829 - val_loss: 0.4736 - val_accuracy: 0.9192 - lr: 1.0000e-04\n",
            "Epoch 9/10\n",
            "81/81 [==============================] - 24s 298ms/step - loss: 0.0341 - accuracy: 0.9875 - val_loss: 0.4284 - val_accuracy: 0.9237 - lr: 1.0000e-04\n",
            "Epoch 10/10\n",
            "81/81 [==============================] - ETA: 0s - loss: 0.0296 - accuracy: 0.9903\n",
            "Epoch 10: ReduceLROnPlateau reducing learning rate to 1.0000000474974514e-05.\n",
            "81/81 [==============================] - 24s 298ms/step - loss: 0.0296 - accuracy: 0.9903 - val_loss: 0.4060 - val_accuracy: 0.9210 - lr: 1.0000e-04\n",
            "Sparsity : 0.7 \tValidation Loss: 0.406, \tValidation Accuracy: 92.0981\n",
            "Epoch 1/10\n",
            "81/81 [==============================] - 33s 327ms/step - loss: 0.1190 - accuracy: 0.9685 - val_loss: 0.4788 - val_accuracy: 0.9074 - lr: 0.0010\n",
            "Epoch 2/10\n",
            "81/81 [==============================] - 24s 297ms/step - loss: 0.1768 - accuracy: 0.9541 - val_loss: 0.4791 - val_accuracy: 0.9173 - lr: 0.0010\n",
            "Epoch 3/10\n",
            "81/81 [==============================] - 24s 297ms/step - loss: 0.1454 - accuracy: 0.9615 - val_loss: 0.5152 - val_accuracy: 0.9164 - lr: 0.0010\n",
            "Epoch 4/10\n",
            "81/81 [==============================] - ETA: 0s - loss: 0.0494 - accuracy: 0.9813\n",
            "Epoch 4: ReduceLROnPlateau reducing learning rate to 0.00010000000474974513.\n",
            "81/81 [==============================] - 24s 298ms/step - loss: 0.0494 - accuracy: 0.9813 - val_loss: 0.6832 - val_accuracy: 0.8992 - lr: 0.0010\n",
            "Epoch 5/10\n",
            "81/81 [==============================] - 24s 298ms/step - loss: 0.0531 - accuracy: 0.9833 - val_loss: 0.5266 - val_accuracy: 0.9155 - lr: 1.0000e-04\n",
            "Epoch 6/10\n",
            "81/81 [==============================] - 24s 297ms/step - loss: 0.0342 - accuracy: 0.9864 - val_loss: 0.5034 - val_accuracy: 0.9173 - lr: 1.0000e-04\n",
            "Epoch 7/10\n",
            "81/81 [==============================] - ETA: 0s - loss: 0.0467 - accuracy: 0.9837\n",
            "Epoch 7: ReduceLROnPlateau reducing learning rate to 1.0000000474974514e-05.\n",
            "81/81 [==============================] - 24s 297ms/step - loss: 0.0467 - accuracy: 0.9837 - val_loss: 0.5078 - val_accuracy: 0.9164 - lr: 1.0000e-04\n",
            "Epoch 8/10\n",
            "81/81 [==============================] - 24s 297ms/step - loss: 0.0314 - accuracy: 0.9883 - val_loss: 0.5085 - val_accuracy: 0.9101 - lr: 1.0000e-05\n",
            "Epoch 9/10\n",
            "81/81 [==============================] - 24s 297ms/step - loss: 0.0402 - accuracy: 0.9868 - val_loss: 0.5123 - val_accuracy: 0.9083 - lr: 1.0000e-05\n",
            "Epoch 10/10\n",
            "81/81 [==============================] - ETA: 0s - loss: 0.0507 - accuracy: 0.9821\n",
            "Epoch 10: ReduceLROnPlateau reducing learning rate to 1.0000000656873453e-06.\n",
            "81/81 [==============================] - 24s 297ms/step - loss: 0.0507 - accuracy: 0.9821 - val_loss: 0.5173 - val_accuracy: 0.9083 - lr: 1.0000e-05\n",
            "Sparsity : 0.8 \tValidation Loss: 0.5173, \tValidation Accuracy: 90.8265\n",
            "Epoch 1/10\n",
            "81/81 [==============================] - 33s 327ms/step - loss: 0.0818 - accuracy: 0.9704 - val_loss: 0.6527 - val_accuracy: 0.8974 - lr: 0.0010\n",
            "Epoch 2/10\n",
            "81/81 [==============================] - 24s 297ms/step - loss: 0.1178 - accuracy: 0.9654 - val_loss: 0.6429 - val_accuracy: 0.9046 - lr: 0.0010\n",
            "Epoch 3/10\n",
            "81/81 [==============================] - 24s 297ms/step - loss: 0.0806 - accuracy: 0.9751 - val_loss: 0.4947 - val_accuracy: 0.9110 - lr: 0.0010\n",
            "Epoch 4/10\n",
            "81/81 [==============================] - 24s 297ms/step - loss: 0.1219 - accuracy: 0.9798 - val_loss: 0.5899 - val_accuracy: 0.8955 - lr: 0.0010\n",
            "Epoch 5/10\n",
            "81/81 [==============================] - 24s 297ms/step - loss: 0.1237 - accuracy: 0.9657 - val_loss: 0.6723 - val_accuracy: 0.9028 - lr: 0.0010\n",
            "Epoch 6/10\n",
            "81/81 [==============================] - ETA: 0s - loss: 0.1057 - accuracy: 0.9755\n",
            "Epoch 6: ReduceLROnPlateau reducing learning rate to 0.00010000000474974513.\n",
            "81/81 [==============================] - 24s 298ms/step - loss: 0.1057 - accuracy: 0.9755 - val_loss: 0.6663 - val_accuracy: 0.9037 - lr: 0.0010\n",
            "Epoch 7/10\n",
            "81/81 [==============================] - 24s 297ms/step - loss: 0.0533 - accuracy: 0.9809 - val_loss: 0.5106 - val_accuracy: 0.9101 - lr: 1.0000e-04\n",
            "Epoch 8/10\n",
            "81/81 [==============================] - 24s 297ms/step - loss: 0.0652 - accuracy: 0.9790 - val_loss: 0.4388 - val_accuracy: 0.9019 - lr: 1.0000e-04\n",
            "Epoch 9/10\n",
            "81/81 [==============================] - 24s 297ms/step - loss: 0.0629 - accuracy: 0.9759 - val_loss: 0.4870 - val_accuracy: 0.8955 - lr: 1.0000e-04\n",
            "Epoch 10/10\n",
            "81/81 [==============================] - 24s 297ms/step - loss: 0.0662 - accuracy: 0.9786 - val_loss: 0.4457 - val_accuracy: 0.8992 - lr: 1.0000e-04\n",
            "Sparsity : 0.9 \tValidation Loss: 0.4457, \tValidation Accuracy: 89.9183\n",
            "Epoch 1/10\n",
            "81/81 [==============================] - 33s 326ms/step - loss: 0.1239 - accuracy: 0.9615 - val_loss: 0.5190 - val_accuracy: 0.9028 - lr: 0.0010\n",
            "Epoch 2/10\n",
            "81/81 [==============================] - 24s 298ms/step - loss: 0.1025 - accuracy: 0.9685 - val_loss: 0.7318 - val_accuracy: 0.8983 - lr: 0.0010\n",
            "Epoch 3/10\n",
            "81/81 [==============================] - 24s 297ms/step - loss: 0.0703 - accuracy: 0.9809 - val_loss: 0.5272 - val_accuracy: 0.9110 - lr: 0.0010\n",
            "Epoch 4/10\n",
            "81/81 [==============================] - ETA: 0s - loss: 0.0796 - accuracy: 0.9766\n",
            "Epoch 4: ReduceLROnPlateau reducing learning rate to 0.00010000000474974513.\n",
            "81/81 [==============================] - 24s 297ms/step - loss: 0.0796 - accuracy: 0.9766 - val_loss: 0.6471 - val_accuracy: 0.8974 - lr: 0.0010\n",
            "Epoch 5/10\n",
            "81/81 [==============================] - 24s 297ms/step - loss: 0.0565 - accuracy: 0.9817 - val_loss: 0.5229 - val_accuracy: 0.9037 - lr: 1.0000e-04\n",
            "Epoch 6/10\n",
            "81/81 [==============================] - 24s 297ms/step - loss: 0.0417 - accuracy: 0.9883 - val_loss: 0.4695 - val_accuracy: 0.9064 - lr: 1.0000e-04\n",
            "Epoch 7/10\n",
            "81/81 [==============================] - 24s 297ms/step - loss: 0.0557 - accuracy: 0.9809 - val_loss: 0.4434 - val_accuracy: 0.9046 - lr: 1.0000e-04\n",
            "Epoch 8/10\n",
            "81/81 [==============================] - 24s 297ms/step - loss: 0.0786 - accuracy: 0.9735 - val_loss: 0.4277 - val_accuracy: 0.8965 - lr: 1.0000e-04\n",
            "Epoch 9/10\n",
            "81/81 [==============================] - 24s 297ms/step - loss: 0.0878 - accuracy: 0.9720 - val_loss: 0.4031 - val_accuracy: 0.8965 - lr: 1.0000e-04\n",
            "Epoch 10/10\n",
            "81/81 [==============================] - 24s 297ms/step - loss: 0.1004 - accuracy: 0.9681 - val_loss: 0.3939 - val_accuracy: 0.8974 - lr: 1.0000e-04\n",
            "Sparsity : 0.95 \tValidation Loss: 0.3939, \tValidation Accuracy: 89.7366\n",
            "Epoch 1/10\n",
            "81/81 [==============================] - 33s 327ms/step - loss: 0.1333 - accuracy: 0.9564 - val_loss: 0.5613 - val_accuracy: 0.8919 - lr: 0.0010\n",
            "Epoch 2/10\n",
            "81/81 [==============================] - 24s 297ms/step - loss: 0.0834 - accuracy: 0.9731 - val_loss: 0.5473 - val_accuracy: 0.9101 - lr: 0.0010\n",
            "Epoch 3/10\n",
            "81/81 [==============================] - 24s 297ms/step - loss: 0.1030 - accuracy: 0.9689 - val_loss: 0.4525 - val_accuracy: 0.9110 - lr: 0.0010\n",
            "Epoch 4/10\n",
            "81/81 [==============================] - 24s 297ms/step - loss: 0.0481 - accuracy: 0.9833 - val_loss: 0.5220 - val_accuracy: 0.9074 - lr: 0.0010\n",
            "Epoch 5/10\n",
            "81/81 [==============================] - 24s 297ms/step - loss: 0.0348 - accuracy: 0.9872 - val_loss: 0.4458 - val_accuracy: 0.9064 - lr: 0.0010\n",
            "Epoch 6/10\n",
            "81/81 [==============================] - 24s 297ms/step - loss: 0.0465 - accuracy: 0.9817 - val_loss: 0.5324 - val_accuracy: 0.9092 - lr: 0.0010\n",
            "Epoch 7/10\n",
            "81/81 [==============================] - 24s 297ms/step - loss: 0.0641 - accuracy: 0.9770 - val_loss: 0.5662 - val_accuracy: 0.9019 - lr: 0.0010\n",
            "Epoch 8/10\n",
            "81/81 [==============================] - ETA: 0s - loss: 0.0828 - accuracy: 0.9724\n",
            "Epoch 8: ReduceLROnPlateau reducing learning rate to 0.00010000000474974513.\n",
            "81/81 [==============================] - 24s 298ms/step - loss: 0.0828 - accuracy: 0.9724 - val_loss: 0.5005 - val_accuracy: 0.9046 - lr: 0.0010\n",
            "Epoch 9/10\n",
            "81/81 [==============================] - 24s 297ms/step - loss: 0.0820 - accuracy: 0.9712 - val_loss: 0.4313 - val_accuracy: 0.9028 - lr: 1.0000e-04\n",
            "Epoch 10/10\n",
            "81/81 [==============================] - 24s 297ms/step - loss: 0.0965 - accuracy: 0.9685 - val_loss: 0.4407 - val_accuracy: 0.8919 - lr: 1.0000e-04\n",
            "Sparsity : 0.97 \tValidation Loss: 0.4407, \tValidation Accuracy: 89.1916\n",
            "Epoch 1/10\n",
            "81/81 [==============================] - 33s 326ms/step - loss: 0.1028 - accuracy: 0.9630 - val_loss: 0.6702 - val_accuracy: 0.8937 - lr: 0.0010\n",
            "Epoch 2/10\n",
            "81/81 [==============================] - 24s 297ms/step - loss: 0.0677 - accuracy: 0.9794 - val_loss: 0.7775 - val_accuracy: 0.9037 - lr: 0.0010\n",
            "Epoch 3/10\n",
            "81/81 [==============================] - 24s 297ms/step - loss: 0.0787 - accuracy: 0.9794 - val_loss: 0.6143 - val_accuracy: 0.8901 - lr: 0.0010\n",
            "Epoch 4/10\n",
            "81/81 [==============================] - 24s 297ms/step - loss: 0.0641 - accuracy: 0.9786 - val_loss: 0.5411 - val_accuracy: 0.9001 - lr: 0.0010\n",
            "Epoch 5/10\n",
            "81/81 [==============================] - 24s 298ms/step - loss: 0.0432 - accuracy: 0.9872 - val_loss: 0.4965 - val_accuracy: 0.8974 - lr: 0.0010\n",
            "Epoch 6/10\n",
            "81/81 [==============================] - 24s 297ms/step - loss: 0.0399 - accuracy: 0.9872 - val_loss: 0.4829 - val_accuracy: 0.9092 - lr: 0.0010\n",
            "Epoch 7/10\n",
            "81/81 [==============================] - 24s 297ms/step - loss: 0.0613 - accuracy: 0.9786 - val_loss: 0.4636 - val_accuracy: 0.9074 - lr: 0.0010\n",
            "Epoch 8/10\n",
            "81/81 [==============================] - 24s 297ms/step - loss: 0.0931 - accuracy: 0.9712 - val_loss: 0.4134 - val_accuracy: 0.8901 - lr: 0.0010\n",
            "Epoch 9/10\n",
            "81/81 [==============================] - 24s 297ms/step - loss: 0.2065 - accuracy: 0.9284 - val_loss: 0.3949 - val_accuracy: 0.8565 - lr: 0.0010\n",
            "Epoch 10/10\n",
            "81/81 [==============================] - 24s 297ms/step - loss: 0.2362 - accuracy: 0.9163 - val_loss: 0.3627 - val_accuracy: 0.8901 - lr: 0.0010\n",
            "Sparsity : 0.99 \tValidation Loss: 0.3627, \tValidation Accuracy: 89.01\n"
          ]
        }
      ],
      "source": [
        "k_sparsities = [0.25, 0.50, 0.60, 0.70, 0.80, 0.90, 0.95, 0.97, 0.99]\n",
        "\n",
        "#k_sparsities = [0.50]\n",
        "metric_list = []\n",
        "for k in k_sparsities:\n",
        "  logdir, metrics, pruned_model = prune_model(model=model_1,\n",
        "            initial_sparsity=0,\n",
        "            final_sparsity=k,\n",
        "            epochs=10)\n",
        "  val_loss, val_accuracy  = metrics[\"val_loss\"], metrics[\"val_accuracy\"]\n",
        "  metric_list.append(metrics)\n",
        "  print(f\"Sparsity : {k} \\tValidation Loss: {val_loss}, \\tValidation Accuracy: {val_accuracy}\")\n",
        "\n",
        "# Create a dataframe of the values obtained\n",
        "df = pd.DataFrame(metric_list)"
      ]
    },
    {
      "cell_type": "code",
      "execution_count": null,
      "metadata": {
        "colab": {
          "base_uri": "https://localhost:8080/"
        },
        "id": "3qv5U46sx_fL",
        "outputId": "8028c8bf-502f-4d0f-8a76-328adeb9681a"
      },
      "outputs": [
        {
          "name": "stderr",
          "output_type": "stream",
          "text": [
            "UsageError: Line magic function `%tensorboard` not found.\n"
          ]
        }
      ],
      "source": [
        "%tensorboard"
      ]
    },
    {
      "cell_type": "code",
      "execution_count": null,
      "metadata": {
        "colab": {
          "base_uri": "https://localhost:8080/"
        },
        "id": "Ufkkf_YYdXn3",
        "outputId": "1438d19b-d8b2-425a-95bb-d2b0183ddd4a"
      },
      "outputs": [
        {
          "name": "stderr",
          "output_type": "stream",
          "text": [
            "UsageError: Line magic function `%tensorboard` not found.\n"
          ]
        }
      ],
      "source": [
        "#docs_infra: no_execute\n",
        "%tensorboard --logdir={logdir}"
      ]
    },
    {
      "cell_type": "code",
      "execution_count": null,
      "metadata": {
        "colab": {
          "base_uri": "https://localhost:8080/",
          "height": 332
        },
        "id": "kI0QBJVlt-OJ",
        "outputId": "6f423843-8eb0-4305-8eb1-a3cdf45d942d"
      },
      "outputs": [
        {
          "data": {
            "text/html": [
              "\n",
              "  <div id=\"df-5a76cee5-51f6-4f6e-b506-adfa69dd227a\">\n",
              "    <div class=\"colab-df-container\">\n",
              "      <div>\n",
              "<style scoped>\n",
              "    .dataframe tbody tr th:only-of-type {\n",
              "        vertical-align: middle;\n",
              "    }\n",
              "\n",
              "    .dataframe tbody tr th {\n",
              "        vertical-align: top;\n",
              "    }\n",
              "\n",
              "    .dataframe thead th {\n",
              "        text-align: right;\n",
              "    }\n",
              "</style>\n",
              "<table border=\"1\" class=\"dataframe\">\n",
              "  <thead>\n",
              "    <tr style=\"text-align: right;\">\n",
              "      <th></th>\n",
              "      <th>sparsity</th>\n",
              "      <th>val_loss</th>\n",
              "      <th>val_accuracy</th>\n",
              "    </tr>\n",
              "  </thead>\n",
              "  <tbody>\n",
              "    <tr>\n",
              "      <th>0</th>\n",
              "      <td>0.25</td>\n",
              "      <td>0.3450</td>\n",
              "      <td>92.1889</td>\n",
              "    </tr>\n",
              "    <tr>\n",
              "      <th>1</th>\n",
              "      <td>0.50</td>\n",
              "      <td>0.4376</td>\n",
              "      <td>92.3706</td>\n",
              "    </tr>\n",
              "    <tr>\n",
              "      <th>2</th>\n",
              "      <td>0.60</td>\n",
              "      <td>0.3882</td>\n",
              "      <td>92.0981</td>\n",
              "    </tr>\n",
              "    <tr>\n",
              "      <th>3</th>\n",
              "      <td>0.70</td>\n",
              "      <td>0.4060</td>\n",
              "      <td>92.0981</td>\n",
              "    </tr>\n",
              "    <tr>\n",
              "      <th>4</th>\n",
              "      <td>0.80</td>\n",
              "      <td>0.5173</td>\n",
              "      <td>90.8265</td>\n",
              "    </tr>\n",
              "    <tr>\n",
              "      <th>5</th>\n",
              "      <td>0.90</td>\n",
              "      <td>0.4457</td>\n",
              "      <td>89.9183</td>\n",
              "    </tr>\n",
              "    <tr>\n",
              "      <th>6</th>\n",
              "      <td>0.95</td>\n",
              "      <td>0.3939</td>\n",
              "      <td>89.7366</td>\n",
              "    </tr>\n",
              "    <tr>\n",
              "      <th>7</th>\n",
              "      <td>0.97</td>\n",
              "      <td>0.4407</td>\n",
              "      <td>89.1916</td>\n",
              "    </tr>\n",
              "    <tr>\n",
              "      <th>8</th>\n",
              "      <td>0.99</td>\n",
              "      <td>0.3627</td>\n",
              "      <td>89.0100</td>\n",
              "    </tr>\n",
              "  </tbody>\n",
              "</table>\n",
              "</div>\n",
              "      <button class=\"colab-df-convert\" onclick=\"convertToInteractive('df-5a76cee5-51f6-4f6e-b506-adfa69dd227a')\"\n",
              "              title=\"Convert this dataframe to an interactive table.\"\n",
              "              style=\"display:none;\">\n",
              "        \n",
              "  <svg xmlns=\"http://www.w3.org/2000/svg\" height=\"24px\"viewBox=\"0 0 24 24\"\n",
              "       width=\"24px\">\n",
              "    <path d=\"M0 0h24v24H0V0z\" fill=\"none\"/>\n",
              "    <path d=\"M18.56 5.44l.94 2.06.94-2.06 2.06-.94-2.06-.94-.94-2.06-.94 2.06-2.06.94zm-11 1L8.5 8.5l.94-2.06 2.06-.94-2.06-.94L8.5 2.5l-.94 2.06-2.06.94zm10 10l.94 2.06.94-2.06 2.06-.94-2.06-.94-.94-2.06-.94 2.06-2.06.94z\"/><path d=\"M17.41 7.96l-1.37-1.37c-.4-.4-.92-.59-1.43-.59-.52 0-1.04.2-1.43.59L10.3 9.45l-7.72 7.72c-.78.78-.78 2.05 0 2.83L4 21.41c.39.39.9.59 1.41.59.51 0 1.02-.2 1.41-.59l7.78-7.78 2.81-2.81c.8-.78.8-2.07 0-2.86zM5.41 20L4 18.59l7.72-7.72 1.47 1.35L5.41 20z\"/>\n",
              "  </svg>\n",
              "      </button>\n",
              "      \n",
              "  <style>\n",
              "    .colab-df-container {\n",
              "      display:flex;\n",
              "      flex-wrap:wrap;\n",
              "      gap: 12px;\n",
              "    }\n",
              "\n",
              "    .colab-df-convert {\n",
              "      background-color: #E8F0FE;\n",
              "      border: none;\n",
              "      border-radius: 50%;\n",
              "      cursor: pointer;\n",
              "      display: none;\n",
              "      fill: #1967D2;\n",
              "      height: 32px;\n",
              "      padding: 0 0 0 0;\n",
              "      width: 32px;\n",
              "    }\n",
              "\n",
              "    .colab-df-convert:hover {\n",
              "      background-color: #E2EBFA;\n",
              "      box-shadow: 0px 1px 2px rgba(60, 64, 67, 0.3), 0px 1px 3px 1px rgba(60, 64, 67, 0.15);\n",
              "      fill: #174EA6;\n",
              "    }\n",
              "\n",
              "    [theme=dark] .colab-df-convert {\n",
              "      background-color: #3B4455;\n",
              "      fill: #D2E3FC;\n",
              "    }\n",
              "\n",
              "    [theme=dark] .colab-df-convert:hover {\n",
              "      background-color: #434B5C;\n",
              "      box-shadow: 0px 1px 3px 1px rgba(0, 0, 0, 0.15);\n",
              "      filter: drop-shadow(0px 1px 2px rgba(0, 0, 0, 0.3));\n",
              "      fill: #FFFFFF;\n",
              "    }\n",
              "  </style>\n",
              "\n",
              "      <script>\n",
              "        const buttonEl =\n",
              "          document.querySelector('#df-5a76cee5-51f6-4f6e-b506-adfa69dd227a button.colab-df-convert');\n",
              "        buttonEl.style.display =\n",
              "          google.colab.kernel.accessAllowed ? 'block' : 'none';\n",
              "\n",
              "        async function convertToInteractive(key) {\n",
              "          const element = document.querySelector('#df-5a76cee5-51f6-4f6e-b506-adfa69dd227a');\n",
              "          const dataTable =\n",
              "            await google.colab.kernel.invokeFunction('convertToInteractive',\n",
              "                                                     [key], {});\n",
              "          if (!dataTable) return;\n",
              "\n",
              "          const docLinkHtml = 'Like what you see? Visit the ' +\n",
              "            '<a target=\"_blank\" href=https://colab.research.google.com/notebooks/data_table.ipynb>data table notebook</a>'\n",
              "            + ' to learn more about interactive tables.';\n",
              "          element.innerHTML = '';\n",
              "          dataTable['output_type'] = 'display_data';\n",
              "          await google.colab.output.renderOutput(dataTable, element);\n",
              "          const docLink = document.createElement('div');\n",
              "          docLink.innerHTML = docLinkHtml;\n",
              "          element.appendChild(docLink);\n",
              "        }\n",
              "      </script>\n",
              "    </div>\n",
              "  </div>\n",
              "  "
            ],
            "text/plain": [
              "   sparsity  val_loss  val_accuracy\n",
              "0      0.25    0.3450       92.1889\n",
              "1      0.50    0.4376       92.3706\n",
              "2      0.60    0.3882       92.0981\n",
              "3      0.70    0.4060       92.0981\n",
              "4      0.80    0.5173       90.8265\n",
              "5      0.90    0.4457       89.9183\n",
              "6      0.95    0.3939       89.7366\n",
              "7      0.97    0.4407       89.1916\n",
              "8      0.99    0.3627       89.0100"
            ]
          },
          "execution_count": 53,
          "metadata": {},
          "output_type": "execute_result"
        }
      ],
      "source": [
        "df"
      ]
    },
    {
      "cell_type": "code",
      "execution_count": null,
      "metadata": {
        "colab": {
          "base_uri": "https://localhost:8080/"
        },
        "id": "x8nmXzgDI3VU",
        "outputId": "0eb82aa5-385e-4235-8d45-a971bed5ab38"
      },
      "outputs": [
        {
          "data": {
            "text/plain": [
              "0.912806510925293"
            ]
          },
          "execution_count": 46,
          "metadata": {},
          "output_type": "execute_result"
        }
      ],
      "source": [
        "baseline_accuracy"
      ]
    },
    {
      "cell_type": "code",
      "execution_count": null,
      "metadata": {
        "colab": {
          "base_uri": "https://localhost:8080/",
          "height": 357
        },
        "id": "KLQra9DWkFXe",
        "outputId": "c3bcbd2f-242d-49b3-bb7f-bec83dc4b450"
      },
      "outputs": [
        {
          "data": {
            "image/png": "[encoded data removed]",
            "text/plain": [
              "<Figure size 432x288 with 2 Axes>"
            ]
          },
          "metadata": {},
          "output_type": "display_data"
        }
      ],
      "source": [
        "from IPython.core.pylabtools import figsize\n",
        "# Visualizing performance on MNIST\n",
        "fig = plt.figure()\n",
        "ax1 = fig.add_subplot(1, 1, 1)\n",
        "plt.grid(b=None)\n",
        "ax2 = ax1.twinx()\n",
        "plt.grid(b=None)\n",
        "plt.title('Test Accuracy as a function of k% Sparsity\\nfor a CNN trained on MNIST')\n",
        "ax1.plot(df['sparsity'].values,\n",
        "         df['val_accuracy'].values,\n",
        "         '#008fd5', linestyle='-', label='Pruning Accuracy')\n",
        "ax2.plot(df['sparsity'].values,\n",
        "         df['val_loss'].values,\n",
        "         '#fc4f30', linestyle='-', label='Pruning Loss')\n",
        "\n",
        "ax1.set_ylabel('Accuracy (%)', color='#008fd5')\n",
        "ax2.set_ylabel('Loss (sparse categorical crossentropy)', color='#fc4f30')\n",
        "ax1.set_xlabel('k% Sparsity')\n",
        "ax1.legend(loc='upper center', bbox_to_anchor=(0.5, -0.15), shadow=True, ncol=2);\n",
        "ax2.legend(loc='upper center', bbox_to_anchor=(0.5, -0.25), shadow=True, ncol=2);\n",
        "plt.savefig('MNIST_sparsity_comparisons.png')"
      ]
    },
    {
      "cell_type": "code",
      "execution_count": null,
      "metadata": {
        "colab": {
          "base_uri": "https://localhost:8080/",
          "height": 686
        },
        "id": "yefx4azFTuzA",
        "outputId": "0164093f-318d-4160-806a-dd769e527876"
      },
      "outputs": [
        {
          "data": {
            "image/jpeg": "[encoded data removed]",
            "text/plain": [
              "<IPython.core.display.Image object>"
            ]
          },
          "execution_count": 55,
          "metadata": {},
          "output_type": "execute_result"
        }
      ],
      "source": [
        "plot_model(pruned_model, to_file=\"pruned_model.jpeg\",show_shapes=True, show_dtype=True)"
      ]
    },
    {
      "cell_type": "code",
      "execution_count": null,
      "metadata": {
        "colab": {
          "base_uri": "https://localhost:8080/"
        },
        "id": "jhlEtM38YRe3",
        "outputId": "5d6572ad-46fe-44a1-e158-e27c9c632031"
      },
      "outputs": [
        {
          "name": "stdout",
          "output_type": "stream",
          "text": [
            "Model: \"flowers_resnet50\"\n",
            "_________________________________________________________________\n",
            " Layer (type)                Output Shape              Param #   \n",
            "=================================================================\n",
            " input_2 (InputLayer)        [(None, 300, 300, 3)]     0         \n",
            "                                                                 \n",
            " resnet50 (Functional)       (None, 10, 10, 2048)      47042851  \n",
            "                                                                 \n",
            " prune_low_magnitude_global_  (None, 2048)             1         \n",
            " max_pooling2d (PruneLowMagn                                     \n",
            " itude)                                                          \n",
            "                                                                 \n",
            " prune_low_magnitude_dropout  (None, 2048)             1         \n",
            "  (PruneLowMagnitude)                                            \n",
            "                                                                 \n",
            " prune_low_magnitude_dense (  (None, 5)                20487     \n",
            " PruneLowMagnitude)                                              \n",
            "                                                                 \n",
            "=================================================================\n",
            "Total params: 47,063,340\n",
            "Trainable params: 4,475,909\n",
            "Non-trainable params: 42,587,431\n",
            "_________________________________________________________________\n"
          ]
        }
      ],
      "source": [
        "pruned_model.summary()"
      ]
    },
    {
      "cell_type": "code",
      "execution_count": null,
      "metadata": {
        "colab": {
          "base_uri": "https://localhost:8080/"
        },
        "id": "NVerQe15YXVc",
        "outputId": "36126125-19ed-454c-84a1-592bdd2db0d6"
      },
      "outputs": [
        {
          "name": "stdout",
          "output_type": "stream",
          "text": [
            "Model: \"flowers_resnet50\"\n",
            "_________________________________________________________________\n",
            " Layer (type)                Output Shape              Param #   \n",
            "=================================================================\n",
            " input_2 (InputLayer)        [(None, 300, 300, 3)]     0         \n",
            "                                                                 \n",
            " resnet50 (Functional)       (None, 10, 10, 2048)      23587712  \n",
            "                                                                 \n",
            " global_max_pooling2d (Globa  (None, 2048)             0         \n",
            " lMaxPooling2D)                                                  \n",
            "                                                                 \n",
            " dropout (Dropout)           (None, 2048)              0         \n",
            "                                                                 \n",
            " dense (Dense)               (None, 5)                 10245     \n",
            "                                                                 \n",
            "=================================================================\n",
            "Total params: 23,597,957\n",
            "Trainable params: 4,475,909\n",
            "Non-trainable params: 19,122,048\n",
            "_________________________________________________________________\n"
          ]
        }
      ],
      "source": [
        "model_1.summary()"
      ]
    },
    {
      "cell_type": "code",
      "execution_count": 54,
      "metadata": {
        "id": "NAC7Th1pwVM9"
      },
      "outputs": [],
      "source": [
        "benchmark_dir = \"/content/flower_photos\""
      ]
    },
    {
      "cell_type": "code",
      "execution_count": null,
      "metadata": {
        "colab": {
          "base_uri": "https://localhost:8080/"
        },
        "id": "R9iFJKK8YvMR",
        "outputId": "8d564901-faf9-4810-9842-2e3d22167efa"
      },
      "outputs": [
        {
          "name": "stdout",
          "output_type": "stream",
          "text": [
            "The first image takes 82.13 ms\n",
            "The average time taken per 99 images 73.79 ms\n",
            "The standard deviation of samples is 6.16 ms\n"
          ]
        }
      ],
      "source": [
        "init_time, avg_time, std = benchmark(val_dir=benchmark_dir,\n",
        "          model=model_1)\n",
        "print(f\"The first image takes {init_time * 1000:.2f} ms\")\n",
        "print(f\"The average time taken per 99 images {avg_time * 1000:.2f} ms\")\n",
        "print(f\"The standard deviation of samples is {std * 1000:.2f} ms\")"
      ]
    },
    {
      "cell_type": "code",
      "execution_count": 45,
      "metadata": {
        "colab": {
          "base_uri": "https://localhost:8080/"
        },
        "id": "twDoV7mCmPC0",
        "outputId": "465c64e4-80ec-4401-cce6-662a96ae196e"
      },
      "outputs": [
        {
          "output_type": "stream",
          "name": "stderr",
          "text": [
            "/usr/local/lib/python3.7/dist-packages/tensorflow_model_optimization/python/core/sparsity/keras/pruning_wrapper.py:238: UserWarning: `layer.add_variable` is deprecated and will be removed in a future version. Please use `layer.add_weight` method instead.\n",
            "  trainable=False)\n",
            "/usr/local/lib/python3.7/dist-packages/tensorflow_model_optimization/python/core/sparsity/keras/pruning_wrapper.py:218: UserWarning: `layer.add_variable` is deprecated and will be removed in a future version. Please use `layer.add_weight` method instead.\n",
            "  aggregation=tf.VariableAggregation.MEAN)\n",
            "/usr/local/lib/python3.7/dist-packages/tensorflow_model_optimization/python/core/sparsity/keras/pruning_wrapper.py:225: UserWarning: `layer.add_variable` is deprecated and will be removed in a future version. Please use `layer.add_weight` method instead.\n",
            "  aggregation=tf.VariableAggregation.MEAN)\n"
          ]
        },
        {
          "output_type": "stream",
          "name": "stdout",
          "text": [
            "Epoch 1/15\n",
            " 6/81 [=>............................] - ETA: 11s - loss: 0.3783 - accuracy: 0.9844WARNING:tensorflow:Callback method `on_train_batch_end` is slow compared to the batch time (batch time: 0.1388s vs `on_train_batch_end` time: 0.2017s). Check your callbacks.\n"
          ]
        },
        {
          "output_type": "stream",
          "name": "stderr",
          "text": [
            "WARNING:tensorflow:Callback method `on_train_batch_end` is slow compared to the batch time (batch time: 0.1388s vs `on_train_batch_end` time: 0.2017s). Check your callbacks.\n"
          ]
        },
        {
          "output_type": "stream",
          "name": "stdout",
          "text": [
            "81/81 [==============================] - 64s 216ms/step - loss: 1.3709 - accuracy: 0.8494 - val_loss: 1.2932 - val_accuracy: 0.8365 - lr: 0.0010\n",
            "Epoch 2/15\n",
            "81/81 [==============================] - 16s 202ms/step - loss: 0.6569 - accuracy: 0.8976 - val_loss: 0.6782 - val_accuracy: 0.9019 - lr: 0.0010\n",
            "Epoch 3/15\n",
            "81/81 [==============================] - 15s 191ms/step - loss: 0.4574 - accuracy: 0.9229 - val_loss: 0.8863 - val_accuracy: 0.8847 - lr: 0.0010\n",
            "Epoch 4/15\n",
            "81/81 [==============================] - 15s 191ms/step - loss: 0.5586 - accuracy: 0.9105 - val_loss: 0.8535 - val_accuracy: 0.8883 - lr: 0.0010\n",
            "Epoch 5/15\n",
            "81/81 [==============================] - ETA: 0s - loss: 0.7158 - accuracy: 0.8828\n",
            "Epoch 5: ReduceLROnPlateau reducing learning rate to 0.00010000000474974513.\n",
            "81/81 [==============================] - 15s 191ms/step - loss: 0.7158 - accuracy: 0.8828 - val_loss: 1.0462 - val_accuracy: 0.8520 - lr: 0.0010\n",
            "Epoch 6/15\n",
            "81/81 [==============================] - 15s 186ms/step - loss: 0.6862 - accuracy: 0.8821 - val_loss: 0.6238 - val_accuracy: 0.8965 - lr: 1.0000e-04\n",
            "Epoch 7/15\n",
            "81/81 [==============================] - 15s 190ms/step - loss: 0.6723 - accuracy: 0.8731 - val_loss: 0.6421 - val_accuracy: 0.8955 - lr: 1.0000e-04\n",
            "Epoch 8/15\n",
            "81/81 [==============================] - 15s 190ms/step - loss: 0.5268 - accuracy: 0.8949 - val_loss: 0.6491 - val_accuracy: 0.8946 - lr: 1.0000e-04\n",
            "Epoch 9/15\n",
            "81/81 [==============================] - ETA: 0s - loss: 0.4318 - accuracy: 0.9062\n",
            "Epoch 9: ReduceLROnPlateau reducing learning rate to 1.0000000474974514e-05.\n",
            "81/81 [==============================] - 15s 187ms/step - loss: 0.4318 - accuracy: 0.9062 - val_loss: 0.6596 - val_accuracy: 0.8955 - lr: 1.0000e-04\n",
            "Epoch 10/15\n",
            "81/81 [==============================] - 15s 186ms/step - loss: 0.3658 - accuracy: 0.9221 - val_loss: 0.6614 - val_accuracy: 0.9001 - lr: 1.0000e-05\n",
            "Epoch 11/15\n",
            "81/81 [==============================] - 15s 188ms/step - loss: 0.3247 - accuracy: 0.9233 - val_loss: 0.6634 - val_accuracy: 0.9001 - lr: 1.0000e-05\n",
            "Epoch 12/15\n",
            "81/81 [==============================] - ETA: 0s - loss: 0.3238 - accuracy: 0.9221\n",
            "Epoch 12: ReduceLROnPlateau reducing learning rate to 1.0000000656873453e-06.\n",
            "81/81 [==============================] - 15s 187ms/step - loss: 0.3238 - accuracy: 0.9221 - val_loss: 0.6692 - val_accuracy: 0.9037 - lr: 1.0000e-05\n",
            "Epoch 13/15\n",
            "81/81 [==============================] - 15s 187ms/step - loss: 0.3515 - accuracy: 0.9229 - val_loss: 0.6714 - val_accuracy: 0.9037 - lr: 1.0000e-06\n",
            "Epoch 14/15\n",
            "81/81 [==============================] - 15s 187ms/step - loss: 0.3475 - accuracy: 0.9221 - val_loss: 0.6722 - val_accuracy: 0.9028 - lr: 1.0000e-06\n",
            "Epoch 15/15\n",
            "81/81 [==============================] - ETA: 0s - loss: 0.3409 - accuracy: 0.9253\n",
            "Epoch 15: ReduceLROnPlateau reducing learning rate to 1.0000001111620805e-07.\n",
            "81/81 [==============================] - 15s 186ms/step - loss: 0.3409 - accuracy: 0.9253 - val_loss: 0.6732 - val_accuracy: 0.9028 - lr: 1.0000e-06\n"
          ]
        }
      ],
      "source": [
        "logdir, metrics, pruned_model = prune_model(model=model_1,\n",
        "            initial_sparsity=0,\n",
        "            final_sparsity=0.7,\n",
        "            epochs=15)"
      ]
    },
    {
      "cell_type": "markdown",
      "metadata": {
        "id": "hK9Zhi609UiX"
      },
      "source": [
        "logdir, metrics, pruned_model = prune_model(model=model_1,\n",
        "            initial_sparsity=0,\n",
        "            final_sparsity=0.6,\n",
        "            epochs=50)"
      ]
    },
    {
      "cell_type": "markdown",
      "metadata": {
        "id": "vf6rnKePVBky"
      },
      "source": [
        "### Pruned model evaluation"
      ]
    },
    {
      "cell_type": "code",
      "execution_count": 46,
      "metadata": {
        "colab": {
          "base_uri": "https://localhost:8080/"
        },
        "id": "-d5OhgKUVFkD",
        "outputId": "98e1b129-d575-4550-ff62-38c78b97481b"
      },
      "outputs": [
        {
          "output_type": "stream",
          "name": "stdout",
          "text": [
            "35/35 [==============================] - 3s 98ms/step - loss: 0.6732 - accuracy: 0.9028\n"
          ]
        },
        {
          "output_type": "execute_result",
          "data": {
            "text/plain": [
              "[0.673194408416748, 0.9028156399726868]"
            ]
          },
          "metadata": {},
          "execution_count": 46
        }
      ],
      "source": [
        "pruned_model.evaluate(testing_ds)"
      ]
    },
    {
      "cell_type": "markdown",
      "metadata": {
        "id": "T4aNOUmBztTC"
      },
      "source": [
        "### Save the pruned model"
      ]
    },
    {
      "cell_type": "markdown",
      "metadata": {
        "id": "2IWDagv7Kgak"
      },
      "source": [
        "### Save the pruned model"
      ]
    },
    {
      "cell_type": "code",
      "execution_count": 47,
      "metadata": {
        "colab": {
          "base_uri": "https://localhost:8080/"
        },
        "id": "ovfoKutx0B4b",
        "outputId": "862cc762-5860-4b2b-8be3-3e70af7eaa04"
      },
      "outputs": [
        {
          "output_type": "stream",
          "name": "stdout",
          "text": [
            "WARNING:tensorflow:Compiled the loaded model, but the compiled metrics have yet to be built. `model.compile_metrics` will be empty until you train or evaluate the model.\n"
          ]
        },
        {
          "output_type": "stream",
          "name": "stderr",
          "text": [
            "WARNING:tensorflow:Compiled the loaded model, but the compiled metrics have yet to be built. `model.compile_metrics` will be empty until you train or evaluate the model.\n"
          ]
        },
        {
          "output_type": "stream",
          "name": "stdout",
          "text": [
            "Saved pruned Keras model to: /tmp/tmp5f3vpi32.h5\n"
          ]
        }
      ],
      "source": [
        "model_for_export = tfmot.sparsity.keras.strip_pruning(pruned_model)\n",
        "\n",
        "_, pruned_keras_file = tempfile.mkstemp('.h5')\n",
        "tf.keras.models.save_model(model_for_export, pruned_keras_file, include_optimizer=False)\n",
        "print('Saved pruned Keras model to:', pruned_keras_file)"
      ]
    },
    {
      "cell_type": "code",
      "execution_count": 48,
      "metadata": {
        "colab": {
          "base_uri": "https://localhost:8080/"
        },
        "id": "XO4H6iGZVNCS",
        "outputId": "d3583348-22e1-42dc-e0f9-0e996051be75"
      },
      "outputs": [
        {
          "output_type": "stream",
          "name": "stdout",
          "text": [
            "35/35 [==============================] - 3s 97ms/step - loss: 0.6732 - accuracy: 0.9028\n"
          ]
        },
        {
          "output_type": "execute_result",
          "data": {
            "text/plain": [
              "[0.673194408416748, 0.9028156399726868]"
            ]
          },
          "metadata": {},
          "execution_count": 48
        }
      ],
      "source": [
        "pruned_model.evaluate(testing_ds)"
      ]
    },
    {
      "cell_type": "code",
      "execution_count": null,
      "metadata": {
        "colab": {
          "base_uri": "https://localhost:8080/"
        },
        "id": "f-m1rnT3WsOi",
        "outputId": "91c4b08b-75e7-4eb2-abb4-d61c777525be"
      },
      "outputs": [
        {
          "name": "stdout",
          "output_type": "stream",
          "text": [
            "WARNING:tensorflow:No training configuration found in the save file, so the model was *not* compiled. Compile it manually.\n"
          ]
        },
        {
          "name": "stderr",
          "output_type": "stream",
          "text": [
            "WARNING:tensorflow:No training configuration found in the save file, so the model was *not* compiled. Compile it manually.\n"
          ]
        }
      ],
      "source": [
        "#load = tf.keras.models.load_model(\"/tmp/tmpde477j_2.h5\")"
      ]
    },
    {
      "cell_type": "markdown",
      "metadata": {
        "id": "W39Q-GD3zxlY"
      },
      "source": [
        "### Save the tflite model"
      ]
    },
    {
      "cell_type": "code",
      "execution_count": null,
      "metadata": {
        "id": "FULNf03Rl1Jg"
      },
      "outputs": [],
      "source": [
        "#loaded = tf.keras.models.load_model(\"/content/flower_pruned_model_70.h5\")"
      ]
    },
    {
      "cell_type": "code",
      "execution_count": 64,
      "metadata": {
        "colab": {
          "base_uri": "https://localhost:8080/"
        },
        "id": "LgeQbs3hz4hj",
        "outputId": "247f58fc-2175-4d81-c78e-b0a80097f57d"
      },
      "outputs": [
        {
          "output_type": "stream",
          "name": "stdout",
          "text": [
            "INFO:tensorflow:Assets written to: /tmp/tmp22dblc8a/assets\n"
          ]
        },
        {
          "output_type": "stream",
          "name": "stderr",
          "text": [
            "INFO:tensorflow:Assets written to: /tmp/tmp22dblc8a/assets\n",
            "WARNING:absl:Buffer deduplication procedure will be skipped when flatbuffer library is not properly loaded\n"
          ]
        },
        {
          "output_type": "stream",
          "name": "stdout",
          "text": [
            "Saved pruned TFLite model to: /tmp/tmpyjatjzos.tflite\n"
          ]
        }
      ],
      "source": [
        "converter = tf.lite.TFLiteConverter.from_keras_model(model_1)\n",
        "orginal_tflite_model = converter.convert()\n",
        "\n",
        "_, orginal_tflite_file = tempfile.mkstemp('.tflite')\n",
        "\n",
        "with open(orginal_tflite_file, 'wb') as f:\n",
        "  f.write(orginal_tflite_model)\n",
        "\n",
        "print('Saved pruned TFLite model to:', orginal_tflite_file)"
      ]
    },
    {
      "cell_type": "code",
      "execution_count": 50,
      "metadata": {
        "colab": {
          "base_uri": "https://localhost:8080/"
        },
        "id": "DNUzjKJC0hMK",
        "outputId": "b785d420-680c-454e-eb6c-c91b5bf97016"
      },
      "outputs": [
        {
          "output_type": "stream",
          "name": "stdout",
          "text": [
            "INFO:tensorflow:Assets written to: /tmp/tmpeq9o6drj/assets\n"
          ]
        },
        {
          "output_type": "stream",
          "name": "stderr",
          "text": [
            "INFO:tensorflow:Assets written to: /tmp/tmpeq9o6drj/assets\n",
            "WARNING:absl:Buffer deduplication procedure will be skipped when flatbuffer library is not properly loaded\n"
          ]
        },
        {
          "output_type": "stream",
          "name": "stdout",
          "text": [
            "Saved pruned TFLite model to: /tmp/tmprc9dhz7o.tflite\n"
          ]
        }
      ],
      "source": [
        "converter = tf.lite.TFLiteConverter.from_keras_model(model_for_export)\n",
        "pruned_tflite_model = converter.convert()\n",
        "\n",
        "_, pruned_tflite_file = tempfile.mkstemp('.tflite')\n",
        "\n",
        "with open(pruned_tflite_file, 'wb') as f:\n",
        "  f.write(pruned_tflite_model)\n",
        "\n",
        "print('Saved pruned TFLite model to:', pruned_tflite_file)"
      ]
    },
    {
      "cell_type": "markdown",
      "metadata": {
        "id": "JSE1pp45yrNY"
      },
      "source": [
        "### Convert pruned model to `Quantized tflite model`"
      ]
    },
    {
      "cell_type": "code",
      "execution_count": 63,
      "metadata": {
        "colab": {
          "base_uri": "https://localhost:8080/"
        },
        "id": "t5Wfa_JPWQML",
        "outputId": "0b23d7a4-ca3b-472f-ae18-c22cdf0e3288"
      },
      "outputs": [
        {
          "output_type": "stream",
          "name": "stdout",
          "text": [
            "INFO:tensorflow:Assets written to: /tmp/tmpo0zym97b/assets\n"
          ]
        },
        {
          "output_type": "stream",
          "name": "stderr",
          "text": [
            "INFO:tensorflow:Assets written to: /tmp/tmpo0zym97b/assets\n",
            "WARNING:absl:Buffer deduplication procedure will be skipped when flatbuffer library is not properly loaded\n"
          ]
        },
        {
          "output_type": "stream",
          "name": "stdout",
          "text": [
            "Saved quantized and pruned TFLite model to: /tmp/tmpwyy5s70j.tflite\n"
          ]
        }
      ],
      "source": [
        "converter = tf.lite.TFLiteConverter.from_keras_model(model_for_export)\n",
        "converter.optimizations = [tf.lite.Optimize.DEFAULT]\n",
        "\n",
        "quantized_and_pruned_tflite_model = converter.convert()\n",
        "\n",
        "_, quantized_and_pruned_tflite_file = tempfile.mkstemp('.tflite')\n",
        "\n",
        "with open(quantized_and_pruned_tflite_file, 'wb') as f:\n",
        "  f.write(quantized_and_pruned_tflite_model)\n",
        "\n",
        "print('Saved quantized and pruned TFLite model to:', quantized_and_pruned_tflite_file)"
      ]
    },
    {
      "cell_type": "code",
      "execution_count": 52,
      "metadata": {
        "id": "EqcXSwJB1aJR"
      },
      "outputs": [],
      "source": [
        "def benchmark_tflite(val_dir, tflite_model, class_names=class_names, image_size=IMG_SIZE):\n",
        "  interpreter = tf.lite.Interpreter(model_content=tflite_model)\n",
        "  interpreter.allocate_tensors()\n",
        "  input_index = interpreter.get_input_details()[0][\"index\"]\n",
        "  output_index = interpreter.get_output_details()[0][\"index\"]\n",
        "  file_count = 0\n",
        "  infer_times = []\n",
        "  for (root, dirs, files) in os.walk(val_dir):\n",
        "    for name in files:\n",
        "      if name.endswith(\".jpg\"):\n",
        "        filename = os.path.join(root, name)\n",
        "        if file_count < 1 :\n",
        "          init_timer_start = time.time()\n",
        "          img = (np.array(Image.open(filename).resize(image_size))).astype(np.float32)\n",
        "          img = np.expand_dims(img, axis=0)\n",
        "          #img = np.expand_dims(img, axis=3)\n",
        "          #init_timer_start = time.time()\n",
        "          interpreter.set_tensor(input_index, img)\n",
        "          interpreter.invoke()\n",
        "          output = interpreter.tensor(output_index)\n",
        "          pred_class = class_names[int(np.argmax(output()[0]))]\n",
        "          init_timer_end = time.time()\n",
        "          init_timer = init_timer_end - init_timer_start\n",
        "          file_count+=1\n",
        "        else:\n",
        "          timer_start = time.time()\n",
        "          img = (np.array(Image.open(filename).resize(image_size))).astype(np.float32)\n",
        "          img = np.expand_dims(img, axis=0)\n",
        "          interpreter.set_tensor(input_index, img)\n",
        "          interpreter.invoke()\n",
        "          output = interpreter.tensor(output_index)\n",
        "          pred_class = class_names[int(np.argmax(output()[0]))]\n",
        "          timer_end = time.time()\n",
        "          infer_times.append((timer_end - timer_start))\n",
        "          file_count+=1\n",
        "\n",
        "  return init_timer, np.mean(infer_times), np.std(infer_times)"
      ]
    },
    {
      "cell_type": "markdown",
      "metadata": {
        "id": "QGtxaQ6ByC8Z"
      },
      "source": [
        "### Benchmark of the orginal model"
      ]
    },
    {
      "cell_type": "code",
      "execution_count": null,
      "metadata": {
        "colab": {
          "base_uri": "https://localhost:8080/"
        },
        "id": "MdYkT4bBxPK-",
        "outputId": "991416a9-837e-426a-aa5a-9fb9490f5dea"
      },
      "outputs": [
        {
          "name": "stdout",
          "output_type": "stream",
          "text": [
            "The first image takes 1536.45 ms\n",
            "The average time taken per 99 images 60.31 ms\n",
            "The standard deviation of samples is 5.01 ms\n"
          ]
        }
      ],
      "source": [
        "init_time, avg_time, std = benchmark(val_dir=benchmark_dir,\n",
        "          model=model_1)\n",
        "print(f\"The first image takes {init_time * 1000:.2f} ms\")\n",
        "print(f\"The average time taken per 99 images {avg_time * 1000:.2f} ms\")\n",
        "print(f\"The standard deviation of samples is {std * 1000:.2f} ms\")"
      ]
    },
    {
      "cell_type": "code",
      "execution_count": null,
      "metadata": {
        "colab": {
          "base_uri": "https://localhost:8080/"
        },
        "id": "WrqCSkTfOzQa",
        "outputId": "a2d28600-4050-47af-fece-7ebb1779eb6c"
      },
      "outputs": [
        {
          "name": "stdout",
          "output_type": "stream",
          "text": [
            "The first image takes 68.38 ms\n",
            "The average time taken per 99 images 70.06 ms\n",
            "The standard deviation of samples is 59.72 ms\n"
          ]
        }
      ],
      "source": [
        "init_time, avg_time, std = benchmark(val_dir=benchmark_dir,\n",
        "          model=model_for_export)\n",
        "print(f\"The first image takes {init_time * 1000:.2f} ms\")\n",
        "print(f\"The average time taken per 99 images {avg_time * 1000:.2f} ms\")\n",
        "print(f\"The standard deviation of samples is {std * 1000:.2f} ms\")"
      ]
    },
    {
      "cell_type": "markdown",
      "metadata": {
        "id": "21SWHf6xyKok"
      },
      "source": [
        "### Benchmark of the pruned tflite model"
      ]
    },
    {
      "cell_type": "code",
      "execution_count": 56,
      "metadata": {
        "colab": {
          "base_uri": "https://localhost:8080/"
        },
        "id": "FVu28HskikNK",
        "outputId": "b31018d7-ec30-4546-b383-d462ad210bb1"
      },
      "outputs": [
        {
          "output_type": "stream",
          "name": "stdout",
          "text": [
            "The first image takes 464.96 ms\n",
            "The average time taken per 99 images 459.80 ms\n",
            "The standard deviation of samples is 39.13 ms\n"
          ]
        }
      ],
      "source": [
        "init_time, avg_time, std = benchmark_tflite(val_dir=benchmark_dir,\n",
        "          tflite_model=orginal_tflite_model)\n",
        "print(f\"The first image takes {init_time * 1000:.2f} ms\")\n",
        "print(f\"The average time taken per 99 images {avg_time * 1000:.2f} ms\")\n",
        "print(f\"The standard deviation of samples is {std * 1000:.2f} ms\")"
      ]
    },
    {
      "cell_type": "markdown",
      "metadata": {
        "id": "Ij6NTa4pxZhn"
      },
      "source": [
        "### Bnechmark quantized pruned model"
      ]
    },
    {
      "cell_type": "code",
      "execution_count": null,
      "metadata": {
        "id": "iOZRVc2QxVAe"
      },
      "outputs": [],
      "source": [
        "init_time, avg_time, std = benchmark_tflite(val_dir=benchmark_dir,\n",
        "          tflite_model=quanti)\n",
        "print(f\"The first image takes {init_time * 1000:.2f} ms\")\n",
        "print(f\"The average time taken per 99 images {avg_time * 1000:.2f} ms\")\n",
        "print(f\"The standard deviation of samples is {std * 1000:.2f} ms\")"
      ]
    },
    {
      "cell_type": "markdown",
      "metadata": {
        "id": "svRg6psos8bo"
      },
      "source": [
        "### Get details of the pruned tflite model"
      ]
    },
    {
      "cell_type": "code",
      "execution_count": null,
      "metadata": {
        "id": "16DqSiXvQj5h"
      },
      "outputs": [],
      "source": [
        "pruned_tflite_interpreter = tf.lite.Interpreter(model_content=pruned_tflite_model)\n",
        "pruned_tflite_interpreter.allocate_tensors()"
      ]
    },
    {
      "cell_type": "code",
      "execution_count": null,
      "metadata": {
        "colab": {
          "base_uri": "https://localhost:8080/"
        },
        "id": "t80r5F-GXQJE",
        "outputId": "5f902cd1-f67f-4909-8fe9-0f873dc898bc"
      },
      "outputs": [
        {
          "name": "stdout",
          "output_type": "stream",
          "text": [
            "INPUT/OUTPUT DETAILS BEFORE RESIZING\n",
            "Input:  [  1 300 300   3]\n",
            "Output:  [1 5]\n"
          ]
        }
      ],
      "source": [
        "input_details = pruned_tflite_interpreter.get_input_details()\n",
        "output_details = pruned_tflite_interpreter.get_output_details()\n",
        "\n",
        "print(\"INPUT/OUTPUT DETAILS BEFORE RESIZING\")\n",
        "print(\"Input: \", input_details[0][\"shape\"])\n",
        "print(\"Output: \", output_details[0][\"shape\"])"
      ]
    },
    {
      "cell_type": "code",
      "execution_count": null,
      "metadata": {
        "colab": {
          "base_uri": "https://localhost:8080/"
        },
        "id": "Da_R4OYlXi5C",
        "outputId": "a30d2600-c128-457c-bfc9-c38d35b27b29"
      },
      "outputs": [
        {
          "name": "stdout",
          "output_type": "stream",
          "text": [
            "INPUT/OUTPUT DETAILS AFTER RESIZING\n",
            "Input:  [ 32 300 300   3]\n",
            "Output:  [32  5]\n"
          ]
        }
      ],
      "source": [
        "# Resize the inputs and ouputs for batches\n",
        "pruned_tflite_interpreter.resize_tensor_input(input_details[0][\"index\"], (BATCH_SIZE, 300, 300, 3))\n",
        "pruned_tflite_interpreter.resize_tensor_input(output_details[0][\"index\"], (BATCH_SIZE, 5))\n",
        "pruned_tflite_interpreter.allocate_tensors()\n",
        "\n",
        "input_details = pruned_tflite_interpreter.get_input_details()\n",
        "output_details = pruned_tflite_interpreter.get_output_details()\n",
        "\n",
        "print(\"INPUT/OUTPUT DETAILS AFTER RESIZING\")\n",
        "print(\"Input: \", input_details[0][\"shape\"])\n",
        "print(\"Output: \", output_details[0][\"shape\"])"
      ]
    },
    {
      "cell_type": "code",
      "execution_count": null,
      "metadata": {
        "id": "qb2I0jTjXHwc"
      },
      "outputs": [],
      "source": [
        "def normalize_image(image, label):\n",
        "  image = tf.cast(tf.image.resize(image, IMG_SIZE), tf.float32)\n",
        "  return image,label"
      ]
    },
    {
      "cell_type": "code",
      "execution_count": null,
      "metadata": {
        "colab": {
          "base_uri": "https://localhost:8080/"
        },
        "id": "Z5nMQyyqhf02",
        "outputId": "dc624312-24d2-4b6c-bb3d-4a87ca9d0847"
      },
      "outputs": [
        {
          "name": "stdout",
          "output_type": "stream",
          "text": [
            "(32, 300, 300, 3)\n",
            "(32, 300, 300, 3)\n",
            "tf.Tensor([4 0 1 3 0 3 0 3 1 3 0 1 1 2 4 3 4 2 2 0 0 1 2 2 3 3 3 3 3 1 0 4], shape=(32,), dtype=int64)\n"
          ]
        }
      ],
      "source": [
        "testing_ds = testing_ds.map(normalize_image)\n",
        "test_image_batch, test_label_batch = next(iter(testing_ds))\n",
        "print(test_image_batch.shape)\n",
        "\n",
        "#test_image_batch = np.array(test_image_batch).astype(np.float32)\n",
        "print(test_image_batch.shape)\n",
        "print(test_label_batch)\n"
      ]
    },
    {
      "cell_type": "markdown",
      "metadata": {
        "id": "TjZvRldVBfwq"
      },
      "source": [
        "### Evaluation function for tflite model\n"
      ]
    },
    {
      "cell_type": "code",
      "execution_count": 57,
      "metadata": {
        "id": "I69qbh5aCUuL"
      },
      "outputs": [],
      "source": [
        "import tqdm\n",
        "def evaluate_tflite_model(tflite_model, test_data=testing_ds, BATCH_SIZE=BATCH_SIZE):\n",
        "  toolbar_width = 40\n",
        "  # Assigne the interpreter\n",
        "  interpreter = tf.lite.Interpreter(model_content=tflite_model)\n",
        "  interpreter.allocate_tensors()\n",
        "  # Get input output detals\n",
        "  input_details = interpreter.get_input_details()\n",
        "  output_details = interpreter.get_output_details()\n",
        "  # Resize the inputs and ouputs for batches\n",
        "  # (BATCH_SIZE=32, IMAGE_SHAPE=28, IMAGE_SHAPE=28, CHANNELS=1)\n",
        "  interpreter.resize_tensor_input(input_details[0][\"index\"], (BATCH_SIZE, input_details[0][\"shape\"][1], input_details[0][\"shape\"][2], input_details[0][\"shape\"][3]))\n",
        "  # (BATCH_SIZE=32, NUM_CLASSES=10)\n",
        "  interpreter.resize_tensor_input(output_details[0][\"index\"], (BATCH_SIZE, output_details[0][\"shape\"][1]))\n",
        "  interpreter.allocate_tensors()\n",
        "  print(\"this\")\n",
        "  y_preds = []\n",
        "  y_true = []\n",
        "  for batch in tqdm.tqdm(range(len(test_data))):\n",
        "    time.sleep(0.01)\n",
        "    image_batch, label_batch = next(iter(test_data))\n",
        "    # Run inference\n",
        "    interpreter.set_tensor(input_details[0][\"index\"], image_batch)\n",
        "    interpreter.invoke()\n",
        "    pruned_tflite_pred_probs = interpreter.get_tensor(output_details[0][\"index\"])\n",
        "    pruned_tflite_preds = np.argmax(pruned_tflite_pred_probs, axis=1).tolist()\n",
        "    y_preds += pruned_tflite_preds\n",
        "    label_batch = np.array(label_batch).tolist()\n",
        "    y_true +=label_batch\n",
        "\n",
        "  return accuracy_score(y_true, y_preds)\n"
      ]
    },
    {
      "cell_type": "markdown",
      "metadata": {
        "id": "EaS7rQ-q3a16"
      },
      "source": [
        "### Evaluate the pruned tflite model"
      ]
    },
    {
      "cell_type": "code",
      "execution_count": null,
      "metadata": {
        "colab": {
          "base_uri": "https://localhost:8080/"
        },
        "id": "6RZ8yeSSCVhZ",
        "outputId": "070d7f8f-c7aa-4034-8f48-933815b71101"
      },
      "outputs": [
        {
          "name": "stdout",
          "output_type": "stream",
          "text": [
            "this\n"
          ]
        },
        {
          "name": "stderr",
          "output_type": "stream",
          "text": [
            "100%|██████████| 35/35 [06:43<00:00, 11.54s/it]\n"
          ]
        },
        {
          "data": {
            "text/plain": [
              "0.125"
            ]
          },
          "execution_count": 119,
          "metadata": {},
          "output_type": "execute_result"
        }
      ],
      "source": [
        "evaluate_tflite_model(orginal_tflite_model, test_data=testing_ds)"
      ]
    },
    {
      "cell_type": "code",
      "execution_count": 58,
      "metadata": {
        "colab": {
          "base_uri": "https://localhost:8080/"
        },
        "id": "irJ_i0QHSQrF",
        "outputId": "669763da-667c-4633-c594-1d335baeeb7c"
      },
      "outputs": [
        {
          "output_type": "stream",
          "name": "stdout",
          "text": [
            "this\n"
          ]
        },
        {
          "output_type": "stream",
          "name": "stderr",
          "text": [
            "100%|██████████| 35/35 [08:06<00:00, 13.91s/it]\n"
          ]
        },
        {
          "output_type": "execute_result",
          "data": {
            "text/plain": [
              "0.90625"
            ]
          },
          "metadata": {},
          "execution_count": 58
        }
      ],
      "source": [
        "evaluate_tflite_model(pruned_tflite_model, test_data=testing_ds)"
      ]
    },
    {
      "cell_type": "markdown",
      "metadata": {
        "id": "56HXqwJi3y64"
      },
      "source": [
        "### Evaluate the quantized tflite model"
      ]
    },
    {
      "cell_type": "code",
      "execution_count": null,
      "metadata": {
        "colab": {
          "base_uri": "https://localhost:8080/",
          "height": 363
        },
        "id": "3T3SsCHPCZYv",
        "outputId": "7a056d98-cbb3-4407-f277-cbe8bde20114"
      },
      "outputs": [
        {
          "name": "stdout",
          "output_type": "stream",
          "text": [
            "this\n"
          ]
        },
        {
          "name": "stderr",
          "output_type": "stream",
          "text": [
            "  0%|          | 0/35 [10:06<?, ?it/s]\n"
          ]
        },
        {
          "ename": "KeyboardInterrupt",
          "evalue": "ignored",
          "output_type": "error",
          "traceback": [
            "\u001b[0;31m---------------------------------------------------------------------------\u001b[0m",
            "\u001b[0;31mKeyboardInterrupt\u001b[0m                         Traceback (most recent call last)",
            "\u001b[0;32m<ipython-input-114-76eb2d69bcb6>\u001b[0m in \u001b[0;36m<module>\u001b[0;34m()\u001b[0m\n\u001b[0;32m----> 1\u001b[0;31m \u001b[0mquantized_model_accuracy\u001b[0m \u001b[0;34m=\u001b[0m \u001b[0mevaluate_tflite_model\u001b[0m\u001b[0;34m(\u001b[0m\u001b[0mquantized_and_pruned_tflite_model\u001b[0m\u001b[0;34m,\u001b[0m \u001b[0mtest_data\u001b[0m\u001b[0;34m=\u001b[0m\u001b[0mtesting_ds\u001b[0m\u001b[0;34m)\u001b[0m\u001b[0;34m\u001b[0m\u001b[0;34m\u001b[0m\u001b[0m\n\u001b[0m\u001b[1;32m      2\u001b[0m \u001b[0mquantized_model_accuracy\u001b[0m\u001b[0;34m\u001b[0m\u001b[0;34m\u001b[0m\u001b[0m\n",
            "\u001b[0;32m<ipython-input-112-febcde715c25>\u001b[0m in \u001b[0;36mevaluate_tflite_model\u001b[0;34m(tflite_model, test_data, BATCH_SIZE)\u001b[0m\n\u001b[1;32m     22\u001b[0m     \u001b[0;31m# Run inference\u001b[0m\u001b[0;34m\u001b[0m\u001b[0;34m\u001b[0m\u001b[0;34m\u001b[0m\u001b[0m\n\u001b[1;32m     23\u001b[0m     \u001b[0minterpreter\u001b[0m\u001b[0;34m.\u001b[0m\u001b[0mset_tensor\u001b[0m\u001b[0;34m(\u001b[0m\u001b[0minput_details\u001b[0m\u001b[0;34m[\u001b[0m\u001b[0;36m0\u001b[0m\u001b[0;34m]\u001b[0m\u001b[0;34m[\u001b[0m\u001b[0;34m\"index\"\u001b[0m\u001b[0;34m]\u001b[0m\u001b[0;34m,\u001b[0m \u001b[0mimage_batch\u001b[0m\u001b[0;34m)\u001b[0m\u001b[0;34m\u001b[0m\u001b[0;34m\u001b[0m\u001b[0m\n\u001b[0;32m---> 24\u001b[0;31m     \u001b[0minterpreter\u001b[0m\u001b[0;34m.\u001b[0m\u001b[0minvoke\u001b[0m\u001b[0;34m(\u001b[0m\u001b[0;34m)\u001b[0m\u001b[0;34m\u001b[0m\u001b[0;34m\u001b[0m\u001b[0m\n\u001b[0m\u001b[1;32m     25\u001b[0m     \u001b[0mpruned_tflite_pred_probs\u001b[0m \u001b[0;34m=\u001b[0m \u001b[0minterpreter\u001b[0m\u001b[0;34m.\u001b[0m\u001b[0mget_tensor\u001b[0m\u001b[0;34m(\u001b[0m\u001b[0moutput_details\u001b[0m\u001b[0;34m[\u001b[0m\u001b[0;36m0\u001b[0m\u001b[0;34m]\u001b[0m\u001b[0;34m[\u001b[0m\u001b[0;34m\"index\"\u001b[0m\u001b[0;34m]\u001b[0m\u001b[0;34m)\u001b[0m\u001b[0;34m\u001b[0m\u001b[0;34m\u001b[0m\u001b[0m\n\u001b[1;32m     26\u001b[0m     \u001b[0mpruned_tflite_preds\u001b[0m \u001b[0;34m=\u001b[0m \u001b[0mnp\u001b[0m\u001b[0;34m.\u001b[0m\u001b[0margmax\u001b[0m\u001b[0;34m(\u001b[0m\u001b[0mpruned_tflite_pred_probs\u001b[0m\u001b[0;34m,\u001b[0m \u001b[0maxis\u001b[0m\u001b[0;34m=\u001b[0m\u001b[0;36m1\u001b[0m\u001b[0;34m)\u001b[0m\u001b[0;34m.\u001b[0m\u001b[0mtolist\u001b[0m\u001b[0;34m(\u001b[0m\u001b[0;34m)\u001b[0m\u001b[0;34m\u001b[0m\u001b[0;34m\u001b[0m\u001b[0m\n",
            "\u001b[0;32m/usr/local/lib/python3.7/dist-packages/tensorflow/lite/python/interpreter.py\u001b[0m in \u001b[0;36minvoke\u001b[0;34m(self)\u001b[0m\n\u001b[1;32m    914\u001b[0m     \"\"\"\n\u001b[1;32m    915\u001b[0m     \u001b[0mself\u001b[0m\u001b[0;34m.\u001b[0m\u001b[0m_ensure_safe\u001b[0m\u001b[0;34m(\u001b[0m\u001b[0;34m)\u001b[0m\u001b[0;34m\u001b[0m\u001b[0;34m\u001b[0m\u001b[0m\n\u001b[0;32m--> 916\u001b[0;31m     \u001b[0mself\u001b[0m\u001b[0;34m.\u001b[0m\u001b[0m_interpreter\u001b[0m\u001b[0;34m.\u001b[0m\u001b[0mInvoke\u001b[0m\u001b[0;34m(\u001b[0m\u001b[0;34m)\u001b[0m\u001b[0;34m\u001b[0m\u001b[0;34m\u001b[0m\u001b[0m\n\u001b[0m\u001b[1;32m    917\u001b[0m \u001b[0;34m\u001b[0m\u001b[0m\n\u001b[1;32m    918\u001b[0m   \u001b[0;32mdef\u001b[0m \u001b[0mreset_all_variables\u001b[0m\u001b[0;34m(\u001b[0m\u001b[0mself\u001b[0m\u001b[0;34m)\u001b[0m\u001b[0;34m:\u001b[0m\u001b[0;34m\u001b[0m\u001b[0;34m\u001b[0m\u001b[0m\n",
            "\u001b[0;31mKeyboardInterrupt\u001b[0m: "
          ]
        }
      ],
      "source": [
        "quantized_model_accuracy = evaluate_tflite_model(quantized_and_pruned_tflite_model, test_data=testing_ds)\n",
        "quantized_model_accuracy"
      ]
    },
    {
      "cell_type": "markdown",
      "metadata": {
        "id": "bTrQnzmdxVuo"
      },
      "source": [
        "### Download the quantized model"
      ]
    },
    {
      "cell_type": "code",
      "execution_count": 59,
      "metadata": {
        "id": "Qdaa-TlJ04sq"
      },
      "outputs": [],
      "source": [
        "# Function to rename and download a model\n",
        "def download_model(model_file, new_name):\n",
        "  os.rename(model_file, new_name)\n",
        "  files.download(new_name)"
      ]
    },
    {
      "cell_type": "code",
      "execution_count": 65,
      "metadata": {
        "colab": {
          "base_uri": "https://localhost:8080/",
          "height": 17
        },
        "id": "WcT0IMnStGe8",
        "outputId": "c43264f2-2c0c-4734-f7a6-ca609f519931"
      },
      "outputs": [
        {
          "output_type": "display_data",
          "data": {
            "text/plain": [
              "<IPython.core.display.Javascript object>"
            ],
            "application/javascript": [
              "\n",
              "    async function download(id, filename, size) {\n",
              "      if (!google.colab.kernel.accessAllowed) {\n",
              "        return;\n",
              "      }\n",
              "      const div = document.createElement('div');\n",
              "      const label = document.createElement('label');\n",
              "      label.textContent = `Downloading \"${filename}\": `;\n",
              "      div.appendChild(label);\n",
              "      const progress = document.createElement('progress');\n",
              "      progress.max = size;\n",
              "      div.appendChild(progress);\n",
              "      document.body.appendChild(div);\n",
              "\n",
              "      const buffers = [];\n",
              "      let downloaded = 0;\n",
              "\n",
              "      const channel = await google.colab.kernel.comms.open(id);\n",
              "      // Send a message to notify the kernel that we're ready.\n",
              "      channel.send({})\n",
              "\n",
              "      for await (const message of channel.messages) {\n",
              "        // Send a message to notify the kernel that we're ready.\n",
              "        channel.send({})\n",
              "        if (message.buffers) {\n",
              "          for (const buffer of message.buffers) {\n",
              "            buffers.push(buffer);\n",
              "            downloaded += buffer.byteLength;\n",
              "            progress.value = downloaded;\n",
              "          }\n",
              "        }\n",
              "      }\n",
              "      const blob = new Blob(buffers, {type: 'application/binary'});\n",
              "      const a = document.createElement('a');\n",
              "      a.href = window.URL.createObjectURL(blob);\n",
              "      a.download = filename;\n",
              "      div.appendChild(a);\n",
              "      a.click();\n",
              "      div.remove();\n",
              "    }\n",
              "  "
            ]
          },
          "metadata": {}
        },
        {
          "output_type": "display_data",
          "data": {
            "text/plain": [
              "<IPython.core.display.Javascript object>"
            ],
            "application/javascript": [
              "download(\"download_0184d938-b48e-46d6-bcb1-b2f5d6f67f3a\", \"flower_quantized_pruned_model.tflite\", 24153424)"
            ]
          },
          "metadata": {}
        }
      ],
      "source": [
        "quantized_file_name = \"flower_quantized_pruned_model.tflite\"\n",
        "download_model(quantized_and_pruned_tflite_file, quantized_file_name)"
      ]
    },
    {
      "cell_type": "markdown",
      "metadata": {
        "id": "7JG4OGQB0oMi"
      },
      "source": [
        "### Download the pruned tflite model"
      ]
    },
    {
      "cell_type": "code",
      "execution_count": 61,
      "metadata": {
        "colab": {
          "base_uri": "https://localhost:8080/",
          "height": 17
        },
        "id": "o_Q5kqxScWxw",
        "outputId": "2ecf24f7-89a0-4f52-fef2-ddeea7c437fb"
      },
      "outputs": [
        {
          "output_type": "display_data",
          "data": {
            "text/plain": [
              "<IPython.core.display.Javascript object>"
            ],
            "application/javascript": [
              "\n",
              "    async function download(id, filename, size) {\n",
              "      if (!google.colab.kernel.accessAllowed) {\n",
              "        return;\n",
              "      }\n",
              "      const div = document.createElement('div');\n",
              "      const label = document.createElement('label');\n",
              "      label.textContent = `Downloading \"${filename}\": `;\n",
              "      div.appendChild(label);\n",
              "      const progress = document.createElement('progress');\n",
              "      progress.max = size;\n",
              "      div.appendChild(progress);\n",
              "      document.body.appendChild(div);\n",
              "\n",
              "      const buffers = [];\n",
              "      let downloaded = 0;\n",
              "\n",
              "      const channel = await google.colab.kernel.comms.open(id);\n",
              "      // Send a message to notify the kernel that we're ready.\n",
              "      channel.send({})\n",
              "\n",
              "      for await (const message of channel.messages) {\n",
              "        // Send a message to notify the kernel that we're ready.\n",
              "        channel.send({})\n",
              "        if (message.buffers) {\n",
              "          for (const buffer of message.buffers) {\n",
              "            buffers.push(buffer);\n",
              "            downloaded += buffer.byteLength;\n",
              "            progress.value = downloaded;\n",
              "          }\n",
              "        }\n",
              "      }\n",
              "      const blob = new Blob(buffers, {type: 'application/binary'});\n",
              "      const a = document.createElement('a');\n",
              "      a.href = window.URL.createObjectURL(blob);\n",
              "      a.download = filename;\n",
              "      div.appendChild(a);\n",
              "      a.click();\n",
              "      div.remove();\n",
              "    }\n",
              "  "
            ]
          },
          "metadata": {}
        },
        {
          "output_type": "display_data",
          "data": {
            "text/plain": [
              "<IPython.core.display.Javascript object>"
            ],
            "application/javascript": [
              "download(\"download_4c31fb22-480d-4a67-b8e5-f8e44cb1c226\", \"flower_pruned_tflite_model.tflite\", 94013828)"
            ]
          },
          "metadata": {}
        }
      ],
      "source": [
        "pruned_tflite_file_name = \"flower_pruned_tflite_model.tflite\"\n",
        "download_model(pruned_tflite_file, pruned_tflite_file_name)"
      ]
    },
    {
      "cell_type": "code",
      "source": [
        "orginal_tflite_file_name = \"flower_orginal_tflite_model.tflite\"\n",
        "download_model(orginal_tflite_file, orginal_tflite_file_name)"
      ],
      "metadata": {
        "colab": {
          "base_uri": "https://localhost:8080/",
          "height": 17
        },
        "id": "euVGG5ynz9_L",
        "outputId": "57a04be5-7d58-47ef-e31d-298affd22e0c"
      },
      "execution_count": 67,
      "outputs": [
        {
          "output_type": "display_data",
          "data": {
            "text/plain": [
              "<IPython.core.display.Javascript object>"
            ],
            "application/javascript": [
              "\n",
              "    async function download(id, filename, size) {\n",
              "      if (!google.colab.kernel.accessAllowed) {\n",
              "        return;\n",
              "      }\n",
              "      const div = document.createElement('div');\n",
              "      const label = document.createElement('label');\n",
              "      label.textContent = `Downloading \"${filename}\": `;\n",
              "      div.appendChild(label);\n",
              "      const progress = document.createElement('progress');\n",
              "      progress.max = size;\n",
              "      div.appendChild(progress);\n",
              "      document.body.appendChild(div);\n",
              "\n",
              "      const buffers = [];\n",
              "      let downloaded = 0;\n",
              "\n",
              "      const channel = await google.colab.kernel.comms.open(id);\n",
              "      // Send a message to notify the kernel that we're ready.\n",
              "      channel.send({})\n",
              "\n",
              "      for await (const message of channel.messages) {\n",
              "        // Send a message to notify the kernel that we're ready.\n",
              "        channel.send({})\n",
              "        if (message.buffers) {\n",
              "          for (const buffer of message.buffers) {\n",
              "            buffers.push(buffer);\n",
              "            downloaded += buffer.byteLength;\n",
              "            progress.value = downloaded;\n",
              "          }\n",
              "        }\n",
              "      }\n",
              "      const blob = new Blob(buffers, {type: 'application/binary'});\n",
              "      const a = document.createElement('a');\n",
              "      a.href = window.URL.createObjectURL(blob);\n",
              "      a.download = filename;\n",
              "      div.appendChild(a);\n",
              "      a.click();\n",
              "      div.remove();\n",
              "    }\n",
              "  "
            ]
          },
          "metadata": {}
        },
        {
          "output_type": "display_data",
          "data": {
            "text/plain": [
              "<IPython.core.display.Javascript object>"
            ],
            "application/javascript": [
              "download(\"download_7e9f9bfe-ffb8-411d-95df-9c03f268d9b0\", \"flower_orginal_tflite_model.tflite\", 94013828)"
            ]
          },
          "metadata": {}
        }
      ]
    },
    {
      "cell_type": "markdown",
      "metadata": {
        "id": "kuxN10OF2-xe"
      },
      "source": [
        "### Download th pruned model"
      ]
    },
    {
      "cell_type": "code",
      "execution_count": 62,
      "metadata": {
        "colab": {
          "base_uri": "https://localhost:8080/",
          "height": 17
        },
        "id": "jjCmT6If23y3",
        "outputId": "1b731752-e390-450b-b6a7-f63d0b1f4352"
      },
      "outputs": [
        {
          "output_type": "display_data",
          "data": {
            "text/plain": [
              "<IPython.core.display.Javascript object>"
            ],
            "application/javascript": [
              "\n",
              "    async function download(id, filename, size) {\n",
              "      if (!google.colab.kernel.accessAllowed) {\n",
              "        return;\n",
              "      }\n",
              "      const div = document.createElement('div');\n",
              "      const label = document.createElement('label');\n",
              "      label.textContent = `Downloading \"${filename}\": `;\n",
              "      div.appendChild(label);\n",
              "      const progress = document.createElement('progress');\n",
              "      progress.max = size;\n",
              "      div.appendChild(progress);\n",
              "      document.body.appendChild(div);\n",
              "\n",
              "      const buffers = [];\n",
              "      let downloaded = 0;\n",
              "\n",
              "      const channel = await google.colab.kernel.comms.open(id);\n",
              "      // Send a message to notify the kernel that we're ready.\n",
              "      channel.send({})\n",
              "\n",
              "      for await (const message of channel.messages) {\n",
              "        // Send a message to notify the kernel that we're ready.\n",
              "        channel.send({})\n",
              "        if (message.buffers) {\n",
              "          for (const buffer of message.buffers) {\n",
              "            buffers.push(buffer);\n",
              "            downloaded += buffer.byteLength;\n",
              "            progress.value = downloaded;\n",
              "          }\n",
              "        }\n",
              "      }\n",
              "      const blob = new Blob(buffers, {type: 'application/binary'});\n",
              "      const a = document.createElement('a');\n",
              "      a.href = window.URL.createObjectURL(blob);\n",
              "      a.download = filename;\n",
              "      div.appendChild(a);\n",
              "      a.click();\n",
              "      div.remove();\n",
              "    }\n",
              "  "
            ]
          },
          "metadata": {}
        },
        {
          "output_type": "display_data",
          "data": {
            "text/plain": [
              "<IPython.core.display.Javascript object>"
            ],
            "application/javascript": [
              "download(\"download_de8ae1ae-08da-49c9-90bc-30e4d874a8f8\", \"flower_pruned_model_70.h5\", 94719160)"
            ]
          },
          "metadata": {}
        }
      ],
      "source": [
        "pruned_file_name = \"flower_pruned_model_70.h5\"\n",
        "download_model(pruned_keras_file, pruned_file_name)"
      ]
    },
    {
      "cell_type": "code",
      "execution_count": null,
      "metadata": {
        "colab": {
          "base_uri": "https://localhost:8080/",
          "height": 328
        },
        "id": "4H_2_XuEitOy",
        "outputId": "3e7ba0fe-2d55-4eb5-b9ae-f775dabf6ed9"
      },
      "outputs": [
        {
          "ename": "ValueError",
          "evalue": "ignored",
          "output_type": "error",
          "traceback": [
            "\u001b[0;31m---------------------------------------------------------------------------\u001b[0m",
            "\u001b[0;31mValueError\u001b[0m                                Traceback (most recent call last)",
            "\u001b[0;32m<ipython-input-116-aaae7dadcfcb>\u001b[0m in \u001b[0;36m<module>\u001b[0;34m()\u001b[0m\n\u001b[0;32m----> 1\u001b[0;31m \u001b[0mload\u001b[0m \u001b[0;34m=\u001b[0m \u001b[0mtf\u001b[0m\u001b[0;34m.\u001b[0m\u001b[0mkeras\u001b[0m\u001b[0;34m.\u001b[0m\u001b[0mmodels\u001b[0m\u001b[0;34m.\u001b[0m\u001b[0mload_model\u001b[0m\u001b[0;34m(\u001b[0m\u001b[0;34m\"/content/flower_pruned_model_70.h5\"\u001b[0m\u001b[0;34m)\u001b[0m\u001b[0;34m\u001b[0m\u001b[0;34m\u001b[0m\u001b[0m\n\u001b[0m",
            "\u001b[0;32m/usr/local/lib/python3.7/dist-packages/keras/utils/traceback_utils.py\u001b[0m in \u001b[0;36merror_handler\u001b[0;34m(*args, **kwargs)\u001b[0m\n\u001b[1;32m     65\u001b[0m     \u001b[0;32mexcept\u001b[0m \u001b[0mException\u001b[0m \u001b[0;32mas\u001b[0m \u001b[0me\u001b[0m\u001b[0;34m:\u001b[0m  \u001b[0;31m# pylint: disable=broad-except\u001b[0m\u001b[0;34m\u001b[0m\u001b[0;34m\u001b[0m\u001b[0m\n\u001b[1;32m     66\u001b[0m       \u001b[0mfiltered_tb\u001b[0m \u001b[0;34m=\u001b[0m \u001b[0m_process_traceback_frames\u001b[0m\u001b[0;34m(\u001b[0m\u001b[0me\u001b[0m\u001b[0;34m.\u001b[0m\u001b[0m__traceback__\u001b[0m\u001b[0;34m)\u001b[0m\u001b[0;34m\u001b[0m\u001b[0;34m\u001b[0m\u001b[0m\n\u001b[0;32m---> 67\u001b[0;31m       \u001b[0;32mraise\u001b[0m \u001b[0me\u001b[0m\u001b[0;34m.\u001b[0m\u001b[0mwith_traceback\u001b[0m\u001b[0;34m(\u001b[0m\u001b[0mfiltered_tb\u001b[0m\u001b[0;34m)\u001b[0m \u001b[0;32mfrom\u001b[0m \u001b[0;32mNone\u001b[0m\u001b[0;34m\u001b[0m\u001b[0;34m\u001b[0m\u001b[0m\n\u001b[0m\u001b[1;32m     68\u001b[0m     \u001b[0;32mfinally\u001b[0m\u001b[0;34m:\u001b[0m\u001b[0;34m\u001b[0m\u001b[0;34m\u001b[0m\u001b[0m\n\u001b[1;32m     69\u001b[0m       \u001b[0;32mdel\u001b[0m \u001b[0mfiltered_tb\u001b[0m\u001b[0;34m\u001b[0m\u001b[0;34m\u001b[0m\u001b[0m\n",
            "\u001b[0;32m/usr/local/lib/python3.7/dist-packages/keras/utils/generic_utils.py\u001b[0m in \u001b[0;36mclass_and_config_for_serialized_keras_object\u001b[0;34m(config, module_objects, custom_objects, printable_module_name)\u001b[0m\n\u001b[1;32m    561\u001b[0m   \u001b[0;32mif\u001b[0m \u001b[0mcls\u001b[0m \u001b[0;32mis\u001b[0m \u001b[0;32mNone\u001b[0m\u001b[0;34m:\u001b[0m\u001b[0;34m\u001b[0m\u001b[0;34m\u001b[0m\u001b[0m\n\u001b[1;32m    562\u001b[0m     raise ValueError(\n\u001b[0;32m--> 563\u001b[0;31m         \u001b[0;34mf'Unknown {printable_module_name}: {class_name}. Please ensure this '\u001b[0m\u001b[0;34m\u001b[0m\u001b[0;34m\u001b[0m\u001b[0m\n\u001b[0m\u001b[1;32m    564\u001b[0m         \u001b[0;34m'object is passed to the `custom_objects` argument. See '\u001b[0m\u001b[0;34m\u001b[0m\u001b[0;34m\u001b[0m\u001b[0m\n\u001b[1;32m    565\u001b[0m         \u001b[0;34m'https://www.tensorflow.org/guide/keras/save_and_serialize'\u001b[0m\u001b[0;34m\u001b[0m\u001b[0;34m\u001b[0m\u001b[0m\n",
            "\u001b[0;31mValueError\u001b[0m: Unknown layer: PruneLowMagnitude. Please ensure this object is passed to the `custom_objects` argument. See https://www.tensorflow.org/guide/keras/save_and_serialize#registering_the_custom_object for details."
          ]
        }
      ],
      "source": [
        "load = tf.keras.models.load_model(\"/content/flower_pruned_model_70.h5\")"
      ]
    },
    {
      "cell_type": "code",
      "execution_count": null,
      "metadata": {
        "id": "Dx0pEShbrOSj"
      },
      "outputs": [],
      "source": [
        "pruned_model.save(\"flower_pruned_model_70.h5\")"
      ]
    },
    {
      "cell_type": "code",
      "execution_count": null,
      "metadata": {
        "id": "6fRKzZOwrsaR"
      },
      "outputs": [],
      "source": [
        ""
      ]
    }
  ],
  "metadata": {
    "accelerator": "GPU",
    "colab": {
      "collapsed_sections": [],
      "machine_shape": "hm",
      "name": "tf-flower-resnet50.ipynb",
      "provenance": []
    },
    "gpuClass": "standard",
    "kernelspec": {
      "display_name": "Python 3",
      "name": "python3"
    },
    "language_info": {
      "name": "python"
    },
    "widgets": {
      "application/vnd.jupyter.widget-state+json": {
        "e57e5fa25a714299b846b1daef2a3b74": {
          "model_module": "@jupyter-widgets/controls",
          "model_name": "HBoxModel",
          "model_module_version": "1.5.0",
          "state": {
            "_dom_classes": [],
            "_model_module": "@jupyter-widgets/controls",
            "_model_module_version": "1.5.0",
            "_model_name": "HBoxModel",
            "_view_count": null,
            "_view_module": "@jupyter-widgets/controls",
            "_view_module_version": "1.5.0",
            "_view_name": "HBoxView",
            "box_style": "",
            "children": [
              "IPY_MODEL_328fdc1ed145463d9f18a0eb3c2fc729",
              "IPY_MODEL_99cebc02c2a843e4b718e977106b53b7",
              "IPY_MODEL_51cfecd905a94da989e09f9d4cbadde9"
            ],
            "layout": "IPY_MODEL_fd0f46c9777743828e2c951bbde1d16e"
          }
        },
        "328fdc1ed145463d9f18a0eb3c2fc729": {
          "model_module": "@jupyter-widgets/controls",
          "model_name": "HTMLModel",
          "model_module_version": "1.5.0",
          "state": {
            "_dom_classes": [],
            "_model_module": "@jupyter-widgets/controls",
            "_model_module_version": "1.5.0",
            "_model_name": "HTMLModel",
            "_view_count": null,
            "_view_module": "@jupyter-widgets/controls",
            "_view_module_version": "1.5.0",
            "_view_name": "HTMLView",
            "description": "",
            "description_tooltip": null,
            "layout": "IPY_MODEL_28984215e0c141f58bc9ed06e227929f",
            "placeholder": "​",
            "style": "IPY_MODEL_8890073846a0405893903ac0ff899901",
            "value": "Dl Completed...: 100%"
          }
        },
        "99cebc02c2a843e4b718e977106b53b7": {
          "model_module": "@jupyter-widgets/controls",
          "model_name": "FloatProgressModel",
          "model_module_version": "1.5.0",
          "state": {
            "_dom_classes": [],
            "_model_module": "@jupyter-widgets/controls",
            "_model_module_version": "1.5.0",
            "_model_name": "FloatProgressModel",
            "_view_count": null,
            "_view_module": "@jupyter-widgets/controls",
            "_view_module_version": "1.5.0",
            "_view_name": "ProgressView",
            "bar_style": "success",
            "description": "",
            "description_tooltip": null,
            "layout": "IPY_MODEL_61867f3a310947b59649426ba7854f59",
            "max": 5,
            "min": 0,
            "orientation": "horizontal",
            "style": "IPY_MODEL_6217149ac3324c048791e2ea90aacd82",
            "value": 5
          }
        },
        "51cfecd905a94da989e09f9d4cbadde9": {
          "model_module": "@jupyter-widgets/controls",
          "model_name": "HTMLModel",
          "model_module_version": "1.5.0",
          "state": {
            "_dom_classes": [],
            "_model_module": "@jupyter-widgets/controls",
            "_model_module_version": "1.5.0",
            "_model_name": "HTMLModel",
            "_view_count": null,
            "_view_module": "@jupyter-widgets/controls",
            "_view_module_version": "1.5.0",
            "_view_name": "HTMLView",
            "description": "",
            "description_tooltip": null,
            "layout": "IPY_MODEL_67752b2c638d42319a298ce6c950266d",
            "placeholder": "​",
            "style": "IPY_MODEL_ee0b34ac970a4631b68f3df2ce4f3174",
            "value": " 5/5 [00:02&lt;00:00,  1.91 file/s]"
          }
        },
        "fd0f46c9777743828e2c951bbde1d16e": {
          "model_module": "@jupyter-widgets/base",
          "model_name": "LayoutModel",
          "model_module_version": "1.2.0",
          "state": {
            "_model_module": "@jupyter-widgets/base",
            "_model_module_version": "1.2.0",
            "_model_name": "LayoutModel",
            "_view_count": null,
            "_view_module": "@jupyter-widgets/base",
            "_view_module_version": "1.2.0",
            "_view_name": "LayoutView",
            "align_content": null,
            "align_items": null,
            "align_self": null,
            "border": null,
            "bottom": null,
            "display": null,
            "flex": null,
            "flex_flow": null,
            "grid_area": null,
            "grid_auto_columns": null,
            "grid_auto_flow": null,
            "grid_auto_rows": null,
            "grid_column": null,
            "grid_gap": null,
            "grid_row": null,
            "grid_template_areas": null,
            "grid_template_columns": null,
            "grid_template_rows": null,
            "height": null,
            "justify_content": null,
            "justify_items": null,
            "left": null,
            "margin": null,
            "max_height": null,
            "max_width": null,
            "min_height": null,
            "min_width": null,
            "object_fit": null,
            "object_position": null,
            "order": null,
            "overflow": null,
            "overflow_x": null,
            "overflow_y": null,
            "padding": null,
            "right": null,
            "top": null,
            "visibility": null,
            "width": null
          }
        },
        "28984215e0c141f58bc9ed06e227929f": {
          "model_module": "@jupyter-widgets/base",
          "model_name": "LayoutModel",
          "model_module_version": "1.2.0",
          "state": {
            "_model_module": "@jupyter-widgets/base",
            "_model_module_version": "1.2.0",
            "_model_name": "LayoutModel",
            "_view_count": null,
            "_view_module": "@jupyter-widgets/base",
            "_view_module_version": "1.2.0",
            "_view_name": "LayoutView",
            "align_content": null,
            "align_items": null,
            "align_self": null,
            "border": null,
            "bottom": null,
            "display": null,
            "flex": null,
            "flex_flow": null,
            "grid_area": null,
            "grid_auto_columns": null,
            "grid_auto_flow": null,
            "grid_auto_rows": null,
            "grid_column": null,
            "grid_gap": null,
            "grid_row": null,
            "grid_template_areas": null,
            "grid_template_columns": null,
            "grid_template_rows": null,
            "height": null,
            "justify_content": null,
            "justify_items": null,
            "left": null,
            "margin": null,
            "max_height": null,
            "max_width": null,
            "min_height": null,
            "min_width": null,
            "object_fit": null,
            "object_position": null,
            "order": null,
            "overflow": null,
            "overflow_x": null,
            "overflow_y": null,
            "padding": null,
            "right": null,
            "top": null,
            "visibility": null,
            "width": null
          }
        },
        "8890073846a0405893903ac0ff899901": {
          "model_module": "@jupyter-widgets/controls",
          "model_name": "DescriptionStyleModel",
          "model_module_version": "1.5.0",
          "state": {
            "_model_module": "@jupyter-widgets/controls",
            "_model_module_version": "1.5.0",
            "_model_name": "DescriptionStyleModel",
            "_view_count": null,
            "_view_module": "@jupyter-widgets/base",
            "_view_module_version": "1.2.0",
            "_view_name": "StyleView",
            "description_width": ""
          }
        },
        "61867f3a310947b59649426ba7854f59": {
          "model_module": "@jupyter-widgets/base",
          "model_name": "LayoutModel",
          "model_module_version": "1.2.0",
          "state": {
            "_model_module": "@jupyter-widgets/base",
            "_model_module_version": "1.2.0",
            "_model_name": "LayoutModel",
            "_view_count": null,
            "_view_module": "@jupyter-widgets/base",
            "_view_module_version": "1.2.0",
            "_view_name": "LayoutView",
            "align_content": null,
            "align_items": null,
            "align_self": null,
            "border": null,
            "bottom": null,
            "display": null,
            "flex": null,
            "flex_flow": null,
            "grid_area": null,
            "grid_auto_columns": null,
            "grid_auto_flow": null,
            "grid_auto_rows": null,
            "grid_column": null,
            "grid_gap": null,
            "grid_row": null,
            "grid_template_areas": null,
            "grid_template_columns": null,
            "grid_template_rows": null,
            "height": null,
            "justify_content": null,
            "justify_items": null,
            "left": null,
            "margin": null,
            "max_height": null,
            "max_width": null,
            "min_height": null,
            "min_width": null,
            "object_fit": null,
            "object_position": null,
            "order": null,
            "overflow": null,
            "overflow_x": null,
            "overflow_y": null,
            "padding": null,
            "right": null,
            "top": null,
            "visibility": null,
            "width": null
          }
        },
        "6217149ac3324c048791e2ea90aacd82": {
          "model_module": "@jupyter-widgets/controls",
          "model_name": "ProgressStyleModel",
          "model_module_version": "1.5.0",
          "state": {
            "_model_module": "@jupyter-widgets/controls",
            "_model_module_version": "1.5.0",
            "_model_name": "ProgressStyleModel",
            "_view_count": null,
            "_view_module": "@jupyter-widgets/base",
            "_view_module_version": "1.2.0",
            "_view_name": "StyleView",
            "bar_color": null,
            "description_width": ""
          }
        },
        "67752b2c638d42319a298ce6c950266d": {
          "model_module": "@jupyter-widgets/base",
          "model_name": "LayoutModel",
          "model_module_version": "1.2.0",
          "state": {
            "_model_module": "@jupyter-widgets/base",
            "_model_module_version": "1.2.0",
            "_model_name": "LayoutModel",
            "_view_count": null,
            "_view_module": "@jupyter-widgets/base",
            "_view_module_version": "1.2.0",
            "_view_name": "LayoutView",
            "align_content": null,
            "align_items": null,
            "align_self": null,
            "border": null,
            "bottom": null,
            "display": null,
            "flex": null,
            "flex_flow": null,
            "grid_area": null,
            "grid_auto_columns": null,
            "grid_auto_flow": null,
            "grid_auto_rows": null,
            "grid_column": null,
            "grid_gap": null,
            "grid_row": null,
            "grid_template_areas": null,
            "grid_template_columns": null,
            "grid_template_rows": null,
            "height": null,
            "justify_content": null,
            "justify_items": null,
            "left": null,
            "margin": null,
            "max_height": null,
            "max_width": null,
            "min_height": null,
            "min_width": null,
            "object_fit": null,
            "object_position": null,
            "order": null,
            "overflow": null,
            "overflow_x": null,
            "overflow_y": null,
            "padding": null,
            "right": null,
            "top": null,
            "visibility": null,
            "width": null
          }
        },
        "ee0b34ac970a4631b68f3df2ce4f3174": {
          "model_module": "@jupyter-widgets/controls",
          "model_name": "DescriptionStyleModel",
          "model_module_version": "1.5.0",
          "state": {
            "_model_module": "@jupyter-widgets/controls",
            "_model_module_version": "1.5.0",
            "_model_name": "DescriptionStyleModel",
            "_view_count": null,
            "_view_module": "@jupyter-widgets/base",
            "_view_module_version": "1.2.0",
            "_view_name": "StyleView",
            "description_width": ""
          }
        }
      }
    }
  },
  "nbformat": 4,
  "nbformat_minor": 0
}